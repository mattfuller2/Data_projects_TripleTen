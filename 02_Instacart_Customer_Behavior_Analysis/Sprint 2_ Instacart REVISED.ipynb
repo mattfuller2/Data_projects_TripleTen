{
 "cells": [
  {
   "cell_type": "markdown",
   "id": "c78f8180",
   "metadata": {},
   "source": [
    "# Project 2: Analyzing Instacart Customer Data\n",
    "\n",
    "In this project, we will be importing and cleaning data from Kaggle that Instacart uploaded in 2017. This cleaned data will be used to understand Instacart's customer behaviors of when they make purchases, how often they make purchases, what days of the week, and what products are being purchased."
   ]
  },
  {
   "cell_type": "code",
   "execution_count": 1,
   "id": "34d5b4bd",
   "metadata": {},
   "outputs": [],
   "source": [
    "import pandas as pd\n",
    "from matplotlib import pyplot as plt"
   ]
  },
  {
   "cell_type": "code",
   "execution_count": 2,
   "id": "1c0e5421",
   "metadata": {},
   "outputs": [],
   "source": [
    "# Load the datasets\n",
    "orders = pd.read_csv('/datasets/instacart_orders.csv', sep=';')\n",
    "products = pd.read_csv('/datasets/products.csv', sep=';')\n",
    "departments = pd.read_csv('/datasets/departments.csv', sep=';')\n",
    "aisles = pd.read_csv('/datasets/aisles.csv', sep=';')\n",
    "order_products = pd.read_csv('/datasets/order_products.csv', sep=';')"
   ]
  },
  {
   "cell_type": "markdown",
   "id": "db5b1333",
   "metadata": {},
   "source": [
    "# Analyze your data\n",
    "In the cells below, display the datasets using `.info()` and `.head()` to gain insights into their structure and content. \n",
    "\n",
    "- `.info()`: Provides a concise summary of the dataset, including the data types, non-null counts, and memory usage. \n",
    "- `.head()`: Displays the first few rows of the dataset, offering a quick overview of the data values."
   ]
  },
  {
   "cell_type": "code",
   "execution_count": 3,
   "id": "323b481d",
   "metadata": {},
   "outputs": [
    {
     "name": "stdout",
     "output_type": "stream",
     "text": [
      "<class 'pandas.core.frame.DataFrame'>\n",
      "RangeIndex: 478967 entries, 0 to 478966\n",
      "Data columns (total 6 columns):\n",
      " #   Column                  Non-Null Count   Dtype  \n",
      "---  ------                  --------------   -----  \n",
      " 0   order_id                478967 non-null  int64  \n",
      " 1   user_id                 478967 non-null  int64  \n",
      " 2   order_number            478967 non-null  int64  \n",
      " 3   order_dow               478967 non-null  int64  \n",
      " 4   order_hour_of_day       478967 non-null  int64  \n",
      " 5   days_since_prior_order  450148 non-null  float64\n",
      "dtypes: float64(1), int64(5)\n",
      "memory usage: 21.9 MB\n"
     ]
    },
    {
     "data": {
      "text/html": [
       "<div>\n",
       "<style scoped>\n",
       "    .dataframe tbody tr th:only-of-type {\n",
       "        vertical-align: middle;\n",
       "    }\n",
       "\n",
       "    .dataframe tbody tr th {\n",
       "        vertical-align: top;\n",
       "    }\n",
       "\n",
       "    .dataframe thead th {\n",
       "        text-align: right;\n",
       "    }\n",
       "</style>\n",
       "<table border=\"1\" class=\"dataframe\">\n",
       "  <thead>\n",
       "    <tr style=\"text-align: right;\">\n",
       "      <th></th>\n",
       "      <th>order_id</th>\n",
       "      <th>user_id</th>\n",
       "      <th>order_number</th>\n",
       "      <th>order_dow</th>\n",
       "      <th>order_hour_of_day</th>\n",
       "      <th>days_since_prior_order</th>\n",
       "    </tr>\n",
       "  </thead>\n",
       "  <tbody>\n",
       "    <tr>\n",
       "      <th>0</th>\n",
       "      <td>1515936</td>\n",
       "      <td>183418</td>\n",
       "      <td>11</td>\n",
       "      <td>6</td>\n",
       "      <td>13</td>\n",
       "      <td>30.0</td>\n",
       "    </tr>\n",
       "    <tr>\n",
       "      <th>1</th>\n",
       "      <td>1690866</td>\n",
       "      <td>163593</td>\n",
       "      <td>5</td>\n",
       "      <td>5</td>\n",
       "      <td>12</td>\n",
       "      <td>9.0</td>\n",
       "    </tr>\n",
       "    <tr>\n",
       "      <th>2</th>\n",
       "      <td>1454967</td>\n",
       "      <td>39980</td>\n",
       "      <td>4</td>\n",
       "      <td>5</td>\n",
       "      <td>19</td>\n",
       "      <td>2.0</td>\n",
       "    </tr>\n",
       "    <tr>\n",
       "      <th>3</th>\n",
       "      <td>1768857</td>\n",
       "      <td>82516</td>\n",
       "      <td>56</td>\n",
       "      <td>0</td>\n",
       "      <td>20</td>\n",
       "      <td>10.0</td>\n",
       "    </tr>\n",
       "    <tr>\n",
       "      <th>4</th>\n",
       "      <td>3007858</td>\n",
       "      <td>196724</td>\n",
       "      <td>2</td>\n",
       "      <td>4</td>\n",
       "      <td>12</td>\n",
       "      <td>17.0</td>\n",
       "    </tr>\n",
       "  </tbody>\n",
       "</table>\n",
       "</div>"
      ],
      "text/plain": [
       "   order_id  user_id  order_number  order_dow  order_hour_of_day  \\\n",
       "0   1515936   183418            11          6                 13   \n",
       "1   1690866   163593             5          5                 12   \n",
       "2   1454967    39980             4          5                 19   \n",
       "3   1768857    82516            56          0                 20   \n",
       "4   3007858   196724             2          4                 12   \n",
       "\n",
       "   days_since_prior_order  \n",
       "0                    30.0  \n",
       "1                     9.0  \n",
       "2                     2.0  \n",
       "3                    10.0  \n",
       "4                    17.0  "
      ]
     },
     "execution_count": 3,
     "metadata": {},
     "output_type": "execute_result"
    }
   ],
   "source": [
    "# orders summary\n",
    "orders.info()\n",
    "orders.head()"
   ]
  },
  {
   "cell_type": "code",
   "execution_count": 4,
   "id": "7938bf65",
   "metadata": {},
   "outputs": [
    {
     "name": "stdout",
     "output_type": "stream",
     "text": [
      "<class 'pandas.core.frame.DataFrame'>\n",
      "RangeIndex: 49694 entries, 0 to 49693\n",
      "Data columns (total 4 columns):\n",
      " #   Column         Non-Null Count  Dtype \n",
      "---  ------         --------------  ----- \n",
      " 0   product_id     49694 non-null  int64 \n",
      " 1   product_name   48436 non-null  object\n",
      " 2   aisle_id       49694 non-null  int64 \n",
      " 3   department_id  49694 non-null  int64 \n",
      "dtypes: int64(3), object(1)\n",
      "memory usage: 1.5+ MB\n"
     ]
    },
    {
     "data": {
      "text/html": [
       "<div>\n",
       "<style scoped>\n",
       "    .dataframe tbody tr th:only-of-type {\n",
       "        vertical-align: middle;\n",
       "    }\n",
       "\n",
       "    .dataframe tbody tr th {\n",
       "        vertical-align: top;\n",
       "    }\n",
       "\n",
       "    .dataframe thead th {\n",
       "        text-align: right;\n",
       "    }\n",
       "</style>\n",
       "<table border=\"1\" class=\"dataframe\">\n",
       "  <thead>\n",
       "    <tr style=\"text-align: right;\">\n",
       "      <th></th>\n",
       "      <th>product_id</th>\n",
       "      <th>product_name</th>\n",
       "      <th>aisle_id</th>\n",
       "      <th>department_id</th>\n",
       "    </tr>\n",
       "  </thead>\n",
       "  <tbody>\n",
       "    <tr>\n",
       "      <th>0</th>\n",
       "      <td>1</td>\n",
       "      <td>Chocolate Sandwich Cookies</td>\n",
       "      <td>61</td>\n",
       "      <td>19</td>\n",
       "    </tr>\n",
       "    <tr>\n",
       "      <th>1</th>\n",
       "      <td>2</td>\n",
       "      <td>All-Seasons Salt</td>\n",
       "      <td>104</td>\n",
       "      <td>13</td>\n",
       "    </tr>\n",
       "    <tr>\n",
       "      <th>2</th>\n",
       "      <td>3</td>\n",
       "      <td>Robust Golden Unsweetened Oolong Tea</td>\n",
       "      <td>94</td>\n",
       "      <td>7</td>\n",
       "    </tr>\n",
       "    <tr>\n",
       "      <th>3</th>\n",
       "      <td>4</td>\n",
       "      <td>Smart Ones Classic Favorites Mini Rigatoni Wit...</td>\n",
       "      <td>38</td>\n",
       "      <td>1</td>\n",
       "    </tr>\n",
       "    <tr>\n",
       "      <th>4</th>\n",
       "      <td>5</td>\n",
       "      <td>Green Chile Anytime Sauce</td>\n",
       "      <td>5</td>\n",
       "      <td>13</td>\n",
       "    </tr>\n",
       "  </tbody>\n",
       "</table>\n",
       "</div>"
      ],
      "text/plain": [
       "   product_id                                       product_name  aisle_id  \\\n",
       "0           1                         Chocolate Sandwich Cookies        61   \n",
       "1           2                                   All-Seasons Salt       104   \n",
       "2           3               Robust Golden Unsweetened Oolong Tea        94   \n",
       "3           4  Smart Ones Classic Favorites Mini Rigatoni Wit...        38   \n",
       "4           5                          Green Chile Anytime Sauce         5   \n",
       "\n",
       "   department_id  \n",
       "0             19  \n",
       "1             13  \n",
       "2              7  \n",
       "3              1  \n",
       "4             13  "
      ]
     },
     "execution_count": 4,
     "metadata": {},
     "output_type": "execute_result"
    }
   ],
   "source": [
    "# products summary\n",
    "products.info()\n",
    "products.head()"
   ]
  },
  {
   "cell_type": "code",
   "execution_count": 5,
   "id": "7739b6f3",
   "metadata": {},
   "outputs": [
    {
     "name": "stdout",
     "output_type": "stream",
     "text": [
      "<class 'pandas.core.frame.DataFrame'>\n",
      "RangeIndex: 21 entries, 0 to 20\n",
      "Data columns (total 2 columns):\n",
      " #   Column         Non-Null Count  Dtype \n",
      "---  ------         --------------  ----- \n",
      " 0   department_id  21 non-null     int64 \n",
      " 1   department     21 non-null     object\n",
      "dtypes: int64(1), object(1)\n",
      "memory usage: 464.0+ bytes\n"
     ]
    },
    {
     "data": {
      "text/html": [
       "<div>\n",
       "<style scoped>\n",
       "    .dataframe tbody tr th:only-of-type {\n",
       "        vertical-align: middle;\n",
       "    }\n",
       "\n",
       "    .dataframe tbody tr th {\n",
       "        vertical-align: top;\n",
       "    }\n",
       "\n",
       "    .dataframe thead th {\n",
       "        text-align: right;\n",
       "    }\n",
       "</style>\n",
       "<table border=\"1\" class=\"dataframe\">\n",
       "  <thead>\n",
       "    <tr style=\"text-align: right;\">\n",
       "      <th></th>\n",
       "      <th>department_id</th>\n",
       "      <th>department</th>\n",
       "    </tr>\n",
       "  </thead>\n",
       "  <tbody>\n",
       "    <tr>\n",
       "      <th>0</th>\n",
       "      <td>1</td>\n",
       "      <td>frozen</td>\n",
       "    </tr>\n",
       "    <tr>\n",
       "      <th>1</th>\n",
       "      <td>2</td>\n",
       "      <td>other</td>\n",
       "    </tr>\n",
       "    <tr>\n",
       "      <th>2</th>\n",
       "      <td>3</td>\n",
       "      <td>bakery</td>\n",
       "    </tr>\n",
       "    <tr>\n",
       "      <th>3</th>\n",
       "      <td>4</td>\n",
       "      <td>produce</td>\n",
       "    </tr>\n",
       "    <tr>\n",
       "      <th>4</th>\n",
       "      <td>5</td>\n",
       "      <td>alcohol</td>\n",
       "    </tr>\n",
       "  </tbody>\n",
       "</table>\n",
       "</div>"
      ],
      "text/plain": [
       "   department_id department\n",
       "0              1     frozen\n",
       "1              2      other\n",
       "2              3     bakery\n",
       "3              4    produce\n",
       "4              5    alcohol"
      ]
     },
     "execution_count": 5,
     "metadata": {},
     "output_type": "execute_result"
    }
   ],
   "source": [
    "# departments summary\n",
    "departments.info()\n",
    "departments.head()"
   ]
  },
  {
   "cell_type": "code",
   "execution_count": 6,
   "id": "9e78bfdc",
   "metadata": {},
   "outputs": [
    {
     "name": "stdout",
     "output_type": "stream",
     "text": [
      "<class 'pandas.core.frame.DataFrame'>\n",
      "RangeIndex: 134 entries, 0 to 133\n",
      "Data columns (total 2 columns):\n",
      " #   Column    Non-Null Count  Dtype \n",
      "---  ------    --------------  ----- \n",
      " 0   aisle_id  134 non-null    int64 \n",
      " 1   aisle     134 non-null    object\n",
      "dtypes: int64(1), object(1)\n",
      "memory usage: 2.2+ KB\n"
     ]
    },
    {
     "data": {
      "text/html": [
       "<div>\n",
       "<style scoped>\n",
       "    .dataframe tbody tr th:only-of-type {\n",
       "        vertical-align: middle;\n",
       "    }\n",
       "\n",
       "    .dataframe tbody tr th {\n",
       "        vertical-align: top;\n",
       "    }\n",
       "\n",
       "    .dataframe thead th {\n",
       "        text-align: right;\n",
       "    }\n",
       "</style>\n",
       "<table border=\"1\" class=\"dataframe\">\n",
       "  <thead>\n",
       "    <tr style=\"text-align: right;\">\n",
       "      <th></th>\n",
       "      <th>aisle_id</th>\n",
       "      <th>aisle</th>\n",
       "    </tr>\n",
       "  </thead>\n",
       "  <tbody>\n",
       "    <tr>\n",
       "      <th>0</th>\n",
       "      <td>1</td>\n",
       "      <td>prepared soups salads</td>\n",
       "    </tr>\n",
       "    <tr>\n",
       "      <th>1</th>\n",
       "      <td>2</td>\n",
       "      <td>specialty cheeses</td>\n",
       "    </tr>\n",
       "    <tr>\n",
       "      <th>2</th>\n",
       "      <td>3</td>\n",
       "      <td>energy granola bars</td>\n",
       "    </tr>\n",
       "    <tr>\n",
       "      <th>3</th>\n",
       "      <td>4</td>\n",
       "      <td>instant foods</td>\n",
       "    </tr>\n",
       "    <tr>\n",
       "      <th>4</th>\n",
       "      <td>5</td>\n",
       "      <td>marinades meat preparation</td>\n",
       "    </tr>\n",
       "  </tbody>\n",
       "</table>\n",
       "</div>"
      ],
      "text/plain": [
       "   aisle_id                       aisle\n",
       "0         1       prepared soups salads\n",
       "1         2           specialty cheeses\n",
       "2         3         energy granola bars\n",
       "3         4               instant foods\n",
       "4         5  marinades meat preparation"
      ]
     },
     "execution_count": 6,
     "metadata": {},
     "output_type": "execute_result"
    }
   ],
   "source": [
    "# aisles summary\n",
    "aisles.info()\n",
    "aisles.head()"
   ]
  },
  {
   "cell_type": "code",
   "execution_count": 7,
   "id": "ef6ee5d2",
   "metadata": {},
   "outputs": [
    {
     "name": "stdout",
     "output_type": "stream",
     "text": [
      "<class 'pandas.core.frame.DataFrame'>\n",
      "RangeIndex: 4545007 entries, 0 to 4545006\n",
      "Data columns (total 4 columns):\n",
      " #   Column             Dtype  \n",
      "---  ------             -----  \n",
      " 0   order_id           int64  \n",
      " 1   product_id         int64  \n",
      " 2   add_to_cart_order  float64\n",
      " 3   reordered          int64  \n",
      "dtypes: float64(1), int64(3)\n",
      "memory usage: 138.7 MB\n"
     ]
    },
    {
     "data": {
      "text/html": [
       "<div>\n",
       "<style scoped>\n",
       "    .dataframe tbody tr th:only-of-type {\n",
       "        vertical-align: middle;\n",
       "    }\n",
       "\n",
       "    .dataframe tbody tr th {\n",
       "        vertical-align: top;\n",
       "    }\n",
       "\n",
       "    .dataframe thead th {\n",
       "        text-align: right;\n",
       "    }\n",
       "</style>\n",
       "<table border=\"1\" class=\"dataframe\">\n",
       "  <thead>\n",
       "    <tr style=\"text-align: right;\">\n",
       "      <th></th>\n",
       "      <th>order_id</th>\n",
       "      <th>product_id</th>\n",
       "      <th>add_to_cart_order</th>\n",
       "      <th>reordered</th>\n",
       "    </tr>\n",
       "  </thead>\n",
       "  <tbody>\n",
       "    <tr>\n",
       "      <th>0</th>\n",
       "      <td>2141543</td>\n",
       "      <td>11440</td>\n",
       "      <td>17.0</td>\n",
       "      <td>0</td>\n",
       "    </tr>\n",
       "    <tr>\n",
       "      <th>1</th>\n",
       "      <td>567889</td>\n",
       "      <td>1560</td>\n",
       "      <td>1.0</td>\n",
       "      <td>1</td>\n",
       "    </tr>\n",
       "    <tr>\n",
       "      <th>2</th>\n",
       "      <td>2261212</td>\n",
       "      <td>26683</td>\n",
       "      <td>1.0</td>\n",
       "      <td>1</td>\n",
       "    </tr>\n",
       "    <tr>\n",
       "      <th>3</th>\n",
       "      <td>491251</td>\n",
       "      <td>8670</td>\n",
       "      <td>35.0</td>\n",
       "      <td>1</td>\n",
       "    </tr>\n",
       "    <tr>\n",
       "      <th>4</th>\n",
       "      <td>2571142</td>\n",
       "      <td>1940</td>\n",
       "      <td>5.0</td>\n",
       "      <td>1</td>\n",
       "    </tr>\n",
       "  </tbody>\n",
       "</table>\n",
       "</div>"
      ],
      "text/plain": [
       "   order_id  product_id  add_to_cart_order  reordered\n",
       "0   2141543       11440               17.0          0\n",
       "1    567889        1560                1.0          1\n",
       "2   2261212       26683                1.0          1\n",
       "3    491251        8670               35.0          1\n",
       "4   2571142        1940                5.0          1"
      ]
     },
     "execution_count": 7,
     "metadata": {},
     "output_type": "execute_result"
    }
   ],
   "source": [
    "# order_products summary\n",
    "order_products.info()\n",
    "order_products.head()"
   ]
  },
  {
   "cell_type": "markdown",
   "id": "80df9104",
   "metadata": {},
   "source": [
    "##  Find and remove missing value and duplicate rows\n",
    "### Orders DataFrame"
   ]
  },
  {
   "cell_type": "code",
   "execution_count": 8,
   "id": "1500829c",
   "metadata": {
    "scrolled": true
   },
   "outputs": [
    {
     "data": {
      "text/plain": [
       "order_id                      0\n",
       "user_id                       0\n",
       "order_number                  0\n",
       "order_dow                     0\n",
       "order_hour_of_day             0\n",
       "days_since_prior_order    28819\n",
       "dtype: int64"
      ]
     },
     "execution_count": 8,
     "metadata": {},
     "output_type": "execute_result"
    }
   ],
   "source": [
    "# Count missing values\n",
    "orders.isna().sum()"
   ]
  },
  {
   "cell_type": "code",
   "execution_count": 9,
   "id": "8754b269",
   "metadata": {},
   "outputs": [
    {
     "data": {
      "text/plain": [
       "0"
      ]
     },
     "execution_count": 9,
     "metadata": {},
     "output_type": "execute_result"
    }
   ],
   "source": [
    "# Count missing value where its not customer's 1st order\n",
    "non_first_order = orders['days_since_prior_order'] > 1\n",
    "non_first_order.isna().sum()"
   ]
  },
  {
   "cell_type": "markdown",
   "id": "56a8bd3d",
   "metadata": {},
   "source": [
    "We determine there are no missing values where it's not a customer's first order by using the isna() and sum() functions after grouping order_number with more than one order."
   ]
  },
  {
   "cell_type": "code",
   "execution_count": 10,
   "id": "f60d69d3",
   "metadata": {},
   "outputs": [
    {
     "data": {
      "text/plain": [
       "15"
      ]
     },
     "execution_count": 10,
     "metadata": {},
     "output_type": "execute_result"
    }
   ],
   "source": [
    "# Find duplicate rows in orders\n",
    "orders.duplicated().sum()"
   ]
  },
  {
   "cell_type": "code",
   "execution_count": 11,
   "id": "40c4fa66",
   "metadata": {},
   "outputs": [],
   "source": [
    "# Drop duplicate rows\n",
    "orders.drop_duplicates(inplace=True)"
   ]
  },
  {
   "cell_type": "code",
   "execution_count": 12,
   "id": "e738819d",
   "metadata": {
    "scrolled": true
   },
   "outputs": [
    {
     "data": {
      "text/plain": [
       "0"
      ]
     },
     "execution_count": 12,
     "metadata": {},
     "output_type": "execute_result"
    }
   ],
   "source": [
    "# Check again for duplicates\n",
    "orders.duplicated().sum()"
   ]
  },
  {
   "cell_type": "markdown",
   "id": "8fc84958",
   "metadata": {},
   "source": [
    "There were 15 duplicated lines so we dropped them so they will not alter our data."
   ]
  },
  {
   "cell_type": "markdown",
   "id": "48254125",
   "metadata": {},
   "source": [
    "### Products DataFrame"
   ]
  },
  {
   "cell_type": "code",
   "execution_count": 13,
   "id": "0e6408fe",
   "metadata": {
    "scrolled": true
   },
   "outputs": [
    {
     "data": {
      "text/plain": [
       "product_id          0\n",
       "product_name     1258\n",
       "aisle_id            0\n",
       "department_id       0\n",
       "dtype: int64"
      ]
     },
     "execution_count": 13,
     "metadata": {},
     "output_type": "execute_result"
    }
   ],
   "source": [
    "# Count missing values\n",
    "products.isna().sum()"
   ]
  },
  {
   "cell_type": "code",
   "execution_count": 14,
   "id": "c65a2ee2",
   "metadata": {},
   "outputs": [
    {
     "data": {
      "text/html": [
       "<div>\n",
       "<style scoped>\n",
       "    .dataframe tbody tr th:only-of-type {\n",
       "        vertical-align: middle;\n",
       "    }\n",
       "\n",
       "    .dataframe tbody tr th {\n",
       "        vertical-align: top;\n",
       "    }\n",
       "\n",
       "    .dataframe thead th {\n",
       "        text-align: right;\n",
       "    }\n",
       "</style>\n",
       "<table border=\"1\" class=\"dataframe\">\n",
       "  <thead>\n",
       "    <tr style=\"text-align: right;\">\n",
       "      <th></th>\n",
       "      <th>product_id</th>\n",
       "      <th>product_name</th>\n",
       "      <th>aisle_id</th>\n",
       "      <th>department_id</th>\n",
       "    </tr>\n",
       "  </thead>\n",
       "  <tbody>\n",
       "    <tr>\n",
       "      <th>37</th>\n",
       "      <td>38</td>\n",
       "      <td>NaN</td>\n",
       "      <td>100</td>\n",
       "      <td>21</td>\n",
       "    </tr>\n",
       "    <tr>\n",
       "      <th>71</th>\n",
       "      <td>72</td>\n",
       "      <td>NaN</td>\n",
       "      <td>100</td>\n",
       "      <td>21</td>\n",
       "    </tr>\n",
       "    <tr>\n",
       "      <th>109</th>\n",
       "      <td>110</td>\n",
       "      <td>NaN</td>\n",
       "      <td>100</td>\n",
       "      <td>21</td>\n",
       "    </tr>\n",
       "    <tr>\n",
       "      <th>296</th>\n",
       "      <td>297</td>\n",
       "      <td>NaN</td>\n",
       "      <td>100</td>\n",
       "      <td>21</td>\n",
       "    </tr>\n",
       "    <tr>\n",
       "      <th>416</th>\n",
       "      <td>417</td>\n",
       "      <td>NaN</td>\n",
       "      <td>100</td>\n",
       "      <td>21</td>\n",
       "    </tr>\n",
       "    <tr>\n",
       "      <th>...</th>\n",
       "      <td>...</td>\n",
       "      <td>...</td>\n",
       "      <td>...</td>\n",
       "      <td>...</td>\n",
       "    </tr>\n",
       "    <tr>\n",
       "      <th>49552</th>\n",
       "      <td>49553</td>\n",
       "      <td>NaN</td>\n",
       "      <td>100</td>\n",
       "      <td>21</td>\n",
       "    </tr>\n",
       "    <tr>\n",
       "      <th>49574</th>\n",
       "      <td>49575</td>\n",
       "      <td>NaN</td>\n",
       "      <td>100</td>\n",
       "      <td>21</td>\n",
       "    </tr>\n",
       "    <tr>\n",
       "      <th>49640</th>\n",
       "      <td>49641</td>\n",
       "      <td>NaN</td>\n",
       "      <td>100</td>\n",
       "      <td>21</td>\n",
       "    </tr>\n",
       "    <tr>\n",
       "      <th>49663</th>\n",
       "      <td>49664</td>\n",
       "      <td>NaN</td>\n",
       "      <td>100</td>\n",
       "      <td>21</td>\n",
       "    </tr>\n",
       "    <tr>\n",
       "      <th>49668</th>\n",
       "      <td>49669</td>\n",
       "      <td>NaN</td>\n",
       "      <td>100</td>\n",
       "      <td>21</td>\n",
       "    </tr>\n",
       "  </tbody>\n",
       "</table>\n",
       "<p>1258 rows × 4 columns</p>\n",
       "</div>"
      ],
      "text/plain": [
       "       product_id product_name  aisle_id  department_id\n",
       "37             38          NaN       100             21\n",
       "71             72          NaN       100             21\n",
       "109           110          NaN       100             21\n",
       "296           297          NaN       100             21\n",
       "416           417          NaN       100             21\n",
       "...           ...          ...       ...            ...\n",
       "49552       49553          NaN       100             21\n",
       "49574       49575          NaN       100             21\n",
       "49640       49641          NaN       100             21\n",
       "49663       49664          NaN       100             21\n",
       "49668       49669          NaN       100             21\n",
       "\n",
       "[1258 rows x 4 columns]"
      ]
     },
     "execution_count": 14,
     "metadata": {},
     "output_type": "execute_result"
    }
   ],
   "source": [
    "#Stores all missing product name rows in nan_name\n",
    "nan_name = products[products['product_name'].isna()]\n",
    "nan_name"
   ]
  },
  {
   "cell_type": "code",
   "execution_count": 15,
   "id": "bed98afd",
   "metadata": {},
   "outputs": [
    {
     "data": {
      "text/html": [
       "<div>\n",
       "<style scoped>\n",
       "    .dataframe tbody tr th:only-of-type {\n",
       "        vertical-align: middle;\n",
       "    }\n",
       "\n",
       "    .dataframe tbody tr th {\n",
       "        vertical-align: top;\n",
       "    }\n",
       "\n",
       "    .dataframe thead th {\n",
       "        text-align: right;\n",
       "    }\n",
       "</style>\n",
       "<table border=\"1\" class=\"dataframe\">\n",
       "  <thead>\n",
       "    <tr style=\"text-align: right;\">\n",
       "      <th></th>\n",
       "      <th>product_id</th>\n",
       "      <th>product_name</th>\n",
       "      <th>aisle_id</th>\n",
       "      <th>department_id</th>\n",
       "    </tr>\n",
       "  </thead>\n",
       "  <tbody>\n",
       "  </tbody>\n",
       "</table>\n",
       "</div>"
      ],
      "text/plain": [
       "Empty DataFrame\n",
       "Columns: [product_id, product_name, aisle_id, department_id]\n",
       "Index: []"
      ]
     },
     "execution_count": 15,
     "metadata": {},
     "output_type": "execute_result"
    }
   ],
   "source": [
    "# Check if all missing product names are associated with aisle 100 and department 21\n",
    "nan_name_id = nan_name[nan_name['aisle_id']!=100]\n",
    "nan_name_id"
   ]
  },
  {
   "cell_type": "code",
   "execution_count": 16,
   "id": "529d4a5e",
   "metadata": {},
   "outputs": [
    {
     "data": {
      "text/html": [
       "<div>\n",
       "<style scoped>\n",
       "    .dataframe tbody tr th:only-of-type {\n",
       "        vertical-align: middle;\n",
       "    }\n",
       "\n",
       "    .dataframe tbody tr th {\n",
       "        vertical-align: top;\n",
       "    }\n",
       "\n",
       "    .dataframe thead th {\n",
       "        text-align: right;\n",
       "    }\n",
       "</style>\n",
       "<table border=\"1\" class=\"dataframe\">\n",
       "  <thead>\n",
       "    <tr style=\"text-align: right;\">\n",
       "      <th></th>\n",
       "      <th>product_id</th>\n",
       "      <th>product_name</th>\n",
       "      <th>aisle_id</th>\n",
       "      <th>department_id</th>\n",
       "    </tr>\n",
       "  </thead>\n",
       "  <tbody>\n",
       "  </tbody>\n",
       "</table>\n",
       "</div>"
      ],
      "text/plain": [
       "Empty DataFrame\n",
       "Columns: [product_id, product_name, aisle_id, department_id]\n",
       "Index: []"
      ]
     },
     "execution_count": 16,
     "metadata": {},
     "output_type": "execute_result"
    }
   ],
   "source": [
    "nan_name_dep = nan_name[nan_name['department_id']!=21]\n",
    "nan_name_dep"
   ]
  },
  {
   "cell_type": "code",
   "execution_count": 17,
   "id": "17444294",
   "metadata": {},
   "outputs": [
    {
     "data": {
      "text/html": [
       "<div>\n",
       "<style scoped>\n",
       "    .dataframe tbody tr th:only-of-type {\n",
       "        vertical-align: middle;\n",
       "    }\n",
       "\n",
       "    .dataframe tbody tr th {\n",
       "        vertical-align: top;\n",
       "    }\n",
       "\n",
       "    .dataframe thead th {\n",
       "        text-align: right;\n",
       "    }\n",
       "</style>\n",
       "<table border=\"1\" class=\"dataframe\">\n",
       "  <thead>\n",
       "    <tr style=\"text-align: right;\">\n",
       "      <th></th>\n",
       "      <th>aisle_id</th>\n",
       "      <th>aisle</th>\n",
       "    </tr>\n",
       "  </thead>\n",
       "  <tbody>\n",
       "    <tr>\n",
       "      <th>99</th>\n",
       "      <td>100</td>\n",
       "      <td>missing</td>\n",
       "    </tr>\n",
       "  </tbody>\n",
       "</table>\n",
       "</div>"
      ],
      "text/plain": [
       "    aisle_id    aisle\n",
       "99       100  missing"
      ]
     },
     "execution_count": 17,
     "metadata": {},
     "output_type": "execute_result"
    }
   ],
   "source": [
    "# Find the names for aisle 100 and department 21\n",
    "aisles[aisles['aisle_id'] == 100]"
   ]
  },
  {
   "cell_type": "code",
   "execution_count": 18,
   "id": "a6eb26da",
   "metadata": {},
   "outputs": [
    {
     "data": {
      "text/html": [
       "<div>\n",
       "<style scoped>\n",
       "    .dataframe tbody tr th:only-of-type {\n",
       "        vertical-align: middle;\n",
       "    }\n",
       "\n",
       "    .dataframe tbody tr th {\n",
       "        vertical-align: top;\n",
       "    }\n",
       "\n",
       "    .dataframe thead th {\n",
       "        text-align: right;\n",
       "    }\n",
       "</style>\n",
       "<table border=\"1\" class=\"dataframe\">\n",
       "  <thead>\n",
       "    <tr style=\"text-align: right;\">\n",
       "      <th></th>\n",
       "      <th>department_id</th>\n",
       "      <th>department</th>\n",
       "    </tr>\n",
       "  </thead>\n",
       "  <tbody>\n",
       "    <tr>\n",
       "      <th>20</th>\n",
       "      <td>21</td>\n",
       "      <td>missing</td>\n",
       "    </tr>\n",
       "  </tbody>\n",
       "</table>\n",
       "</div>"
      ],
      "text/plain": [
       "    department_id department\n",
       "20             21    missing"
      ]
     },
     "execution_count": 18,
     "metadata": {},
     "output_type": "execute_result"
    }
   ],
   "source": [
    "departments[departments['department_id'] == 21]"
   ]
  },
  {
   "cell_type": "code",
   "execution_count": 19,
   "id": "b6408b81",
   "metadata": {},
   "outputs": [],
   "source": [
    "# Fill missing names with 'Unknown'\n",
    "products['product_name'].fillna('Unknown', inplace=True)"
   ]
  },
  {
   "cell_type": "code",
   "execution_count": 20,
   "id": "8841b6d2",
   "metadata": {},
   "outputs": [
    {
     "data": {
      "text/plain": [
       "0"
      ]
     },
     "execution_count": 20,
     "metadata": {},
     "output_type": "execute_result"
    }
   ],
   "source": [
    "products['product_name'].isna().sum()"
   ]
  },
  {
   "cell_type": "code",
   "execution_count": 21,
   "id": "0ebf9f7e",
   "metadata": {},
   "outputs": [
    {
     "data": {
      "text/plain": [
       "0"
      ]
     },
     "execution_count": 21,
     "metadata": {},
     "output_type": "execute_result"
    }
   ],
   "source": [
    "products.duplicated().sum()"
   ]
  },
  {
   "cell_type": "markdown",
   "id": "d8898213",
   "metadata": {},
   "source": [
    "In this section we found that there was 1258 missing values in the 'product_name' column so we replaced the missing names with 'Unknown'. There were also no duplicated lines."
   ]
  },
  {
   "cell_type": "markdown",
   "id": "cddd85a8",
   "metadata": {},
   "source": [
    "### Departments DataFrame"
   ]
  },
  {
   "cell_type": "code",
   "execution_count": 22,
   "id": "22689dc2",
   "metadata": {},
   "outputs": [
    {
     "name": "stdout",
     "output_type": "stream",
     "text": [
      "<class 'pandas.core.frame.DataFrame'>\n",
      "RangeIndex: 21 entries, 0 to 20\n",
      "Data columns (total 2 columns):\n",
      " #   Column         Non-Null Count  Dtype \n",
      "---  ------         --------------  ----- \n",
      " 0   department_id  21 non-null     int64 \n",
      " 1   department     21 non-null     object\n",
      "dtypes: int64(1), object(1)\n",
      "memory usage: 464.0+ bytes\n"
     ]
    }
   ],
   "source": [
    "departments.info()"
   ]
  },
  {
   "cell_type": "code",
   "execution_count": 23,
   "id": "c047c132",
   "metadata": {},
   "outputs": [
    {
     "data": {
      "text/plain": [
       "0"
      ]
     },
     "execution_count": 23,
     "metadata": {},
     "output_type": "execute_result"
    }
   ],
   "source": [
    "departments.duplicated().sum()"
   ]
  },
  {
   "cell_type": "markdown",
   "id": "05e1952f",
   "metadata": {},
   "source": [
    "### Aisles DataFrame"
   ]
  },
  {
   "cell_type": "code",
   "execution_count": 24,
   "id": "6dd0ded0",
   "metadata": {},
   "outputs": [
    {
     "name": "stdout",
     "output_type": "stream",
     "text": [
      "<class 'pandas.core.frame.DataFrame'>\n",
      "RangeIndex: 134 entries, 0 to 133\n",
      "Data columns (total 2 columns):\n",
      " #   Column    Non-Null Count  Dtype \n",
      "---  ------    --------------  ----- \n",
      " 0   aisle_id  134 non-null    int64 \n",
      " 1   aisle     134 non-null    object\n",
      "dtypes: int64(1), object(1)\n",
      "memory usage: 2.2+ KB\n"
     ]
    }
   ],
   "source": [
    "aisles.info()"
   ]
  },
  {
   "cell_type": "code",
   "execution_count": 25,
   "id": "ee51717b",
   "metadata": {},
   "outputs": [
    {
     "data": {
      "text/plain": [
       "0"
      ]
     },
     "execution_count": 25,
     "metadata": {},
     "output_type": "execute_result"
    }
   ],
   "source": [
    "aisles.duplicated().sum()"
   ]
  },
  {
   "cell_type": "markdown",
   "id": "6ed886cd",
   "metadata": {},
   "source": [
    "There are no missing values or duplicated rows in the aisles dataframe."
   ]
  },
  {
   "cell_type": "markdown",
   "id": "052714ad",
   "metadata": {},
   "source": [
    "### Order_products DataFrame"
   ]
  },
  {
   "cell_type": "code",
   "execution_count": 26,
   "id": "77cb4da0",
   "metadata": {},
   "outputs": [
    {
     "name": "stdout",
     "output_type": "stream",
     "text": [
      "<class 'pandas.core.frame.DataFrame'>\n",
      "RangeIndex: 4545007 entries, 0 to 4545006\n",
      "Data columns (total 4 columns):\n",
      " #   Column             Non-Null Count    Dtype  \n",
      "---  ------             --------------    -----  \n",
      " 0   order_id           4545007 non-null  int64  \n",
      " 1   product_id         4545007 non-null  int64  \n",
      " 2   add_to_cart_order  4544171 non-null  float64\n",
      " 3   reordered          4545007 non-null  int64  \n",
      "dtypes: float64(1), int64(3)\n",
      "memory usage: 138.7 MB\n"
     ]
    },
    {
     "data": {
      "text/html": [
       "<div>\n",
       "<style scoped>\n",
       "    .dataframe tbody tr th:only-of-type {\n",
       "        vertical-align: middle;\n",
       "    }\n",
       "\n",
       "    .dataframe tbody tr th {\n",
       "        vertical-align: top;\n",
       "    }\n",
       "\n",
       "    .dataframe thead th {\n",
       "        text-align: right;\n",
       "    }\n",
       "</style>\n",
       "<table border=\"1\" class=\"dataframe\">\n",
       "  <thead>\n",
       "    <tr style=\"text-align: right;\">\n",
       "      <th></th>\n",
       "      <th>order_id</th>\n",
       "      <th>product_id</th>\n",
       "      <th>add_to_cart_order</th>\n",
       "      <th>reordered</th>\n",
       "    </tr>\n",
       "  </thead>\n",
       "  <tbody>\n",
       "    <tr>\n",
       "      <th>363173</th>\n",
       "      <td>75663</td>\n",
       "      <td>18531</td>\n",
       "      <td>8.0</td>\n",
       "      <td>1</td>\n",
       "    </tr>\n",
       "    <tr>\n",
       "      <th>1463306</th>\n",
       "      <td>1832233</td>\n",
       "      <td>46026</td>\n",
       "      <td>2.0</td>\n",
       "      <td>1</td>\n",
       "    </tr>\n",
       "    <tr>\n",
       "      <th>517148</th>\n",
       "      <td>3404613</td>\n",
       "      <td>10831</td>\n",
       "      <td>18.0</td>\n",
       "      <td>1</td>\n",
       "    </tr>\n",
       "    <tr>\n",
       "      <th>537248</th>\n",
       "      <td>2628068</td>\n",
       "      <td>9387</td>\n",
       "      <td>2.0</td>\n",
       "      <td>1</td>\n",
       "    </tr>\n",
       "    <tr>\n",
       "      <th>769601</th>\n",
       "      <td>1417578</td>\n",
       "      <td>5449</td>\n",
       "      <td>4.0</td>\n",
       "      <td>1</td>\n",
       "    </tr>\n",
       "    <tr>\n",
       "      <th>141593</th>\n",
       "      <td>1045330</td>\n",
       "      <td>44683</td>\n",
       "      <td>5.0</td>\n",
       "      <td>1</td>\n",
       "    </tr>\n",
       "    <tr>\n",
       "      <th>4305265</th>\n",
       "      <td>215955</td>\n",
       "      <td>10863</td>\n",
       "      <td>8.0</td>\n",
       "      <td>1</td>\n",
       "    </tr>\n",
       "    <tr>\n",
       "      <th>1585416</th>\n",
       "      <td>1731190</td>\n",
       "      <td>37121</td>\n",
       "      <td>17.0</td>\n",
       "      <td>0</td>\n",
       "    </tr>\n",
       "    <tr>\n",
       "      <th>1226765</th>\n",
       "      <td>2038885</td>\n",
       "      <td>24561</td>\n",
       "      <td>1.0</td>\n",
       "      <td>0</td>\n",
       "    </tr>\n",
       "    <tr>\n",
       "      <th>3129268</th>\n",
       "      <td>2528452</td>\n",
       "      <td>16910</td>\n",
       "      <td>23.0</td>\n",
       "      <td>0</td>\n",
       "    </tr>\n",
       "  </tbody>\n",
       "</table>\n",
       "</div>"
      ],
      "text/plain": [
       "         order_id  product_id  add_to_cart_order  reordered\n",
       "363173      75663       18531                8.0          1\n",
       "1463306   1832233       46026                2.0          1\n",
       "517148    3404613       10831               18.0          1\n",
       "537248    2628068        9387                2.0          1\n",
       "769601    1417578        5449                4.0          1\n",
       "141593    1045330       44683                5.0          1\n",
       "4305265    215955       10863                8.0          1\n",
       "1585416   1731190       37121               17.0          0\n",
       "1226765   2038885       24561                1.0          0\n",
       "3129268   2528452       16910               23.0          0"
      ]
     },
     "execution_count": 26,
     "metadata": {},
     "output_type": "execute_result"
    }
   ],
   "source": [
    "order_products.info(show_counts=True)\n",
    "order_products.sample(10)"
   ]
  },
  {
   "cell_type": "code",
   "execution_count": 27,
   "id": "01864598",
   "metadata": {},
   "outputs": [
    {
     "data": {
      "text/plain": [
       "order_id               0\n",
       "product_id             0\n",
       "add_to_cart_order    836\n",
       "reordered              0\n",
       "dtype: int64"
      ]
     },
     "execution_count": 27,
     "metadata": {},
     "output_type": "execute_result"
    }
   ],
   "source": [
    "# Checks for missing values\n",
    "order_products.isna().sum()"
   ]
  },
  {
   "cell_type": "code",
   "execution_count": 28,
   "id": "cca8b75d",
   "metadata": {},
   "outputs": [
    {
     "data": {
      "text/html": [
       "<div>\n",
       "<style scoped>\n",
       "    .dataframe tbody tr th:only-of-type {\n",
       "        vertical-align: middle;\n",
       "    }\n",
       "\n",
       "    .dataframe tbody tr th {\n",
       "        vertical-align: top;\n",
       "    }\n",
       "\n",
       "    .dataframe thead th {\n",
       "        text-align: right;\n",
       "    }\n",
       "</style>\n",
       "<table border=\"1\" class=\"dataframe\">\n",
       "  <thead>\n",
       "    <tr style=\"text-align: right;\">\n",
       "      <th></th>\n",
       "      <th>order_id</th>\n",
       "      <th>product_id</th>\n",
       "      <th>add_to_cart_order</th>\n",
       "      <th>reordered</th>\n",
       "    </tr>\n",
       "  </thead>\n",
       "  <tbody>\n",
       "    <tr>\n",
       "      <th>737</th>\n",
       "      <td>2449164</td>\n",
       "      <td>5068</td>\n",
       "      <td>NaN</td>\n",
       "      <td>0</td>\n",
       "    </tr>\n",
       "    <tr>\n",
       "      <th>9926</th>\n",
       "      <td>1968313</td>\n",
       "      <td>43867</td>\n",
       "      <td>NaN</td>\n",
       "      <td>0</td>\n",
       "    </tr>\n",
       "    <tr>\n",
       "      <th>14394</th>\n",
       "      <td>2926893</td>\n",
       "      <td>11688</td>\n",
       "      <td>NaN</td>\n",
       "      <td>0</td>\n",
       "    </tr>\n",
       "    <tr>\n",
       "      <th>16418</th>\n",
       "      <td>1717990</td>\n",
       "      <td>4142</td>\n",
       "      <td>NaN</td>\n",
       "      <td>0</td>\n",
       "    </tr>\n",
       "    <tr>\n",
       "      <th>30114</th>\n",
       "      <td>1959075</td>\n",
       "      <td>42828</td>\n",
       "      <td>NaN</td>\n",
       "      <td>1</td>\n",
       "    </tr>\n",
       "    <tr>\n",
       "      <th>...</th>\n",
       "      <td>...</td>\n",
       "      <td>...</td>\n",
       "      <td>...</td>\n",
       "      <td>...</td>\n",
       "    </tr>\n",
       "    <tr>\n",
       "      <th>4505662</th>\n",
       "      <td>1800005</td>\n",
       "      <td>7411</td>\n",
       "      <td>NaN</td>\n",
       "      <td>0</td>\n",
       "    </tr>\n",
       "    <tr>\n",
       "      <th>4511400</th>\n",
       "      <td>1633337</td>\n",
       "      <td>260</td>\n",
       "      <td>NaN</td>\n",
       "      <td>0</td>\n",
       "    </tr>\n",
       "    <tr>\n",
       "      <th>4517562</th>\n",
       "      <td>404157</td>\n",
       "      <td>9517</td>\n",
       "      <td>NaN</td>\n",
       "      <td>0</td>\n",
       "    </tr>\n",
       "    <tr>\n",
       "      <th>4534112</th>\n",
       "      <td>1673227</td>\n",
       "      <td>17835</td>\n",
       "      <td>NaN</td>\n",
       "      <td>0</td>\n",
       "    </tr>\n",
       "    <tr>\n",
       "      <th>4535739</th>\n",
       "      <td>1832957</td>\n",
       "      <td>17949</td>\n",
       "      <td>NaN</td>\n",
       "      <td>1</td>\n",
       "    </tr>\n",
       "  </tbody>\n",
       "</table>\n",
       "<p>836 rows × 4 columns</p>\n",
       "</div>"
      ],
      "text/plain": [
       "         order_id  product_id  add_to_cart_order  reordered\n",
       "737       2449164        5068                NaN          0\n",
       "9926      1968313       43867                NaN          0\n",
       "14394     2926893       11688                NaN          0\n",
       "16418     1717990        4142                NaN          0\n",
       "30114     1959075       42828                NaN          1\n",
       "...           ...         ...                ...        ...\n",
       "4505662   1800005        7411                NaN          0\n",
       "4511400   1633337         260                NaN          0\n",
       "4517562    404157        9517                NaN          0\n",
       "4534112   1673227       17835                NaN          0\n",
       "4535739   1832957       17949                NaN          1\n",
       "\n",
       "[836 rows x 4 columns]"
      ]
     },
     "execution_count": 28,
     "metadata": {},
     "output_type": "execute_result"
    }
   ],
   "source": [
    "# Finds missing values \n",
    "missing_value = order_products[order_products['add_to_cart_order'].isna()]\n",
    "missing_value"
   ]
  },
  {
   "cell_type": "code",
   "execution_count": 29,
   "id": "0ad01ddd",
   "metadata": {},
   "outputs": [
    {
     "data": {
      "text/plain": [
       "[2449164,\n",
       " 1968313,\n",
       " 2926893,\n",
       " 1717990,\n",
       " 1959075,\n",
       " 844733,\n",
       " 61355,\n",
       " 936852,\n",
       " 264710,\n",
       " 1564093,\n",
       " 129627,\n",
       " 293169,\n",
       " 2849370,\n",
       " 1386261,\n",
       " 3308010,\n",
       " 903110,\n",
       " 2136777,\n",
       " 3347453,\n",
       " 1888628,\n",
       " 165801,\n",
       " 2094761,\n",
       " 1038146,\n",
       " 2997021,\n",
       " 813364,\n",
       " 2256933,\n",
       " 171934,\n",
       " 2409109,\n",
       " 1730767,\n",
       " 1169835,\n",
       " 733526,\n",
       " 404157,\n",
       " 3125735,\n",
       " 747668,\n",
       " 1800005,\n",
       " 1961723,\n",
       " 871281,\n",
       " 388234,\n",
       " 1648217,\n",
       " 1477139,\n",
       " 102236,\n",
       " 1021563,\n",
       " 1832957,\n",
       " 2721963,\n",
       " 678116,\n",
       " 1220886,\n",
       " 1673227,\n",
       " 2999801,\n",
       " 1633337,\n",
       " 2470674,\n",
       " 2625444,\n",
       " 1677118,\n",
       " 2479011,\n",
       " 3383594,\n",
       " 1183255,\n",
       " 1713430,\n",
       " 2652650,\n",
       " 1598369,\n",
       " 1916118,\n",
       " 854647,\n",
       " 1302315,\n",
       " 888470,\n",
       " 180546,\n",
       " 2621907,\n",
       " 1308785,\n",
       " 2729254,\n",
       " 9310,\n",
       " 2170451,\n",
       " 2979697,\n",
       " 1625713,\n",
       " 1529171]"
      ]
     },
     "execution_count": 29,
     "metadata": {},
     "output_type": "execute_result"
    }
   ],
   "source": [
    "# Saves missing values id\n",
    "missing_cart_ids = order_products[order_products['add_to_cart_order'].isna()]['order_id'].unique().tolist()\n",
    "missing_cart_ids"
   ]
  },
  {
   "cell_type": "code",
   "execution_count": 30,
   "id": "4c13c169",
   "metadata": {},
   "outputs": [
    {
     "data": {
      "text/html": [
       "<div>\n",
       "<style scoped>\n",
       "    .dataframe tbody tr th:only-of-type {\n",
       "        vertical-align: middle;\n",
       "    }\n",
       "\n",
       "    .dataframe tbody tr th {\n",
       "        vertical-align: top;\n",
       "    }\n",
       "\n",
       "    .dataframe thead th {\n",
       "        text-align: right;\n",
       "    }\n",
       "</style>\n",
       "<table border=\"1\" class=\"dataframe\">\n",
       "  <thead>\n",
       "    <tr style=\"text-align: right;\">\n",
       "      <th></th>\n",
       "      <th>order_id</th>\n",
       "      <th>product_id</th>\n",
       "      <th>add_to_cart_order</th>\n",
       "      <th>reordered</th>\n",
       "    </tr>\n",
       "  </thead>\n",
       "  <tbody>\n",
       "    <tr>\n",
       "      <th>267</th>\n",
       "      <td>2094761</td>\n",
       "      <td>31469</td>\n",
       "      <td>57.0</td>\n",
       "      <td>1</td>\n",
       "    </tr>\n",
       "    <tr>\n",
       "      <th>737</th>\n",
       "      <td>2449164</td>\n",
       "      <td>5068</td>\n",
       "      <td>NaN</td>\n",
       "      <td>0</td>\n",
       "    </tr>\n",
       "    <tr>\n",
       "      <th>1742</th>\n",
       "      <td>2997021</td>\n",
       "      <td>4920</td>\n",
       "      <td>37.0</td>\n",
       "      <td>0</td>\n",
       "    </tr>\n",
       "    <tr>\n",
       "      <th>3463</th>\n",
       "      <td>871281</td>\n",
       "      <td>40063</td>\n",
       "      <td>61.0</td>\n",
       "      <td>1</td>\n",
       "    </tr>\n",
       "    <tr>\n",
       "      <th>3535</th>\n",
       "      <td>171934</td>\n",
       "      <td>36397</td>\n",
       "      <td>7.0</td>\n",
       "      <td>0</td>\n",
       "    </tr>\n",
       "    <tr>\n",
       "      <th>...</th>\n",
       "      <td>...</td>\n",
       "      <td>...</td>\n",
       "      <td>...</td>\n",
       "      <td>...</td>\n",
       "    </tr>\n",
       "    <tr>\n",
       "      <th>4543519</th>\n",
       "      <td>2621907</td>\n",
       "      <td>32018</td>\n",
       "      <td>28.0</td>\n",
       "      <td>1</td>\n",
       "    </tr>\n",
       "    <tr>\n",
       "      <th>4544672</th>\n",
       "      <td>102236</td>\n",
       "      <td>34688</td>\n",
       "      <td>49.0</td>\n",
       "      <td>0</td>\n",
       "    </tr>\n",
       "    <tr>\n",
       "      <th>4544708</th>\n",
       "      <td>2256933</td>\n",
       "      <td>41544</td>\n",
       "      <td>21.0</td>\n",
       "      <td>0</td>\n",
       "    </tr>\n",
       "    <tr>\n",
       "      <th>4544771</th>\n",
       "      <td>180546</td>\n",
       "      <td>12741</td>\n",
       "      <td>46.0</td>\n",
       "      <td>1</td>\n",
       "    </tr>\n",
       "    <tr>\n",
       "      <th>4544810</th>\n",
       "      <td>2136777</td>\n",
       "      <td>20072</td>\n",
       "      <td>10.0</td>\n",
       "      <td>0</td>\n",
       "    </tr>\n",
       "  </tbody>\n",
       "</table>\n",
       "<p>5316 rows × 4 columns</p>\n",
       "</div>"
      ],
      "text/plain": [
       "         order_id  product_id  add_to_cart_order  reordered\n",
       "267       2094761       31469               57.0          1\n",
       "737       2449164        5068                NaN          0\n",
       "1742      2997021        4920               37.0          0\n",
       "3463       871281       40063               61.0          1\n",
       "3535       171934       36397                7.0          0\n",
       "...           ...         ...                ...        ...\n",
       "4543519   2621907       32018               28.0          1\n",
       "4544672    102236       34688               49.0          0\n",
       "4544708   2256933       41544               21.0          0\n",
       "4544771    180546       12741               46.0          1\n",
       "4544810   2136777       20072               10.0          0\n",
       "\n",
       "[5316 rows x 4 columns]"
      ]
     },
     "execution_count": 30,
     "metadata": {},
     "output_type": "execute_result"
    }
   ],
   "source": [
    "# Creates a new dataframe with IDs from the missing value rows\n",
    "filtered_df = order_products[order_products['order_id'].isin(missing_cart_ids)]\n",
    "filtered_df"
   ]
  },
  {
   "cell_type": "code",
   "execution_count": 31,
   "id": "3deeab2e",
   "metadata": {},
   "outputs": [
    {
     "data": {
      "text/plain": [
       "order_id\n",
       "9310        65\n",
       "61355      127\n",
       "102236      95\n",
       "129627      69\n",
       "165801      70\n",
       "          ... \n",
       "2999801     70\n",
       "3125735     86\n",
       "3308010    115\n",
       "3347453     71\n",
       "3383594     69\n",
       "Length: 70, dtype: int64"
      ]
     },
     "execution_count": 31,
     "metadata": {},
     "output_type": "execute_result"
    }
   ],
   "source": [
    "# Group this new dataframe by order ID and check sizes of those groups - to find minimum size\n",
    "group_sizes = filtered_df.groupby('order_id').size()\n",
    "group_sizes"
   ]
  },
  {
   "cell_type": "code",
   "execution_count": 32,
   "id": "d1e8b40e",
   "metadata": {},
   "outputs": [
    {
     "name": "stdout",
     "output_type": "stream",
     "text": [
      "65\n"
     ]
    }
   ],
   "source": [
    "# Do all orders with missing values have more than 64 products?\n",
    "min_group_size = group_sizes.min()\n",
    "\n",
    "print(min_group_size)"
   ]
  },
  {
   "cell_type": "code",
   "execution_count": 33,
   "id": "1d087470",
   "metadata": {},
   "outputs": [],
   "source": [
    "# Replace missing values with 999 and convert column to integer type\n",
    "order_products['add_to_cart_order'] = order_products['add_to_cart_order'].fillna(999)\n",
    "order_products['add_to_cart_order'] = order_products['add_to_cart_order'].astype(int)"
   ]
  },
  {
   "cell_type": "markdown",
   "id": "67b5b308",
   "metadata": {},
   "source": [
    "This section saves all order IDs with atleast one missing value and add them to the 'add_to_cart_order'. We then change the missing values to 999 and convert the column to integer."
   ]
  },
  {
   "cell_type": "markdown",
   "id": "02c75dcc",
   "metadata": {},
   "source": [
    "# [A] Easy (must complete all to pass)"
   ]
  },
  {
   "cell_type": "markdown",
   "id": "4b7ccf55",
   "metadata": {},
   "source": [
    "#  [A1] Verify that values in the 'order_hour_of_day' and 'order_dow' columns in the orders table are sensible (i.e. 'order_hour_of_day' ranges from 0 to 23 and 'order_dow' ranges from 0 to 6)."
   ]
  },
  {
   "cell_type": "code",
   "execution_count": 34,
   "id": "a4961438",
   "metadata": {},
   "outputs": [
    {
     "data": {
      "text/html": [
       "<div>\n",
       "<style scoped>\n",
       "    .dataframe tbody tr th:only-of-type {\n",
       "        vertical-align: middle;\n",
       "    }\n",
       "\n",
       "    .dataframe tbody tr th {\n",
       "        vertical-align: top;\n",
       "    }\n",
       "\n",
       "    .dataframe thead th {\n",
       "        text-align: right;\n",
       "    }\n",
       "</style>\n",
       "<table border=\"1\" class=\"dataframe\">\n",
       "  <thead>\n",
       "    <tr style=\"text-align: right;\">\n",
       "      <th></th>\n",
       "      <th>order_id</th>\n",
       "      <th>user_id</th>\n",
       "      <th>order_number</th>\n",
       "      <th>order_dow</th>\n",
       "      <th>order_hour_of_day</th>\n",
       "      <th>days_since_prior_order</th>\n",
       "    </tr>\n",
       "  </thead>\n",
       "  <tbody>\n",
       "  </tbody>\n",
       "</table>\n",
       "</div>"
      ],
      "text/plain": [
       "Empty DataFrame\n",
       "Columns: [order_id, user_id, order_number, order_dow, order_hour_of_day, days_since_prior_order]\n",
       "Index: []"
      ]
     },
     "execution_count": 34,
     "metadata": {},
     "output_type": "execute_result"
    }
   ],
   "source": [
    "invalid_hour_of_day = orders[~orders['order_hour_of_day'].between(0, 23)]\n",
    "invalid_hour_of_day"
   ]
  },
  {
   "cell_type": "code",
   "execution_count": 35,
   "id": "c7df7ec6",
   "metadata": {},
   "outputs": [
    {
     "data": {
      "text/html": [
       "<div>\n",
       "<style scoped>\n",
       "    .dataframe tbody tr th:only-of-type {\n",
       "        vertical-align: middle;\n",
       "    }\n",
       "\n",
       "    .dataframe tbody tr th {\n",
       "        vertical-align: top;\n",
       "    }\n",
       "\n",
       "    .dataframe thead th {\n",
       "        text-align: right;\n",
       "    }\n",
       "</style>\n",
       "<table border=\"1\" class=\"dataframe\">\n",
       "  <thead>\n",
       "    <tr style=\"text-align: right;\">\n",
       "      <th></th>\n",
       "      <th>order_id</th>\n",
       "      <th>user_id</th>\n",
       "      <th>order_number</th>\n",
       "      <th>order_dow</th>\n",
       "      <th>order_hour_of_day</th>\n",
       "      <th>days_since_prior_order</th>\n",
       "    </tr>\n",
       "  </thead>\n",
       "  <tbody>\n",
       "  </tbody>\n",
       "</table>\n",
       "</div>"
      ],
      "text/plain": [
       "Empty DataFrame\n",
       "Columns: [order_id, user_id, order_number, order_dow, order_hour_of_day, days_since_prior_order]\n",
       "Index: []"
      ]
     },
     "execution_count": 35,
     "metadata": {},
     "output_type": "execute_result"
    }
   ],
   "source": [
    "invalid_dow = orders[~orders['order_dow'].between(0, 6)]\n",
    "invalid_dow"
   ]
  },
  {
   "cell_type": "markdown",
   "id": "abada64c",
   "metadata": {},
   "source": [
    "We can confirm from this code that that the order hour of day is a valid time of day and the order day of week is a valid day in the week."
   ]
  },
  {
   "cell_type": "markdown",
   "id": "51a8763a",
   "metadata": {},
   "source": [
    "#  [A2] How many people place orders for each hour of the day?\n"
   ]
  },
  {
   "cell_type": "code",
   "execution_count": 36,
   "id": "d84805a3",
   "metadata": {},
   "outputs": [
    {
     "data": {
      "text/plain": [
       "0      3180\n",
       "1      1763\n",
       "2       989\n",
       "3       770\n",
       "4       765\n",
       "5      1371\n",
       "6      4215\n",
       "7     13043\n",
       "8     25024\n",
       "9     35896\n",
       "10    40578\n",
       "11    40032\n",
       "12    38034\n",
       "13    39007\n",
       "14    39631\n",
       "15    39789\n",
       "16    38112\n",
       "17    31930\n",
       "18    25510\n",
       "19    19547\n",
       "20    14624\n",
       "21    11019\n",
       "22     8512\n",
       "23     5611\n",
       "Name: order_hour_of_day, dtype: int64"
      ]
     },
     "execution_count": 36,
     "metadata": {},
     "output_type": "execute_result"
    }
   ],
   "source": [
    "# Aggregate data by hour of day\n",
    "hourly_counts = orders['order_hour_of_day'].value_counts().sort_index()\n",
    "hourly_counts"
   ]
  },
  {
   "cell_type": "code",
   "execution_count": 37,
   "id": "9cc63687",
   "metadata": {},
   "outputs": [
    {
     "data": {
      "image/png": "[encoded data removed]",
      "text/plain": [
       "<Figure size 1000x600 with 1 Axes>"
      ]
     },
     "metadata": {},
     "output_type": "display_data"
    }
   ],
   "source": [
    "# Plot the data\n",
    "plt.figure(figsize=(10,6))\n",
    "hourly_counts.plot(kind='bar', color='skyblue')\n",
    "plt.title('Number of Orders by Hour of Day')\n",
    "plt.xlabel('Hour of Day')\n",
    "plt.ylabel('Number of Orders')\n",
    "plt.xticks(range(24), [f'{i:02d}:00' for i in range(24)], rotation=45)\n",
    "plt.grid(axis='y', linestyle='--', alpha=0.7)\n",
    "plt.tight_layout()\n",
    "\n",
    "plt.show()"
   ]
  },
  {
   "cell_type": "markdown",
   "id": "98a81208",
   "metadata": {},
   "source": [
    "According to the chart, you can see most of the orders occur between 8:00 and 18:00 during the day."
   ]
  },
  {
   "cell_type": "markdown",
   "id": "22dfb0cf",
   "metadata": {},
   "source": [
    "#  [A3] What day of the week people shop for groceries?\n"
   ]
  },
  {
   "cell_type": "code",
   "execution_count": 38,
   "id": "afceaf9a",
   "metadata": {},
   "outputs": [
    {
     "data": {
      "text/plain": [
       "0    84090\n",
       "1    82185\n",
       "2    65833\n",
       "3    60897\n",
       "4    59810\n",
       "5    63488\n",
       "6    62649\n",
       "Name: order_dow, dtype: int64"
      ]
     },
     "execution_count": 38,
     "metadata": {},
     "output_type": "execute_result"
    }
   ],
   "source": [
    "# Aggregate data by 'order_dow'\n",
    "dow_counts = orders['order_dow'].value_counts().sort_index()\n",
    "dow_counts"
   ]
  },
  {
   "cell_type": "code",
   "execution_count": 39,
   "id": "459a1ed7",
   "metadata": {},
   "outputs": [
    {
     "data": {
      "image/png": "[encoded data removed]",
      "text/plain": [
       "<Figure size 1000x600 with 1 Axes>"
      ]
     },
     "metadata": {},
     "output_type": "display_data"
    }
   ],
   "source": [
    "# Map day of the week numbers to names\n",
    "dow_names = ['Sunday', 'Monday', 'Tuesday', 'Wednesday', 'Thursday', 'Friday', 'Saturday']\n",
    "dow_counts.index = [dow_names[i] for i in dow_counts.index]\n",
    "\n",
    "# Plot the data\n",
    "plt.figure(figsize=(10, 6))\n",
    "dow_counts.plot(kind='bar', color='lightgreen')\n",
    "plt.title('Number of Orders by Day of Week')\n",
    "plt.xlabel('Day of the Week')\n",
    "plt.ylabel('Number of Orders')\n",
    "plt.xticks(rotation=45)\n",
    "plt.grid(axis='y', linestyle='--', alpha=0.7)\n",
    "plt.tight_layout()\n",
    "         \n",
    "plt.show()"
   ]
  },
  {
   "cell_type": "markdown",
   "id": "450be0cf",
   "metadata": {},
   "source": [
    "According to the chart you can see that the days with the most number of orders occur on Sunday and Monday, with the most being on Sunday."
   ]
  },
  {
   "cell_type": "markdown",
   "id": "a8b92703",
   "metadata": {},
   "source": [
    "#  [A4] How long people wait until placing their next order? Comment on the minimum and maximum values."
   ]
  },
  {
   "cell_type": "code",
   "execution_count": 40,
   "id": "780296e0",
   "metadata": {},
   "outputs": [],
   "source": [
    "# Finds the days between orders and drops rows with missing values if it is their first order\n",
    "days = orders['days_since_prior_order'].dropna().values"
   ]
  },
  {
   "cell_type": "code",
   "execution_count": 41,
   "id": "e2a00f18",
   "metadata": {},
   "outputs": [
    {
     "data": {
      "image/png": "[encoded data removed]",
      "text/plain": [
       "<Figure size 1000x600 with 1 Axes>"
      ]
     },
     "metadata": {},
     "output_type": "display_data"
    }
   ],
   "source": [
    "# Plotting the histogram using matplotlib\n",
    "plt.figure(figsize=(10, 6))\n",
    "plt.hist(days, bins=30, edgecolor='black')\n",
    "plt.title('Distribution of Days Since Pror Order')\n",
    "plt.xlabel('Days Since Prior Order')\n",
    "plt.ylabel('Frequency')\n",
    "\n",
    "plt.show()"
   ]
  },
  {
   "cell_type": "markdown",
   "id": "04c5006b",
   "metadata": {},
   "source": [
    "According to the graph, the majority of people wait 2-10 days to order again. The data is skewed to the right which means the mean is greater than the median. As well as an outlier which will increase the mean.\n",
    "\n",
    "The minimum value is 26 and 27 days and the maximum value is 30 days. This could be a monthly subscrition every day that people order automatically on day 30 or it could be that everyday over 30 days in the data is marked as 30 days."
   ]
  },
  {
   "cell_type": "markdown",
   "id": "6a09c88d",
   "metadata": {},
   "source": [
    "# [B] Medium (must complete all to pass)"
   ]
  },
  {
   "cell_type": "markdown",
   "id": "c07c4c61",
   "metadata": {},
   "source": [
    "# [B1] Is there a difference in `'order_hour_of_day'` distributions on Wednesdays and Saturdays? Plot the histograms for both days and describe the differences that you see."
   ]
  },
  {
   "cell_type": "code",
   "execution_count": 42,
   "id": "1b28ca91",
   "metadata": {},
   "outputs": [
    {
     "data": {
      "text/plain": [
       "0         6\n",
       "1         5\n",
       "2         5\n",
       "3         0\n",
       "4         4\n",
       "         ..\n",
       "478962    1\n",
       "478963    3\n",
       "478964    2\n",
       "478965    3\n",
       "478966    1\n",
       "Name: order_dow, Length: 478952, dtype: int64"
      ]
     },
     "execution_count": 42,
     "metadata": {},
     "output_type": "execute_result"
    }
   ],
   "source": [
    "orders['order_dow']"
   ]
  },
  {
   "cell_type": "code",
   "execution_count": 43,
   "id": "2ec90897",
   "metadata": {},
   "outputs": [],
   "source": [
    "# Split orders data into Wednesday and Saturday\n",
    "orders_wednesday = orders[orders['order_dow'] == 3]\n",
    "orders_saturday = orders[orders['order_dow'] == 6]"
   ]
  },
  {
   "cell_type": "code",
   "execution_count": 44,
   "id": "3a5aa1f0",
   "metadata": {},
   "outputs": [
    {
     "data": {
      "image/png": "[encoded data removed]",
      "text/plain": [
       "<Figure size 1000x500 with 2 Axes>"
      ]
     },
     "metadata": {},
     "output_type": "display_data"
    }
   ],
   "source": [
    "# Plotting the histograms using wednesday orders\n",
    "plt.figure(figsize=(10, 5))\n",
    "plt.subplot(1, 2, 1)\n",
    "plt.hist(orders_wednesday['order_hour_of_day'], bins=range(25), edgecolor='black', alpha=0.7)\n",
    "plt.title('Orders by Hour on Wednesday')\n",
    "plt.xlabel('Hour of the Day')\n",
    "plt.ylabel('Frequency')\n",
    "\n",
    "\n",
    "# Plotting the histograms using saturday orders\n",
    "plt.subplot(1, 2, 2)\n",
    "plt.hist(orders_saturday['order_hour_of_day'], bins=range(25), edgecolor='black', alpha=0.7)\n",
    "plt.title('Orders by Hour on Saturday')\n",
    "plt.xlabel('Hour of the Day')\n",
    "plt.ylabel('Frequency')\n",
    "\n",
    "plt.show()"
   ]
  },
  {
   "cell_type": "markdown",
   "id": "439f9717",
   "metadata": {},
   "source": [
    "The peak hours on Wednesday and Saturday are similar from 800 to 1800. The difference is on saturday there are more orders placed at the peak then there is on wednesday."
   ]
  },
  {
   "cell_type": "markdown",
   "id": "a854a666",
   "metadata": {},
   "source": [
    "# [B2] What's the distribution for the number of orders per customer?\n",
    "\n",
    "(e.g. how many customers placed only 1 order, how many placed only 2, how many only 3, and so on…)"
   ]
  },
  {
   "cell_type": "code",
   "execution_count": 45,
   "id": "8680a015",
   "metadata": {},
   "outputs": [],
   "source": [
    "# Groups by customers and counts how many times they have ordered\n",
    "orders_per_customer = orders.groupby('user_id').size()"
   ]
  },
  {
   "cell_type": "code",
   "execution_count": 46,
   "id": "f6cf57ee",
   "metadata": {},
   "outputs": [
    {
     "data": {
      "image/png": "[encoded data removed]",
      "text/plain": [
       "<Figure size 1000x600 with 1 Axes>"
      ]
     },
     "metadata": {},
     "output_type": "display_data"
    }
   ],
   "source": [
    "# Plot histogram\n",
    "plt.figure(figsize=(10,6))\n",
    "plt.hist(orders_per_customer, bins=range(1, orders_per_customer.max() + 2), edgecolor='black', alpha=0.7)\n",
    "plt.title('Distribution of Number of Orders per Customer')\n",
    "plt.xlabel('Number of Orders')\n",
    "plt.ylabel('Number of Customers')\n",
    "plt.xticks(range(1, orders_per_customer.max() + 1))\n",
    "plt.show()"
   ]
  },
  {
   "cell_type": "markdown",
   "id": "6e9ec429",
   "metadata": {},
   "source": [
    "The distribution shows the number of orders per person and we can see that the number of customers gets smaller the more someone orders."
   ]
  },
  {
   "cell_type": "markdown",
   "id": "10cb111e",
   "metadata": {},
   "source": [
    "# [B3] What are the top 20 popular products (display their id and name)?"
   ]
  },
  {
   "cell_type": "code",
   "execution_count": 47,
   "id": "1870ec85",
   "metadata": {},
   "outputs": [
    {
     "data": {
      "text/plain": [
       "product_id\n",
       "1        280\n",
       "2         11\n",
       "3         42\n",
       "4         49\n",
       "7          2\n",
       "        ... \n",
       "49690      5\n",
       "49691     72\n",
       "49692     12\n",
       "49693     25\n",
       "49694      9\n",
       "Name: order_id, Length: 45573, dtype: int64"
      ]
     },
     "execution_count": 47,
     "metadata": {},
     "output_type": "execute_result"
    }
   ],
   "source": [
    "# Count number of orders each product is included in\n",
    "product_order_count = order_products.groupby('product_id')['order_id'].nunique()\n",
    "product_order_count"
   ]
  },
  {
   "cell_type": "code",
   "execution_count": 48,
   "id": "39ef48ff",
   "metadata": {},
   "outputs": [
    {
     "data": {
      "text/plain": [
       "product_id\n",
       "24852    66050\n",
       "13176    53297\n",
       "21137    37039\n",
       "21903    33971\n",
       "47209    29773\n",
       "         ...  \n",
       "5836         1\n",
       "43573        1\n",
       "43570        1\n",
       "36174        1\n",
       "41403        1\n",
       "Name: order_id, Length: 45573, dtype: int64"
      ]
     },
     "execution_count": 48,
     "metadata": {},
     "output_type": "execute_result"
    }
   ],
   "source": [
    "# Sort by descending order\n",
    "product_order_count_sorted = product_order_count.sort_values(ascending=False)\n",
    "product_order_count_sorted"
   ]
  },
  {
   "cell_type": "code",
   "execution_count": 49,
   "id": "1682db05",
   "metadata": {},
   "outputs": [
    {
     "data": {
      "text/html": [
       "<div>\n",
       "<style scoped>\n",
       "    .dataframe tbody tr th:only-of-type {\n",
       "        vertical-align: middle;\n",
       "    }\n",
       "\n",
       "    .dataframe tbody tr th {\n",
       "        vertical-align: top;\n",
       "    }\n",
       "\n",
       "    .dataframe thead th {\n",
       "        text-align: right;\n",
       "    }\n",
       "</style>\n",
       "<table border=\"1\" class=\"dataframe\">\n",
       "  <thead>\n",
       "    <tr style=\"text-align: right;\">\n",
       "      <th></th>\n",
       "      <th>product_id</th>\n",
       "      <th>order_id</th>\n",
       "    </tr>\n",
       "  </thead>\n",
       "  <tbody>\n",
       "    <tr>\n",
       "      <th>0</th>\n",
       "      <td>24852</td>\n",
       "      <td>66050</td>\n",
       "    </tr>\n",
       "    <tr>\n",
       "      <th>1</th>\n",
       "      <td>13176</td>\n",
       "      <td>53297</td>\n",
       "    </tr>\n",
       "    <tr>\n",
       "      <th>2</th>\n",
       "      <td>21137</td>\n",
       "      <td>37039</td>\n",
       "    </tr>\n",
       "    <tr>\n",
       "      <th>3</th>\n",
       "      <td>21903</td>\n",
       "      <td>33971</td>\n",
       "    </tr>\n",
       "    <tr>\n",
       "      <th>4</th>\n",
       "      <td>47209</td>\n",
       "      <td>29773</td>\n",
       "    </tr>\n",
       "    <tr>\n",
       "      <th>5</th>\n",
       "      <td>47766</td>\n",
       "      <td>24689</td>\n",
       "    </tr>\n",
       "    <tr>\n",
       "      <th>6</th>\n",
       "      <td>47626</td>\n",
       "      <td>21495</td>\n",
       "    </tr>\n",
       "    <tr>\n",
       "      <th>7</th>\n",
       "      <td>16797</td>\n",
       "      <td>20018</td>\n",
       "    </tr>\n",
       "    <tr>\n",
       "      <th>8</th>\n",
       "      <td>26209</td>\n",
       "      <td>19690</td>\n",
       "    </tr>\n",
       "    <tr>\n",
       "      <th>9</th>\n",
       "      <td>27845</td>\n",
       "      <td>19600</td>\n",
       "    </tr>\n",
       "    <tr>\n",
       "      <th>10</th>\n",
       "      <td>27966</td>\n",
       "      <td>19197</td>\n",
       "    </tr>\n",
       "    <tr>\n",
       "      <th>11</th>\n",
       "      <td>22935</td>\n",
       "      <td>15898</td>\n",
       "    </tr>\n",
       "    <tr>\n",
       "      <th>12</th>\n",
       "      <td>24964</td>\n",
       "      <td>15292</td>\n",
       "    </tr>\n",
       "    <tr>\n",
       "      <th>13</th>\n",
       "      <td>45007</td>\n",
       "      <td>14584</td>\n",
       "    </tr>\n",
       "    <tr>\n",
       "      <th>14</th>\n",
       "      <td>39275</td>\n",
       "      <td>13879</td>\n",
       "    </tr>\n",
       "    <tr>\n",
       "      <th>15</th>\n",
       "      <td>49683</td>\n",
       "      <td>13675</td>\n",
       "    </tr>\n",
       "    <tr>\n",
       "      <th>16</th>\n",
       "      <td>28204</td>\n",
       "      <td>12544</td>\n",
       "    </tr>\n",
       "    <tr>\n",
       "      <th>17</th>\n",
       "      <td>5876</td>\n",
       "      <td>12232</td>\n",
       "    </tr>\n",
       "    <tr>\n",
       "      <th>18</th>\n",
       "      <td>8277</td>\n",
       "      <td>11993</td>\n",
       "    </tr>\n",
       "    <tr>\n",
       "      <th>19</th>\n",
       "      <td>40706</td>\n",
       "      <td>11781</td>\n",
       "    </tr>\n",
       "  </tbody>\n",
       "</table>\n",
       "</div>"
      ],
      "text/plain": [
       "    product_id  order_id\n",
       "0        24852     66050\n",
       "1        13176     53297\n",
       "2        21137     37039\n",
       "3        21903     33971\n",
       "4        47209     29773\n",
       "5        47766     24689\n",
       "6        47626     21495\n",
       "7        16797     20018\n",
       "8        26209     19690\n",
       "9        27845     19600\n",
       "10       27966     19197\n",
       "11       22935     15898\n",
       "12       24964     15292\n",
       "13       45007     14584\n",
       "14       39275     13879\n",
       "15       49683     13675\n",
       "16       28204     12544\n",
       "17        5876     12232\n",
       "18        8277     11993\n",
       "19       40706     11781"
      ]
     },
     "execution_count": 49,
     "metadata": {},
     "output_type": "execute_result"
    }
   ],
   "source": [
    "# Get top 20 products\n",
    "top_products = product_order_count_sorted.nlargest(20).reset_index()\n",
    "top_products"
   ]
  },
  {
   "cell_type": "code",
   "execution_count": 50,
   "id": "6e5e53b6",
   "metadata": {},
   "outputs": [
    {
     "data": {
      "text/html": [
       "<div>\n",
       "<style scoped>\n",
       "    .dataframe tbody tr th:only-of-type {\n",
       "        vertical-align: middle;\n",
       "    }\n",
       "\n",
       "    .dataframe tbody tr th {\n",
       "        vertical-align: top;\n",
       "    }\n",
       "\n",
       "    .dataframe thead th {\n",
       "        text-align: right;\n",
       "    }\n",
       "</style>\n",
       "<table border=\"1\" class=\"dataframe\">\n",
       "  <thead>\n",
       "    <tr style=\"text-align: right;\">\n",
       "      <th></th>\n",
       "      <th>product_id</th>\n",
       "      <th>order_id</th>\n",
       "      <th>product_name</th>\n",
       "      <th>aisle_id</th>\n",
       "      <th>department_id</th>\n",
       "    </tr>\n",
       "  </thead>\n",
       "  <tbody>\n",
       "    <tr>\n",
       "      <th>0</th>\n",
       "      <td>24852</td>\n",
       "      <td>66050</td>\n",
       "      <td>Banana</td>\n",
       "      <td>24</td>\n",
       "      <td>4</td>\n",
       "    </tr>\n",
       "    <tr>\n",
       "      <th>1</th>\n",
       "      <td>13176</td>\n",
       "      <td>53297</td>\n",
       "      <td>Bag of Organic Bananas</td>\n",
       "      <td>24</td>\n",
       "      <td>4</td>\n",
       "    </tr>\n",
       "    <tr>\n",
       "      <th>2</th>\n",
       "      <td>21137</td>\n",
       "      <td>37039</td>\n",
       "      <td>Organic Strawberries</td>\n",
       "      <td>24</td>\n",
       "      <td>4</td>\n",
       "    </tr>\n",
       "    <tr>\n",
       "      <th>3</th>\n",
       "      <td>21903</td>\n",
       "      <td>33971</td>\n",
       "      <td>Organic Baby Spinach</td>\n",
       "      <td>123</td>\n",
       "      <td>4</td>\n",
       "    </tr>\n",
       "    <tr>\n",
       "      <th>4</th>\n",
       "      <td>47209</td>\n",
       "      <td>29773</td>\n",
       "      <td>Organic Hass Avocado</td>\n",
       "      <td>24</td>\n",
       "      <td>4</td>\n",
       "    </tr>\n",
       "    <tr>\n",
       "      <th>5</th>\n",
       "      <td>47766</td>\n",
       "      <td>24689</td>\n",
       "      <td>Organic Avocado</td>\n",
       "      <td>24</td>\n",
       "      <td>4</td>\n",
       "    </tr>\n",
       "    <tr>\n",
       "      <th>6</th>\n",
       "      <td>47626</td>\n",
       "      <td>21495</td>\n",
       "      <td>Large Lemon</td>\n",
       "      <td>24</td>\n",
       "      <td>4</td>\n",
       "    </tr>\n",
       "    <tr>\n",
       "      <th>7</th>\n",
       "      <td>16797</td>\n",
       "      <td>20018</td>\n",
       "      <td>Strawberries</td>\n",
       "      <td>24</td>\n",
       "      <td>4</td>\n",
       "    </tr>\n",
       "    <tr>\n",
       "      <th>8</th>\n",
       "      <td>26209</td>\n",
       "      <td>19690</td>\n",
       "      <td>Limes</td>\n",
       "      <td>24</td>\n",
       "      <td>4</td>\n",
       "    </tr>\n",
       "    <tr>\n",
       "      <th>9</th>\n",
       "      <td>27845</td>\n",
       "      <td>19600</td>\n",
       "      <td>Organic Whole Milk</td>\n",
       "      <td>84</td>\n",
       "      <td>16</td>\n",
       "    </tr>\n",
       "    <tr>\n",
       "      <th>10</th>\n",
       "      <td>27966</td>\n",
       "      <td>19197</td>\n",
       "      <td>Organic Raspberries</td>\n",
       "      <td>123</td>\n",
       "      <td>4</td>\n",
       "    </tr>\n",
       "    <tr>\n",
       "      <th>11</th>\n",
       "      <td>22935</td>\n",
       "      <td>15898</td>\n",
       "      <td>Organic Yellow Onion</td>\n",
       "      <td>83</td>\n",
       "      <td>4</td>\n",
       "    </tr>\n",
       "    <tr>\n",
       "      <th>12</th>\n",
       "      <td>24964</td>\n",
       "      <td>15292</td>\n",
       "      <td>Organic Garlic</td>\n",
       "      <td>83</td>\n",
       "      <td>4</td>\n",
       "    </tr>\n",
       "    <tr>\n",
       "      <th>13</th>\n",
       "      <td>45007</td>\n",
       "      <td>14584</td>\n",
       "      <td>Organic Zucchini</td>\n",
       "      <td>83</td>\n",
       "      <td>4</td>\n",
       "    </tr>\n",
       "    <tr>\n",
       "      <th>14</th>\n",
       "      <td>39275</td>\n",
       "      <td>13879</td>\n",
       "      <td>Organic Blueberries</td>\n",
       "      <td>123</td>\n",
       "      <td>4</td>\n",
       "    </tr>\n",
       "    <tr>\n",
       "      <th>15</th>\n",
       "      <td>49683</td>\n",
       "      <td>13675</td>\n",
       "      <td>Cucumber Kirby</td>\n",
       "      <td>83</td>\n",
       "      <td>4</td>\n",
       "    </tr>\n",
       "    <tr>\n",
       "      <th>16</th>\n",
       "      <td>28204</td>\n",
       "      <td>12544</td>\n",
       "      <td>Organic Fuji Apple</td>\n",
       "      <td>24</td>\n",
       "      <td>4</td>\n",
       "    </tr>\n",
       "    <tr>\n",
       "      <th>17</th>\n",
       "      <td>5876</td>\n",
       "      <td>12232</td>\n",
       "      <td>Organic Lemon</td>\n",
       "      <td>24</td>\n",
       "      <td>4</td>\n",
       "    </tr>\n",
       "    <tr>\n",
       "      <th>18</th>\n",
       "      <td>8277</td>\n",
       "      <td>11993</td>\n",
       "      <td>Apple Honeycrisp Organic</td>\n",
       "      <td>24</td>\n",
       "      <td>4</td>\n",
       "    </tr>\n",
       "    <tr>\n",
       "      <th>19</th>\n",
       "      <td>40706</td>\n",
       "      <td>11781</td>\n",
       "      <td>Organic Grape Tomatoes</td>\n",
       "      <td>123</td>\n",
       "      <td>4</td>\n",
       "    </tr>\n",
       "  </tbody>\n",
       "</table>\n",
       "</div>"
      ],
      "text/plain": [
       "    product_id  order_id              product_name  aisle_id  department_id\n",
       "0        24852     66050                    Banana        24              4\n",
       "1        13176     53297    Bag of Organic Bananas        24              4\n",
       "2        21137     37039      Organic Strawberries        24              4\n",
       "3        21903     33971      Organic Baby Spinach       123              4\n",
       "4        47209     29773      Organic Hass Avocado        24              4\n",
       "5        47766     24689           Organic Avocado        24              4\n",
       "6        47626     21495               Large Lemon        24              4\n",
       "7        16797     20018              Strawberries        24              4\n",
       "8        26209     19690                     Limes        24              4\n",
       "9        27845     19600        Organic Whole Milk        84             16\n",
       "10       27966     19197       Organic Raspberries       123              4\n",
       "11       22935     15898      Organic Yellow Onion        83              4\n",
       "12       24964     15292            Organic Garlic        83              4\n",
       "13       45007     14584          Organic Zucchini        83              4\n",
       "14       39275     13879       Organic Blueberries       123              4\n",
       "15       49683     13675            Cucumber Kirby        83              4\n",
       "16       28204     12544        Organic Fuji Apple        24              4\n",
       "17        5876     12232             Organic Lemon        24              4\n",
       "18        8277     11993  Apple Honeycrisp Organic        24              4\n",
       "19       40706     11781    Organic Grape Tomatoes       123              4"
      ]
     },
     "execution_count": 50,
     "metadata": {},
     "output_type": "execute_result"
    }
   ],
   "source": [
    "# Merge top products with their product names from the product dataframe\n",
    "top_products_details = top_products.merge(products, on='product_id')\n",
    "top_products_details"
   ]
  },
  {
   "cell_type": "code",
   "execution_count": 51,
   "id": "c29b6500",
   "metadata": {},
   "outputs": [
    {
     "data": {
      "text/html": [
       "<div>\n",
       "<style scoped>\n",
       "    .dataframe tbody tr th:only-of-type {\n",
       "        vertical-align: middle;\n",
       "    }\n",
       "\n",
       "    .dataframe tbody tr th {\n",
       "        vertical-align: top;\n",
       "    }\n",
       "\n",
       "    .dataframe thead th {\n",
       "        text-align: right;\n",
       "    }\n",
       "</style>\n",
       "<table border=\"1\" class=\"dataframe\">\n",
       "  <thead>\n",
       "    <tr style=\"text-align: right;\">\n",
       "      <th></th>\n",
       "      <th>product_id</th>\n",
       "      <th>product_name</th>\n",
       "    </tr>\n",
       "  </thead>\n",
       "  <tbody>\n",
       "    <tr>\n",
       "      <th>0</th>\n",
       "      <td>24852</td>\n",
       "      <td>Banana</td>\n",
       "    </tr>\n",
       "    <tr>\n",
       "      <th>1</th>\n",
       "      <td>13176</td>\n",
       "      <td>Bag of Organic Bananas</td>\n",
       "    </tr>\n",
       "    <tr>\n",
       "      <th>2</th>\n",
       "      <td>21137</td>\n",
       "      <td>Organic Strawberries</td>\n",
       "    </tr>\n",
       "    <tr>\n",
       "      <th>3</th>\n",
       "      <td>21903</td>\n",
       "      <td>Organic Baby Spinach</td>\n",
       "    </tr>\n",
       "    <tr>\n",
       "      <th>4</th>\n",
       "      <td>47209</td>\n",
       "      <td>Organic Hass Avocado</td>\n",
       "    </tr>\n",
       "    <tr>\n",
       "      <th>5</th>\n",
       "      <td>47766</td>\n",
       "      <td>Organic Avocado</td>\n",
       "    </tr>\n",
       "    <tr>\n",
       "      <th>6</th>\n",
       "      <td>47626</td>\n",
       "      <td>Large Lemon</td>\n",
       "    </tr>\n",
       "    <tr>\n",
       "      <th>7</th>\n",
       "      <td>16797</td>\n",
       "      <td>Strawberries</td>\n",
       "    </tr>\n",
       "    <tr>\n",
       "      <th>8</th>\n",
       "      <td>26209</td>\n",
       "      <td>Limes</td>\n",
       "    </tr>\n",
       "    <tr>\n",
       "      <th>9</th>\n",
       "      <td>27845</td>\n",
       "      <td>Organic Whole Milk</td>\n",
       "    </tr>\n",
       "    <tr>\n",
       "      <th>10</th>\n",
       "      <td>27966</td>\n",
       "      <td>Organic Raspberries</td>\n",
       "    </tr>\n",
       "    <tr>\n",
       "      <th>11</th>\n",
       "      <td>22935</td>\n",
       "      <td>Organic Yellow Onion</td>\n",
       "    </tr>\n",
       "    <tr>\n",
       "      <th>12</th>\n",
       "      <td>24964</td>\n",
       "      <td>Organic Garlic</td>\n",
       "    </tr>\n",
       "    <tr>\n",
       "      <th>13</th>\n",
       "      <td>45007</td>\n",
       "      <td>Organic Zucchini</td>\n",
       "    </tr>\n",
       "    <tr>\n",
       "      <th>14</th>\n",
       "      <td>39275</td>\n",
       "      <td>Organic Blueberries</td>\n",
       "    </tr>\n",
       "    <tr>\n",
       "      <th>15</th>\n",
       "      <td>49683</td>\n",
       "      <td>Cucumber Kirby</td>\n",
       "    </tr>\n",
       "    <tr>\n",
       "      <th>16</th>\n",
       "      <td>28204</td>\n",
       "      <td>Organic Fuji Apple</td>\n",
       "    </tr>\n",
       "    <tr>\n",
       "      <th>17</th>\n",
       "      <td>5876</td>\n",
       "      <td>Organic Lemon</td>\n",
       "    </tr>\n",
       "    <tr>\n",
       "      <th>18</th>\n",
       "      <td>8277</td>\n",
       "      <td>Apple Honeycrisp Organic</td>\n",
       "    </tr>\n",
       "    <tr>\n",
       "      <th>19</th>\n",
       "      <td>40706</td>\n",
       "      <td>Organic Grape Tomatoes</td>\n",
       "    </tr>\n",
       "  </tbody>\n",
       "</table>\n",
       "</div>"
      ],
      "text/plain": [
       "    product_id              product_name\n",
       "0        24852                    Banana\n",
       "1        13176    Bag of Organic Bananas\n",
       "2        21137      Organic Strawberries\n",
       "3        21903      Organic Baby Spinach\n",
       "4        47209      Organic Hass Avocado\n",
       "5        47766           Organic Avocado\n",
       "6        47626               Large Lemon\n",
       "7        16797              Strawberries\n",
       "8        26209                     Limes\n",
       "9        27845        Organic Whole Milk\n",
       "10       27966       Organic Raspberries\n",
       "11       22935      Organic Yellow Onion\n",
       "12       24964            Organic Garlic\n",
       "13       45007          Organic Zucchini\n",
       "14       39275       Organic Blueberries\n",
       "15       49683            Cucumber Kirby\n",
       "16       28204        Organic Fuji Apple\n",
       "17        5876             Organic Lemon\n",
       "18        8277  Apple Honeycrisp Organic\n",
       "19       40706    Organic Grape Tomatoes"
      ]
     },
     "execution_count": 51,
     "metadata": {},
     "output_type": "execute_result"
    }
   ],
   "source": [
    "# Display only their product id and name\n",
    "top_products = top_products_details[['product_id', 'product_name']]\n",
    "top_products"
   ]
  },
  {
   "cell_type": "markdown",
   "id": "59f545c9",
   "metadata": {},
   "source": [
    "In the above code, we count the number of orders a product has been ordered in order_products, sort them in descending order, and then merge the product_id column with the product_name column in products dataframe to get the product names based on their id number."
   ]
  },
  {
   "cell_type": "markdown",
   "id": "921e94d9",
   "metadata": {},
   "source": [
    "# [C] Hard (must complete at least two to pass)"
   ]
  },
  {
   "cell_type": "markdown",
   "id": "8077837f",
   "metadata": {},
   "source": [
    "# [C1] How many items do people typically buy in one order? What does the distribution look like?"
   ]
  },
  {
   "cell_type": "code",
   "execution_count": 53,
   "id": "3e773669",
   "metadata": {},
   "outputs": [
    {
     "data": {
      "text/plain": [
       "order_id\n",
       "4          13\n",
       "9          15\n",
       "11          5\n",
       "19          3\n",
       "20          8\n",
       "           ..\n",
       "3421034    17\n",
       "3421053     9\n",
       "3421071     5\n",
       "3421077     4\n",
       "3421079     1\n",
       "Length: 450046, dtype: int64"
      ]
     },
     "execution_count": 53,
     "metadata": {},
     "output_type": "execute_result"
    }
   ],
   "source": [
    "# Calculate the number of items per order\n",
    "items_per_order = order_products.groupby('order_id').size()\n",
    "items_per_order"
   ]
  },
  {
   "cell_type": "code",
   "execution_count": 55,
   "id": "d6daaecc",
   "metadata": {},
   "outputs": [
    {
     "data": {
      "text/plain": [
       "count    450046.000000\n",
       "mean         10.098983\n",
       "std           7.540206\n",
       "min           1.000000\n",
       "25%           5.000000\n",
       "50%           8.000000\n",
       "75%          14.000000\n",
       "max         127.000000\n",
       "dtype: float64"
      ]
     },
     "execution_count": 55,
     "metadata": {},
     "output_type": "execute_result"
    }
   ],
   "source": [
    "items_per_order.describe()"
   ]
  },
  {
   "cell_type": "code",
   "execution_count": 57,
   "id": "e843ebc9",
   "metadata": {},
   "outputs": [
    {
     "data": {
      "image/png": "[encoded data removed]",
      "text/plain": [
       "<Figure size 1200x600 with 1 Axes>"
      ]
     },
     "metadata": {},
     "output_type": "display_data"
    }
   ],
   "source": [
    "# Plot distribution of the number of items per order\n",
    "plt.figure(figsize=(12, 6))\n",
    "plt.hist(items_per_order, bins=range(1, items_per_order.max() + 2), color='skyblue', edgecolor='black', alpha=0.7)\n",
    "plt.title('Distribution of Number of Items per Order')\n",
    "plt.xlabel('Number of Items per Order')\n",
    "plt.ylabel('Frequency')\n",
    "plt.grid(axis='y', linestyle='--', alpha=0.7)\n",
    "plt.tight_layout()\n",
    "plt.show()"
   ]
  },
  {
   "cell_type": "markdown",
   "id": "51187583",
   "metadata": {},
   "source": [
    "The average number of items in an order is 10. The majority of the data is within 1 to 20 items per order. There is an extreme outlier at 127 items in an order."
   ]
  },
  {
   "cell_type": "markdown",
   "id": "c4103d61",
   "metadata": {},
   "source": [
    "# [C2] What are the top 20 items that are reordered most frequently (display their names and product IDs)?"
   ]
  },
  {
   "cell_type": "code",
   "execution_count": 62,
   "id": "d935fbfd",
   "metadata": {},
   "outputs": [
    {
     "data": {
      "text/html": [
       "<div>\n",
       "<style scoped>\n",
       "    .dataframe tbody tr th:only-of-type {\n",
       "        vertical-align: middle;\n",
       "    }\n",
       "\n",
       "    .dataframe tbody tr th {\n",
       "        vertical-align: top;\n",
       "    }\n",
       "\n",
       "    .dataframe thead th {\n",
       "        text-align: right;\n",
       "    }\n",
       "</style>\n",
       "<table border=\"1\" class=\"dataframe\">\n",
       "  <thead>\n",
       "    <tr style=\"text-align: right;\">\n",
       "      <th></th>\n",
       "      <th>order_id</th>\n",
       "      <th>product_id</th>\n",
       "      <th>add_to_cart_order</th>\n",
       "      <th>reordered</th>\n",
       "    </tr>\n",
       "  </thead>\n",
       "  <tbody>\n",
       "    <tr>\n",
       "      <th>1</th>\n",
       "      <td>567889</td>\n",
       "      <td>1560</td>\n",
       "      <td>1</td>\n",
       "      <td>1</td>\n",
       "    </tr>\n",
       "    <tr>\n",
       "      <th>2</th>\n",
       "      <td>2261212</td>\n",
       "      <td>26683</td>\n",
       "      <td>1</td>\n",
       "      <td>1</td>\n",
       "    </tr>\n",
       "    <tr>\n",
       "      <th>3</th>\n",
       "      <td>491251</td>\n",
       "      <td>8670</td>\n",
       "      <td>35</td>\n",
       "      <td>1</td>\n",
       "    </tr>\n",
       "    <tr>\n",
       "      <th>4</th>\n",
       "      <td>2571142</td>\n",
       "      <td>1940</td>\n",
       "      <td>5</td>\n",
       "      <td>1</td>\n",
       "    </tr>\n",
       "    <tr>\n",
       "      <th>5</th>\n",
       "      <td>2456893</td>\n",
       "      <td>21616</td>\n",
       "      <td>4</td>\n",
       "      <td>1</td>\n",
       "    </tr>\n",
       "    <tr>\n",
       "      <th>...</th>\n",
       "      <td>...</td>\n",
       "      <td>...</td>\n",
       "      <td>...</td>\n",
       "      <td>...</td>\n",
       "    </tr>\n",
       "    <tr>\n",
       "      <th>4544999</th>\n",
       "      <td>1622300</td>\n",
       "      <td>24852</td>\n",
       "      <td>1</td>\n",
       "      <td>1</td>\n",
       "    </tr>\n",
       "    <tr>\n",
       "      <th>4545000</th>\n",
       "      <td>1125324</td>\n",
       "      <td>40600</td>\n",
       "      <td>6</td>\n",
       "      <td>1</td>\n",
       "    </tr>\n",
       "    <tr>\n",
       "      <th>4545002</th>\n",
       "      <td>577211</td>\n",
       "      <td>15290</td>\n",
       "      <td>12</td>\n",
       "      <td>1</td>\n",
       "    </tr>\n",
       "    <tr>\n",
       "      <th>4545004</th>\n",
       "      <td>692640</td>\n",
       "      <td>47766</td>\n",
       "      <td>4</td>\n",
       "      <td>1</td>\n",
       "    </tr>\n",
       "    <tr>\n",
       "      <th>4545005</th>\n",
       "      <td>319435</td>\n",
       "      <td>691</td>\n",
       "      <td>8</td>\n",
       "      <td>1</td>\n",
       "    </tr>\n",
       "  </tbody>\n",
       "</table>\n",
       "<p>2683838 rows × 4 columns</p>\n",
       "</div>"
      ],
      "text/plain": [
       "         order_id  product_id  add_to_cart_order  reordered\n",
       "1          567889        1560                  1          1\n",
       "2         2261212       26683                  1          1\n",
       "3          491251        8670                 35          1\n",
       "4         2571142        1940                  5          1\n",
       "5         2456893       21616                  4          1\n",
       "...           ...         ...                ...        ...\n",
       "4544999   1622300       24852                  1          1\n",
       "4545000   1125324       40600                  6          1\n",
       "4545002    577211       15290                 12          1\n",
       "4545004    692640       47766                  4          1\n",
       "4545005    319435         691                  8          1\n",
       "\n",
       "[2683838 rows x 4 columns]"
      ]
     },
     "execution_count": 62,
     "metadata": {},
     "output_type": "execute_result"
    }
   ],
   "source": [
    "# Filter for reorder items in order_products\n",
    "reordered = order_products[order_products['reordered'] > 0]\n",
    "reordered"
   ]
  },
  {
   "cell_type": "code",
   "execution_count": 69,
   "id": "a868315d",
   "metadata": {},
   "outputs": [],
   "source": [
    "# Count the number of reorders per product\n",
    "reorder_counts = reordered['product_id'].value_counts().reset_index()\n",
    "reorder_counts.columns = ['product_id', 'reorder_count']"
   ]
  },
  {
   "cell_type": "code",
   "execution_count": 70,
   "id": "fa3944d3",
   "metadata": {},
   "outputs": [
    {
     "data": {
      "text/html": [
       "<div>\n",
       "<style scoped>\n",
       "    .dataframe tbody tr th:only-of-type {\n",
       "        vertical-align: middle;\n",
       "    }\n",
       "\n",
       "    .dataframe tbody tr th {\n",
       "        vertical-align: top;\n",
       "    }\n",
       "\n",
       "    .dataframe thead th {\n",
       "        text-align: right;\n",
       "    }\n",
       "</style>\n",
       "<table border=\"1\" class=\"dataframe\">\n",
       "  <thead>\n",
       "    <tr style=\"text-align: right;\">\n",
       "      <th></th>\n",
       "      <th>product_id</th>\n",
       "      <th>reorder_count</th>\n",
       "      <th>product_name</th>\n",
       "      <th>aisle_id</th>\n",
       "      <th>department_id</th>\n",
       "    </tr>\n",
       "  </thead>\n",
       "  <tbody>\n",
       "    <tr>\n",
       "      <th>0</th>\n",
       "      <td>24852</td>\n",
       "      <td>55763</td>\n",
       "      <td>Banana</td>\n",
       "      <td>24</td>\n",
       "      <td>4</td>\n",
       "    </tr>\n",
       "    <tr>\n",
       "      <th>1</th>\n",
       "      <td>13176</td>\n",
       "      <td>44450</td>\n",
       "      <td>Bag of Organic Bananas</td>\n",
       "      <td>24</td>\n",
       "      <td>4</td>\n",
       "    </tr>\n",
       "    <tr>\n",
       "      <th>2</th>\n",
       "      <td>21137</td>\n",
       "      <td>28639</td>\n",
       "      <td>Organic Strawberries</td>\n",
       "      <td>24</td>\n",
       "      <td>4</td>\n",
       "    </tr>\n",
       "    <tr>\n",
       "      <th>3</th>\n",
       "      <td>21903</td>\n",
       "      <td>26233</td>\n",
       "      <td>Organic Baby Spinach</td>\n",
       "      <td>123</td>\n",
       "      <td>4</td>\n",
       "    </tr>\n",
       "    <tr>\n",
       "      <th>4</th>\n",
       "      <td>47209</td>\n",
       "      <td>23629</td>\n",
       "      <td>Organic Hass Avocado</td>\n",
       "      <td>24</td>\n",
       "      <td>4</td>\n",
       "    </tr>\n",
       "    <tr>\n",
       "      <th>...</th>\n",
       "      <td>...</td>\n",
       "      <td>...</td>\n",
       "      <td>...</td>\n",
       "      <td>...</td>\n",
       "      <td>...</td>\n",
       "    </tr>\n",
       "    <tr>\n",
       "      <th>36223</th>\n",
       "      <td>2591</td>\n",
       "      <td>1</td>\n",
       "      <td>500 mg Vitamin C caplets</td>\n",
       "      <td>47</td>\n",
       "      <td>11</td>\n",
       "    </tr>\n",
       "    <tr>\n",
       "      <th>36224</th>\n",
       "      <td>29201</td>\n",
       "      <td>1</td>\n",
       "      <td>Pretzels Sesame Baked Not Fried</td>\n",
       "      <td>107</td>\n",
       "      <td>19</td>\n",
       "    </tr>\n",
       "    <tr>\n",
       "      <th>36225</th>\n",
       "      <td>27154</td>\n",
       "      <td>1</td>\n",
       "      <td>Ultimates Chocolate Pecan Deluxe Cookie Dough</td>\n",
       "      <td>105</td>\n",
       "      <td>13</td>\n",
       "    </tr>\n",
       "    <tr>\n",
       "      <th>36226</th>\n",
       "      <td>10789</td>\n",
       "      <td>1</td>\n",
       "      <td>Pure Aloe Whole Leaf Juice with Lemon</td>\n",
       "      <td>77</td>\n",
       "      <td>7</td>\n",
       "    </tr>\n",
       "    <tr>\n",
       "      <th>36227</th>\n",
       "      <td>2049</td>\n",
       "      <td>1</td>\n",
       "      <td>Malbec Mendoza</td>\n",
       "      <td>28</td>\n",
       "      <td>5</td>\n",
       "    </tr>\n",
       "  </tbody>\n",
       "</table>\n",
       "<p>36228 rows × 5 columns</p>\n",
       "</div>"
      ],
      "text/plain": [
       "       product_id  reorder_count  \\\n",
       "0           24852          55763   \n",
       "1           13176          44450   \n",
       "2           21137          28639   \n",
       "3           21903          26233   \n",
       "4           47209          23629   \n",
       "...           ...            ...   \n",
       "36223        2591              1   \n",
       "36224       29201              1   \n",
       "36225       27154              1   \n",
       "36226       10789              1   \n",
       "36227        2049              1   \n",
       "\n",
       "                                        product_name  aisle_id  department_id  \n",
       "0                                             Banana        24              4  \n",
       "1                             Bag of Organic Bananas        24              4  \n",
       "2                               Organic Strawberries        24              4  \n",
       "3                               Organic Baby Spinach       123              4  \n",
       "4                               Organic Hass Avocado        24              4  \n",
       "...                                              ...       ...            ...  \n",
       "36223                       500 mg Vitamin C caplets        47             11  \n",
       "36224                Pretzels Sesame Baked Not Fried       107             19  \n",
       "36225  Ultimates Chocolate Pecan Deluxe Cookie Dough       105             13  \n",
       "36226          Pure Aloe Whole Leaf Juice with Lemon        77              7  \n",
       "36227                                 Malbec Mendoza        28              5  \n",
       "\n",
       "[36228 rows x 5 columns]"
      ]
     },
     "execution_count": 70,
     "metadata": {},
     "output_type": "execute_result"
    }
   ],
   "source": [
    "# Merge with product details to get product names\n",
    "top_reordered_products = pd.merge(reorder_counts, products, on='product_id')\n",
    "top_reordered_products"
   ]
  },
  {
   "cell_type": "code",
   "execution_count": 71,
   "id": "158072c8",
   "metadata": {},
   "outputs": [
    {
     "name": "stdout",
     "output_type": "stream",
     "text": [
      "Top 20 Reordered Products:\n",
      "    product_id              product_name\n",
      "0        24852                    Banana\n",
      "1        13176    Bag of Organic Bananas\n",
      "2        21137      Organic Strawberries\n",
      "3        21903      Organic Baby Spinach\n",
      "4        47209      Organic Hass Avocado\n",
      "5        47766           Organic Avocado\n",
      "6        27845        Organic Whole Milk\n",
      "7        47626               Large Lemon\n",
      "8        27966       Organic Raspberries\n",
      "9        16797              Strawberries\n",
      "10       26209                     Limes\n",
      "11       22935      Organic Yellow Onion\n",
      "12       24964            Organic Garlic\n",
      "13       45007          Organic Zucchini\n",
      "14       49683            Cucumber Kirby\n",
      "15       28204        Organic Fuji Apple\n",
      "16        8277  Apple Honeycrisp Organic\n",
      "17       39275       Organic Blueberries\n",
      "18        5876             Organic Lemon\n",
      "19       49235       Organic Half & Half\n"
     ]
    }
   ],
   "source": [
    "# Select the top 20 products\n",
    "top_20_reordered = top_reordered_products.head(20)\n",
    "\n",
    "# Display the top 20 reordered products with their id and name\n",
    "print(\"Top 20 Reordered Products:\")\n",
    "print(top_20_reordered[['product_id', 'product_name']])"
   ]
  },
  {
   "cell_type": "markdown",
   "id": "cf3f4fa2",
   "metadata": {},
   "source": [
    "The above code sorts the product list into a reordered list in descending order and then matches the product id with the products name."
   ]
  },
  {
   "cell_type": "markdown",
   "id": "d3f95563",
   "metadata": {},
   "source": [
    "## 📊 Final Conclusion: Instacart Customer Behavior Insights\n",
    "\n",
    "After cleaning and analyzing Instacart's 2017 customer data, several important trends and behaviors were uncovered that provide valuable insight into how, when, and what customers order:\n",
    "\n",
    "### 🕐 Ordering Patterns\n",
    "- **Peak Shopping Hours**: The majority of customers place orders between **8:00 AM and 6:00 PM**, with a clear peak in the late morning and early afternoon.\n",
    "- **Popular Days**: **Sundays and Mondays** see the highest number of orders, indicating that customers are likely preparing for the upcoming week.\n",
    "\n",
    "### ⏱️ Frequency of Orders\n",
    "- Most customers reorder groceries **every 2 to 10 days**, with a notable number also reordering exactly every **30 days**, possibly indicating **monthly subscription patterns** or restocking routines.\n",
    "- The number of **orders per customer** shows that while many users are occasional shoppers, a strong core of loyal users place multiple repeat orders.\n",
    "\n",
    "### 📦 Order Size\n",
    "- On average, a customer buys **around 10 items per order**.\n",
    "- Most orders contain **between 5 and 15 items**, though some can contain over 100 items, suggesting usage for both small household needs and large restocks.\n",
    "\n",
    "### 🛒 Product Preferences\n",
    "- The most frequently ordered and reordered products include essentials like **bananas**, **organic strawberries**, and **organic whole milk**, highlighting a strong preference for **fresh and organic products**.\n",
    "- The **top 20 reordered products** suggest customers tend to stick with preferred brands or staple goods, reflecting habits and brand loyalty.\n",
    "\n",
    "### 🧠 Behavioral Differences by Day\n",
    "- On **Saturdays**, there are slightly more orders during peak hours compared to **Wednesdays**, possibly due to weekend shopping routines.\n",
    "- While both days show similar peak times, **Saturday** has higher volume, which may help in planning promotions or staffing.\n",
    "\n",
    "---\n",
    "\n",
    "### 📌 Recommendations:\n",
    "1. **Target promotions on Sundays and Mondays** to maximize impact.\n",
    "2. **Encourage reorders** between the 5–10 day window using personalized reminders.\n",
    "3. **Highlight popular and frequently reordered items** on the homepage or in marketing emails.\n",
    "4. **Offer loyalty incentives** to encourage one-time shoppers to return and build habits.\n",
    "\n",
    "These insights help Instacart better understand customer behavior and can be used to **optimize marketing strategies, improve customer retention, and enhance user experience**.\n",
    "\n"
   ]
  }
 ],
 "metadata": {
  "ExecuteTimeLog": [
   {
    "duration": 376,
    "start_time": "2025-07-22T16:07:04.842Z"
   },
   {
    "duration": 522,
    "start_time": "2025-07-22T16:08:39.926Z"
   },
   {
    "duration": 146,
    "start_time": "2025-07-22T16:09:01.343Z"
   },
   {
    "duration": 12,
    "start_time": "2025-07-22T16:10:22.173Z"
   },
   {
    "duration": 16,
    "start_time": "2025-07-22T16:10:32.975Z"
   },
   {
    "duration": 965,
    "start_time": "2025-07-22T16:12:46.025Z"
   },
   {
    "duration": 15,
    "start_time": "2025-07-22T16:13:10.247Z"
   },
   {
    "duration": 2,
    "start_time": "2025-07-22T16:13:38.694Z"
   },
   {
    "duration": 2,
    "start_time": "2025-07-22T16:14:02.763Z"
   },
   {
    "duration": 9,
    "start_time": "2025-07-22T16:16:17.920Z"
   },
   {
    "duration": 2,
    "start_time": "2025-07-22T16:17:47.097Z"
   },
   {
    "duration": 2,
    "start_time": "2025-07-22T16:17:48.893Z"
   },
   {
    "duration": 2,
    "start_time": "2025-07-22T16:17:49.987Z"
   },
   {
    "duration": 15,
    "start_time": "2025-07-22T16:19:13.755Z"
   },
   {
    "duration": 14,
    "start_time": "2025-07-22T16:19:15.070Z"
   },
   {
    "duration": 11,
    "start_time": "2025-07-22T16:19:19.438Z"
   },
   {
    "duration": 12,
    "start_time": "2025-07-22T16:19:20.707Z"
   },
   {
    "duration": 11,
    "start_time": "2025-07-22T16:19:21.557Z"
   },
   {
    "duration": 6,
    "start_time": "2025-07-22T16:24:13.655Z"
   },
   {
    "duration": 20,
    "start_time": "2025-07-22T16:26:15.714Z"
   },
   {
    "duration": 13,
    "start_time": "2025-07-22T16:26:33.431Z"
   },
   {
    "duration": 13,
    "start_time": "2025-07-22T16:31:22.563Z"
   },
   {
    "duration": 15,
    "start_time": "2025-07-22T16:31:32.145Z"
   },
   {
    "duration": 15,
    "start_time": "2025-07-22T16:32:01.408Z"
   },
   {
    "duration": 5,
    "start_time": "2025-07-22T16:32:41.777Z"
   },
   {
    "duration": 6,
    "start_time": "2025-07-22T16:36:30.114Z"
   },
   {
    "duration": 15,
    "start_time": "2025-07-22T16:37:09.842Z"
   },
   {
    "duration": 14,
    "start_time": "2025-07-22T16:37:15.063Z"
   },
   {
    "duration": 16,
    "start_time": "2025-07-22T16:37:33.868Z"
   },
   {
    "duration": 17,
    "start_time": "2025-07-22T16:37:40.114Z"
   },
   {
    "duration": 15,
    "start_time": "2025-07-22T16:37:49.450Z"
   },
   {
    "duration": 13,
    "start_time": "2025-07-22T16:37:55.477Z"
   },
   {
    "duration": 6,
    "start_time": "2025-07-22T16:38:35.448Z"
   },
   {
    "duration": 365,
    "start_time": "2025-07-22T16:39:28.234Z"
   },
   {
    "duration": 5,
    "start_time": "2025-07-22T16:39:51.068Z"
   },
   {
    "duration": 5,
    "start_time": "2025-07-22T16:41:04.686Z"
   },
   {
    "duration": 11,
    "start_time": "2025-07-22T16:41:12.163Z"
   },
   {
    "duration": 15,
    "start_time": "2025-07-22T16:43:35.771Z"
   },
   {
    "duration": 18,
    "start_time": "2025-07-22T16:43:41.583Z"
   },
   {
    "duration": 94,
    "start_time": "2025-07-22T16:51:39.143Z"
   },
   {
    "duration": 85,
    "start_time": "2025-07-22T16:51:47.897Z"
   },
   {
    "duration": 20,
    "start_time": "2025-07-22T16:52:49.577Z"
   },
   {
    "duration": 101,
    "start_time": "2025-07-22T16:53:53.324Z"
   },
   {
    "duration": 95,
    "start_time": "2025-07-22T16:54:36.191Z"
   },
   {
    "duration": 95,
    "start_time": "2025-07-22T16:54:51.333Z"
   },
   {
    "duration": 92,
    "start_time": "2025-07-22T16:54:54.428Z"
   },
   {
    "duration": 10,
    "start_time": "2025-07-22T16:55:53.392Z"
   },
   {
    "duration": 6,
    "start_time": "2025-07-22T17:03:12.946Z"
   },
   {
    "duration": 6,
    "start_time": "2025-07-22T17:04:11.576Z"
   },
   {
    "duration": 14,
    "start_time": "2025-07-22T17:06:46.206Z"
   },
   {
    "duration": 7,
    "start_time": "2025-07-22T17:07:06.418Z"
   },
   {
    "duration": 6,
    "start_time": "2025-07-22T17:07:19.006Z"
   },
   {
    "duration": 6,
    "start_time": "2025-07-22T17:07:22.389Z"
   },
   {
    "duration": 7,
    "start_time": "2025-07-22T17:09:17.118Z"
   },
   {
    "duration": 6,
    "start_time": "2025-07-22T17:09:54.256Z"
   },
   {
    "duration": 5,
    "start_time": "2025-07-22T17:10:03.942Z"
   },
   {
    "duration": 6,
    "start_time": "2025-07-22T17:10:05.612Z"
   },
   {
    "duration": 14,
    "start_time": "2025-07-22T17:10:47.431Z"
   },
   {
    "duration": 8,
    "start_time": "2025-07-22T17:11:56.739Z"
   },
   {
    "duration": 5,
    "start_time": "2025-07-22T17:12:28.254Z"
   },
   {
    "duration": 9,
    "start_time": "2025-07-22T17:12:49.519Z"
   },
   {
    "duration": 5,
    "start_time": "2025-07-22T17:13:07.556Z"
   },
   {
    "duration": 6,
    "start_time": "2025-07-22T17:13:17.065Z"
   },
   {
    "duration": 7,
    "start_time": "2025-07-22T17:13:56.279Z"
   },
   {
    "duration": 17,
    "start_time": "2025-07-22T17:14:27.116Z"
   },
   {
    "duration": 117,
    "start_time": "2025-07-22T17:14:52.840Z"
   },
   {
    "duration": 5,
    "start_time": "2025-07-22T17:17:19.661Z"
   },
   {
    "duration": 4,
    "start_time": "2025-07-22T17:17:26.636Z"
   },
   {
    "duration": 6,
    "start_time": "2025-07-22T17:17:49.366Z"
   },
   {
    "duration": 10,
    "start_time": "2025-07-22T17:17:50.308Z"
   },
   {
    "duration": 11,
    "start_time": "2025-07-22T17:18:05.020Z"
   },
   {
    "duration": 115,
    "start_time": "2025-07-22T17:25:29.266Z"
   },
   {
    "duration": 13,
    "start_time": "2025-07-22T17:33:00.108Z"
   },
   {
    "duration": 35,
    "start_time": "2025-07-22T17:34:21.886Z"
   },
   {
    "duration": 36,
    "start_time": "2025-07-22T17:34:35.186Z"
   },
   {
    "duration": 30,
    "start_time": "2025-07-22T17:35:22.226Z"
   },
   {
    "duration": 9,
    "start_time": "2025-07-22T17:36:54.446Z"
   },
   {
    "duration": 13,
    "start_time": "2025-07-22T17:39:07.269Z"
   },
   {
    "duration": 8,
    "start_time": "2025-07-22T17:39:18.068Z"
   },
   {
    "duration": 66,
    "start_time": "2025-07-22T17:39:18.873Z"
   },
   {
    "duration": 70,
    "start_time": "2025-07-22T17:40:21.859Z"
   },
   {
    "duration": 4,
    "start_time": "2025-07-22T17:40:44.556Z"
   },
   {
    "duration": 6,
    "start_time": "2025-07-22T17:40:53.582Z"
   },
   {
    "duration": 3,
    "start_time": "2025-07-22T17:41:12.282Z"
   },
   {
    "duration": 14,
    "start_time": "2025-07-22T17:41:37.906Z"
   },
   {
    "duration": 35,
    "start_time": "2025-07-22T17:42:01.456Z"
   },
   {
    "duration": 353,
    "start_time": "2025-07-23T09:17:15.243Z"
   },
   {
    "duration": 975,
    "start_time": "2025-07-23T09:17:15.597Z"
   },
   {
    "duration": 18,
    "start_time": "2025-07-23T09:17:16.574Z"
   },
   {
    "duration": 12,
    "start_time": "2025-07-23T09:17:16.594Z"
   },
   {
    "duration": 10,
    "start_time": "2025-07-23T09:17:16.627Z"
   },
   {
    "duration": 10,
    "start_time": "2025-07-23T09:17:16.638Z"
   },
   {
    "duration": 10,
    "start_time": "2025-07-23T09:17:16.650Z"
   },
   {
    "duration": 7,
    "start_time": "2025-07-23T09:17:16.662Z"
   },
   {
    "duration": 5,
    "start_time": "2025-07-23T09:17:16.670Z"
   },
   {
    "duration": 127,
    "start_time": "2025-07-23T09:17:16.678Z"
   },
   {
    "duration": 101,
    "start_time": "2025-07-23T09:17:16.807Z"
   },
   {
    "duration": 94,
    "start_time": "2025-07-23T09:17:16.910Z"
   },
   {
    "duration": 21,
    "start_time": "2025-07-23T09:17:17.006Z"
   },
   {
    "duration": 10,
    "start_time": "2025-07-23T09:17:17.029Z"
   },
   {
    "duration": 6,
    "start_time": "2025-07-23T09:17:17.041Z"
   },
   {
    "duration": 5,
    "start_time": "2025-07-23T09:17:17.049Z"
   },
   {
    "duration": 6,
    "start_time": "2025-07-23T09:17:17.056Z"
   },
   {
    "duration": 6,
    "start_time": "2025-07-23T09:17:17.063Z"
   },
   {
    "duration": 4,
    "start_time": "2025-07-23T09:17:17.070Z"
   },
   {
    "duration": 5,
    "start_time": "2025-07-23T09:17:17.076Z"
   },
   {
    "duration": 54,
    "start_time": "2025-07-23T09:17:17.083Z"
   },
   {
    "duration": 8,
    "start_time": "2025-07-23T09:17:17.139Z"
   },
   {
    "duration": 5,
    "start_time": "2025-07-23T09:17:17.148Z"
   },
   {
    "duration": 8,
    "start_time": "2025-07-23T09:17:17.154Z"
   },
   {
    "duration": 5,
    "start_time": "2025-07-23T09:17:17.163Z"
   },
   {
    "duration": 142,
    "start_time": "2025-07-23T09:17:17.170Z"
   },
   {
    "duration": 24,
    "start_time": "2025-07-23T09:17:17.314Z"
   },
   {
    "duration": 13,
    "start_time": "2025-07-23T09:17:17.341Z"
   },
   {
    "duration": 7,
    "start_time": "2025-07-23T09:17:17.355Z"
   },
   {
    "duration": 81,
    "start_time": "2025-07-23T09:17:17.364Z"
   },
   {
    "duration": 6,
    "start_time": "2025-07-23T09:17:17.447Z"
   },
   {
    "duration": 3,
    "start_time": "2025-07-23T09:17:17.454Z"
   },
   {
    "duration": 34,
    "start_time": "2025-07-23T09:17:17.459Z"
   },
   {
    "duration": 6,
    "start_time": "2025-07-23T09:17:51.300Z"
   },
   {
    "duration": 7,
    "start_time": "2025-07-23T09:18:46.411Z"
   },
   {
    "duration": 2362,
    "start_time": "2025-07-23T09:25:29.832Z"
   },
   {
    "duration": 49,
    "start_time": "2025-07-23T09:26:14.958Z"
   },
   {
    "duration": 6,
    "start_time": "2025-07-23T09:27:57.518Z"
   },
   {
    "duration": 49,
    "start_time": "2025-07-23T09:28:26.899Z"
   },
   {
    "duration": 7,
    "start_time": "2025-07-23T09:28:43.254Z"
   },
   {
    "duration": 125,
    "start_time": "2025-07-23T09:29:09.965Z"
   },
   {
    "duration": 6,
    "start_time": "2025-07-23T09:30:06.812Z"
   },
   {
    "duration": 46,
    "start_time": "2025-07-23T09:30:14.468Z"
   },
   {
    "duration": 43,
    "start_time": "2025-07-23T09:30:25.916Z"
   },
   {
    "duration": 58,
    "start_time": "2025-07-23T09:32:22.134Z"
   },
   {
    "duration": 340,
    "start_time": "2025-07-23T09:39:01.255Z"
   },
   {
    "duration": 965,
    "start_time": "2025-07-23T09:39:01.597Z"
   },
   {
    "duration": 19,
    "start_time": "2025-07-23T09:39:02.564Z"
   },
   {
    "duration": 13,
    "start_time": "2025-07-23T09:39:02.584Z"
   },
   {
    "duration": 32,
    "start_time": "2025-07-23T09:39:02.599Z"
   },
   {
    "duration": 10,
    "start_time": "2025-07-23T09:39:02.634Z"
   },
   {
    "duration": 10,
    "start_time": "2025-07-23T09:39:02.646Z"
   },
   {
    "duration": 7,
    "start_time": "2025-07-23T09:39:02.658Z"
   },
   {
    "duration": 6,
    "start_time": "2025-07-23T09:39:02.666Z"
   },
   {
    "duration": 121,
    "start_time": "2025-07-23T09:39:02.673Z"
   },
   {
    "duration": 106,
    "start_time": "2025-07-23T09:39:02.795Z"
   },
   {
    "duration": 94,
    "start_time": "2025-07-23T09:39:02.903Z"
   },
   {
    "duration": 6,
    "start_time": "2025-07-23T09:39:03.000Z"
   },
   {
    "duration": 21,
    "start_time": "2025-07-23T09:39:03.010Z"
   },
   {
    "duration": 6,
    "start_time": "2025-07-23T09:39:03.032Z"
   },
   {
    "duration": 6,
    "start_time": "2025-07-23T09:39:03.039Z"
   },
   {
    "duration": 7,
    "start_time": "2025-07-23T09:39:03.046Z"
   },
   {
    "duration": 6,
    "start_time": "2025-07-23T09:39:03.054Z"
   },
   {
    "duration": 5,
    "start_time": "2025-07-23T09:39:03.061Z"
   },
   {
    "duration": 6,
    "start_time": "2025-07-23T09:39:03.067Z"
   },
   {
    "duration": 12,
    "start_time": "2025-07-23T09:39:03.074Z"
   },
   {
    "duration": 8,
    "start_time": "2025-07-23T09:39:03.127Z"
   },
   {
    "duration": 4,
    "start_time": "2025-07-23T09:39:03.136Z"
   },
   {
    "duration": 6,
    "start_time": "2025-07-23T09:39:03.143Z"
   },
   {
    "duration": 4,
    "start_time": "2025-07-23T09:39:03.151Z"
   },
   {
    "duration": 148,
    "start_time": "2025-07-23T09:39:03.157Z"
   },
   {
    "duration": 25,
    "start_time": "2025-07-23T09:39:03.307Z"
   },
   {
    "duration": 11,
    "start_time": "2025-07-23T09:39:03.334Z"
   },
   {
    "duration": 7,
    "start_time": "2025-07-23T09:39:03.347Z"
   },
   {
    "duration": 86,
    "start_time": "2025-07-23T09:39:03.356Z"
   },
   {
    "duration": 5,
    "start_time": "2025-07-23T09:39:03.443Z"
   },
   {
    "duration": 3,
    "start_time": "2025-07-23T09:39:03.450Z"
   },
   {
    "duration": 33,
    "start_time": "2025-07-23T09:39:03.455Z"
   },
   {
    "duration": 6,
    "start_time": "2025-07-23T09:39:03.490Z"
   },
   {
    "duration": 30,
    "start_time": "2025-07-23T09:39:03.498Z"
   },
   {
    "duration": 6,
    "start_time": "2025-07-23T09:39:03.529Z"
   },
   {
    "duration": 190,
    "start_time": "2025-07-23T09:39:03.537Z"
   },
   {
    "duration": 15,
    "start_time": "2025-07-23T09:42:44.174Z"
   },
   {
    "duration": 110,
    "start_time": "2025-07-23T09:43:36.583Z"
   },
   {
    "duration": 214,
    "start_time": "2025-07-23T09:43:44.507Z"
   },
   {
    "duration": 339,
    "start_time": "2025-07-23T09:43:54.400Z"
   },
   {
    "duration": 15,
    "start_time": "2025-07-23T09:47:38.834Z"
   },
   {
    "duration": 7,
    "start_time": "2025-07-23T09:47:49.702Z"
   },
   {
    "duration": 3,
    "start_time": "2025-07-23T09:50:06.209Z"
   },
   {
    "duration": 17,
    "start_time": "2025-07-23T09:50:16.627Z"
   },
   {
    "duration": 18,
    "start_time": "2025-07-23T09:50:39.860Z"
   },
   {
    "duration": 19,
    "start_time": "2025-07-23T09:50:54.729Z"
   },
   {
    "duration": 8,
    "start_time": "2025-07-23T09:54:15.396Z"
   },
   {
    "duration": 4,
    "start_time": "2025-07-23T09:54:25.859Z"
   },
   {
    "duration": 4,
    "start_time": "2025-07-23T09:54:51.669Z"
   },
   {
    "duration": 20,
    "start_time": "2025-07-23T09:55:01.601Z"
   },
   {
    "duration": 404,
    "start_time": "2025-07-23T09:55:52.222Z"
   },
   {
    "duration": 874,
    "start_time": "2025-07-23T09:55:52.628Z"
   },
   {
    "duration": 26,
    "start_time": "2025-07-23T09:55:53.503Z"
   },
   {
    "duration": 12,
    "start_time": "2025-07-23T09:55:53.530Z"
   },
   {
    "duration": 10,
    "start_time": "2025-07-23T09:55:53.544Z"
   },
   {
    "duration": 10,
    "start_time": "2025-07-23T09:55:53.555Z"
   },
   {
    "duration": 10,
    "start_time": "2025-07-23T09:55:53.567Z"
   },
   {
    "duration": 6,
    "start_time": "2025-07-23T09:55:53.578Z"
   },
   {
    "duration": 45,
    "start_time": "2025-07-23T09:55:53.585Z"
   },
   {
    "duration": 96,
    "start_time": "2025-07-23T09:55:53.631Z"
   },
   {
    "duration": 103,
    "start_time": "2025-07-23T09:55:53.729Z"
   },
   {
    "duration": 99,
    "start_time": "2025-07-23T09:55:53.833Z"
   },
   {
    "duration": 6,
    "start_time": "2025-07-23T09:55:53.934Z"
   },
   {
    "duration": 12,
    "start_time": "2025-07-23T09:55:53.944Z"
   },
   {
    "duration": 6,
    "start_time": "2025-07-23T09:55:53.958Z"
   },
   {
    "duration": 6,
    "start_time": "2025-07-23T09:55:53.974Z"
   },
   {
    "duration": 6,
    "start_time": "2025-07-23T09:55:53.981Z"
   },
   {
    "duration": 6,
    "start_time": "2025-07-23T09:55:53.988Z"
   },
   {
    "duration": 33,
    "start_time": "2025-07-23T09:55:53.996Z"
   },
   {
    "duration": 5,
    "start_time": "2025-07-23T09:55:54.031Z"
   },
   {
    "duration": 14,
    "start_time": "2025-07-23T09:55:54.038Z"
   },
   {
    "duration": 8,
    "start_time": "2025-07-23T09:55:54.054Z"
   },
   {
    "duration": 5,
    "start_time": "2025-07-23T09:55:54.063Z"
   },
   {
    "duration": 7,
    "start_time": "2025-07-23T09:55:54.069Z"
   },
   {
    "duration": 5,
    "start_time": "2025-07-23T09:55:54.078Z"
   },
   {
    "duration": 161,
    "start_time": "2025-07-23T09:55:54.084Z"
   },
   {
    "duration": 19,
    "start_time": "2025-07-23T09:55:54.246Z"
   },
   {
    "duration": 11,
    "start_time": "2025-07-23T09:55:54.266Z"
   },
   {
    "duration": 7,
    "start_time": "2025-07-23T09:55:54.278Z"
   },
   {
    "duration": 89,
    "start_time": "2025-07-23T09:55:54.288Z"
   },
   {
    "duration": 4,
    "start_time": "2025-07-23T09:55:54.379Z"
   },
   {
    "duration": 3,
    "start_time": "2025-07-23T09:55:54.385Z"
   },
   {
    "duration": 49,
    "start_time": "2025-07-23T09:55:54.390Z"
   },
   {
    "duration": 6,
    "start_time": "2025-07-23T09:55:54.441Z"
   },
   {
    "duration": 6,
    "start_time": "2025-07-23T09:55:54.449Z"
   },
   {
    "duration": 6,
    "start_time": "2025-07-23T09:55:54.457Z"
   },
   {
    "duration": 361,
    "start_time": "2025-07-23T09:55:54.466Z"
   },
   {
    "duration": 7,
    "start_time": "2025-07-23T09:55:54.830Z"
   },
   {
    "duration": 255,
    "start_time": "2025-07-23T09:55:54.838Z"
   },
   {
    "duration": 6,
    "start_time": "2025-07-23T10:04:01.090Z"
   },
   {
    "duration": 4,
    "start_time": "2025-07-23T10:06:11.657Z"
   },
   {
    "duration": 140,
    "start_time": "2025-07-23T10:09:24.198Z"
   },
   {
    "duration": 6,
    "start_time": "2025-07-23T10:18:45.736Z"
   },
   {
    "duration": 194,
    "start_time": "2025-07-23T12:20:47.030Z"
   },
   {
    "duration": 2148,
    "start_time": "2025-07-23T12:21:05.747Z"
   },
   {
    "duration": 982,
    "start_time": "2025-07-23T12:21:07.897Z"
   },
   {
    "duration": 19,
    "start_time": "2025-07-23T12:21:08.881Z"
   },
   {
    "duration": 25,
    "start_time": "2025-07-23T12:21:08.903Z"
   },
   {
    "duration": 11,
    "start_time": "2025-07-23T12:21:08.931Z"
   },
   {
    "duration": 12,
    "start_time": "2025-07-23T12:21:08.944Z"
   },
   {
    "duration": 10,
    "start_time": "2025-07-23T12:21:08.958Z"
   },
   {
    "duration": 7,
    "start_time": "2025-07-23T12:21:08.970Z"
   },
   {
    "duration": 6,
    "start_time": "2025-07-23T12:21:08.979Z"
   },
   {
    "duration": 102,
    "start_time": "2025-07-23T12:21:09.025Z"
   },
   {
    "duration": 112,
    "start_time": "2025-07-23T12:21:09.129Z"
   },
   {
    "duration": 105,
    "start_time": "2025-07-23T12:21:09.243Z"
   },
   {
    "duration": 7,
    "start_time": "2025-07-23T12:21:09.351Z"
   },
   {
    "duration": 10,
    "start_time": "2025-07-23T12:21:09.361Z"
   },
   {
    "duration": 5,
    "start_time": "2025-07-23T12:21:09.373Z"
   },
   {
    "duration": 5,
    "start_time": "2025-07-23T12:21:09.380Z"
   },
   {
    "duration": 6,
    "start_time": "2025-07-23T12:21:09.387Z"
   },
   {
    "duration": 35,
    "start_time": "2025-07-23T12:21:09.394Z"
   },
   {
    "duration": 4,
    "start_time": "2025-07-23T12:21:09.431Z"
   },
   {
    "duration": 6,
    "start_time": "2025-07-23T12:21:09.436Z"
   },
   {
    "duration": 14,
    "start_time": "2025-07-23T12:21:09.443Z"
   },
   {
    "duration": 7,
    "start_time": "2025-07-23T12:21:09.460Z"
   },
   {
    "duration": 7,
    "start_time": "2025-07-23T12:21:09.468Z"
   },
   {
    "duration": 8,
    "start_time": "2025-07-23T12:21:09.477Z"
   },
   {
    "duration": 41,
    "start_time": "2025-07-23T12:21:09.486Z"
   },
   {
    "duration": 163,
    "start_time": "2025-07-23T12:21:09.528Z"
   },
   {
    "duration": 17,
    "start_time": "2025-07-23T12:21:09.692Z"
   },
   {
    "duration": 24,
    "start_time": "2025-07-23T12:21:09.711Z"
   },
   {
    "duration": 9,
    "start_time": "2025-07-23T12:21:09.736Z"
   },
   {
    "duration": 83,
    "start_time": "2025-07-23T12:21:09.747Z"
   },
   {
    "duration": 8,
    "start_time": "2025-07-23T12:21:09.831Z"
   },
   {
    "duration": 5,
    "start_time": "2025-07-23T12:21:09.840Z"
   },
   {
    "duration": 36,
    "start_time": "2025-07-23T12:21:09.846Z"
   },
   {
    "duration": 8,
    "start_time": "2025-07-23T12:21:09.884Z"
   },
   {
    "duration": 33,
    "start_time": "2025-07-23T12:21:09.893Z"
   },
   {
    "duration": 13,
    "start_time": "2025-07-23T12:21:09.928Z"
   },
   {
    "duration": 431,
    "start_time": "2025-07-23T12:21:09.943Z"
   },
   {
    "duration": 7,
    "start_time": "2025-07-23T12:21:10.376Z"
   },
   {
    "duration": 269,
    "start_time": "2025-07-23T12:21:10.386Z"
   },
   {
    "duration": 4,
    "start_time": "2025-07-23T12:21:10.657Z"
   },
   {
    "duration": 149,
    "start_time": "2025-07-23T12:21:10.665Z"
   },
   {
    "duration": 593,
    "start_time": "2025-07-23T12:21:10.816Z"
   },
   {
    "duration": 0,
    "start_time": "2025-07-23T12:21:11.411Z"
   },
   {
    "duration": 39,
    "start_time": "2025-07-23T12:24:53.390Z"
   },
   {
    "duration": 6,
    "start_time": "2025-07-23T12:25:07.817Z"
   },
   {
    "duration": 5,
    "start_time": "2025-07-23T12:25:39.544Z"
   },
   {
    "duration": 10,
    "start_time": "2025-07-23T12:26:13.580Z"
   },
   {
    "duration": 365,
    "start_time": "2025-07-23T12:26:16.213Z"
   },
   {
    "duration": 256,
    "start_time": "2025-07-23T12:26:42.199Z"
   },
   {
    "duration": 271,
    "start_time": "2025-07-23T12:26:59.646Z"
   },
   {
    "duration": 243,
    "start_time": "2025-07-23T12:27:17.602Z"
   },
   {
    "duration": 238,
    "start_time": "2025-07-23T12:27:47.925Z"
   },
   {
    "duration": 5,
    "start_time": "2025-07-23T12:28:31.376Z"
   },
   {
    "duration": 229,
    "start_time": "2025-07-23T12:28:56.538Z"
   },
   {
    "duration": 130,
    "start_time": "2025-07-23T12:30:25.251Z"
   },
   {
    "duration": 338,
    "start_time": "2025-07-23T12:34:38.623Z"
   },
   {
    "duration": 204,
    "start_time": "2025-07-23T12:35:44.198Z"
   },
   {
    "duration": 38,
    "start_time": "2025-07-23T12:39:51.999Z"
   },
   {
    "duration": 34,
    "start_time": "2025-07-23T12:47:15.433Z"
   },
   {
    "duration": 199,
    "start_time": "2025-07-23T12:50:44.072Z"
   },
   {
    "duration": 1375,
    "start_time": "2025-07-23T12:58:04.356Z"
   },
   {
    "duration": 7,
    "start_time": "2025-07-23T12:59:46.539Z"
   },
   {
    "duration": 8,
    "start_time": "2025-07-23T13:00:49.328Z"
   },
   {
    "duration": 13,
    "start_time": "2025-07-23T13:04:15.881Z"
   },
   {
    "duration": 14,
    "start_time": "2025-07-23T13:04:48.403Z"
   },
   {
    "duration": 7,
    "start_time": "2025-07-23T13:07:15.615Z"
   },
   {
    "duration": 1337,
    "start_time": "2025-07-23T13:11:17.936Z"
   },
   {
    "duration": 7,
    "start_time": "2025-07-23T13:13:16.214Z"
   },
   {
    "duration": 7,
    "start_time": "2025-07-23T13:13:26.056Z"
   },
   {
    "duration": 402,
    "start_time": "2025-07-23T13:14:34.101Z"
   },
   {
    "duration": 910,
    "start_time": "2025-07-23T13:14:34.505Z"
   },
   {
    "duration": 20,
    "start_time": "2025-07-23T13:14:35.417Z"
   },
   {
    "duration": 12,
    "start_time": "2025-07-23T13:14:35.439Z"
   },
   {
    "duration": 10,
    "start_time": "2025-07-23T13:14:35.453Z"
   },
   {
    "duration": 10,
    "start_time": "2025-07-23T13:14:35.465Z"
   },
   {
    "duration": 10,
    "start_time": "2025-07-23T13:14:35.476Z"
   },
   {
    "duration": 38,
    "start_time": "2025-07-23T13:14:35.488Z"
   },
   {
    "duration": 5,
    "start_time": "2025-07-23T13:14:35.528Z"
   },
   {
    "duration": 114,
    "start_time": "2025-07-23T13:14:35.537Z"
   },
   {
    "duration": 110,
    "start_time": "2025-07-23T13:14:35.653Z"
   },
   {
    "duration": 99,
    "start_time": "2025-07-23T13:14:35.764Z"
   },
   {
    "duration": 7,
    "start_time": "2025-07-23T13:14:35.864Z"
   },
   {
    "duration": 10,
    "start_time": "2025-07-23T13:14:35.872Z"
   },
   {
    "duration": 5,
    "start_time": "2025-07-23T13:14:35.884Z"
   },
   {
    "duration": 33,
    "start_time": "2025-07-23T13:14:35.891Z"
   },
   {
    "duration": 6,
    "start_time": "2025-07-23T13:14:35.926Z"
   },
   {
    "duration": 6,
    "start_time": "2025-07-23T13:14:35.934Z"
   },
   {
    "duration": 6,
    "start_time": "2025-07-23T13:14:35.942Z"
   },
   {
    "duration": 8,
    "start_time": "2025-07-23T13:14:35.949Z"
   },
   {
    "duration": 13,
    "start_time": "2025-07-23T13:14:35.959Z"
   },
   {
    "duration": 8,
    "start_time": "2025-07-23T13:14:35.974Z"
   },
   {
    "duration": 40,
    "start_time": "2025-07-23T13:14:35.984Z"
   },
   {
    "duration": 8,
    "start_time": "2025-07-23T13:14:36.025Z"
   },
   {
    "duration": 4,
    "start_time": "2025-07-23T13:14:36.035Z"
   },
   {
    "duration": 153,
    "start_time": "2025-07-23T13:14:36.041Z"
   },
   {
    "duration": 17,
    "start_time": "2025-07-23T13:14:36.195Z"
   },
   {
    "duration": 12,
    "start_time": "2025-07-23T13:14:36.227Z"
   },
   {
    "duration": 8,
    "start_time": "2025-07-23T13:14:36.241Z"
   },
   {
    "duration": 88,
    "start_time": "2025-07-23T13:14:36.250Z"
   },
   {
    "duration": 7,
    "start_time": "2025-07-23T13:14:36.339Z"
   },
   {
    "duration": 2,
    "start_time": "2025-07-23T13:14:36.348Z"
   },
   {
    "duration": 34,
    "start_time": "2025-07-23T13:14:36.352Z"
   },
   {
    "duration": 8,
    "start_time": "2025-07-23T13:14:36.388Z"
   },
   {
    "duration": 31,
    "start_time": "2025-07-23T13:14:36.397Z"
   },
   {
    "duration": 7,
    "start_time": "2025-07-23T13:14:36.429Z"
   },
   {
    "duration": 337,
    "start_time": "2025-07-23T13:14:36.438Z"
   },
   {
    "duration": 8,
    "start_time": "2025-07-23T13:14:36.777Z"
   },
   {
    "duration": 284,
    "start_time": "2025-07-23T13:14:36.786Z"
   },
   {
    "duration": 4,
    "start_time": "2025-07-23T13:14:37.072Z"
   },
   {
    "duration": 156,
    "start_time": "2025-07-23T13:14:37.077Z"
   },
   {
    "duration": 5,
    "start_time": "2025-07-23T13:14:37.234Z"
   },
   {
    "duration": 9,
    "start_time": "2025-07-23T13:14:37.241Z"
   },
   {
    "duration": 230,
    "start_time": "2025-07-23T13:14:37.252Z"
   },
   {
    "duration": 45,
    "start_time": "2025-07-23T13:14:37.484Z"
   },
   {
    "duration": 203,
    "start_time": "2025-07-23T13:14:37.531Z"
   },
   {
    "duration": 1366,
    "start_time": "2025-07-23T13:14:37.735Z"
   },
   {
    "duration": 7,
    "start_time": "2025-07-23T13:14:39.103Z"
   },
   {
    "duration": 18,
    "start_time": "2025-07-23T13:14:39.112Z"
   },
   {
    "duration": 13,
    "start_time": "2025-07-23T13:14:39.131Z"
   },
   {
    "duration": 7,
    "start_time": "2025-07-23T13:14:39.146Z"
   },
   {
    "duration": 2,
    "start_time": "2025-07-23T13:15:15.953Z"
   },
   {
    "duration": 268,
    "start_time": "2025-07-23T13:17:08.174Z"
   },
   {
    "duration": 5,
    "start_time": "2025-07-23T13:17:44.149Z"
   },
   {
    "duration": 13,
    "start_time": "2025-07-23T13:17:48.826Z"
   },
   {
    "duration": 374,
    "start_time": "2025-07-23T13:23:24.373Z"
   },
   {
    "duration": 393,
    "start_time": "2025-07-23T13:24:16.161Z"
   },
   {
    "duration": 111,
    "start_time": "2025-07-23T13:28:40.411Z"
   },
   {
    "duration": 186,
    "start_time": "2025-07-23T13:31:46.824Z"
   },
   {
    "duration": 59,
    "start_time": "2025-07-23T13:32:07.036Z"
   },
   {
    "duration": 12,
    "start_time": "2025-07-23T13:32:07.988Z"
   },
   {
    "duration": 60,
    "start_time": "2025-07-23T13:32:12.736Z"
   },
   {
    "duration": 12,
    "start_time": "2025-07-23T13:32:13.884Z"
   },
   {
    "duration": 44,
    "start_time": "2025-07-23T13:32:21.381Z"
   },
   {
    "duration": 10,
    "start_time": "2025-07-23T13:34:25.526Z"
   },
   {
    "duration": 6,
    "start_time": "2025-07-23T13:34:40.700Z"
   },
   {
    "duration": 15,
    "start_time": "2025-07-23T13:34:59.790Z"
   },
   {
    "duration": 6,
    "start_time": "2025-07-23T13:35:49.847Z"
   },
   {
    "duration": 44,
    "start_time": "2025-07-23T13:36:34.615Z"
   },
   {
    "duration": 18,
    "start_time": "2025-07-23T13:36:36.316Z"
   },
   {
    "duration": 6,
    "start_time": "2025-07-23T13:36:39.721Z"
   }
  ],
  "kernelspec": {
   "display_name": "Python 3 (ipykernel)",
   "language": "python",
   "name": "python3"
  },
  "language_info": {
   "codemirror_mode": {
    "name": "ipython",
    "version": 3
   },
   "file_extension": ".py",
   "mimetype": "text/x-python",
   "name": "python",
   "nbconvert_exporter": "python",
   "pygments_lexer": "ipython3",
   "version": "3.9.19"
  },
  "toc": {
   "base_numbering": 1,
   "nav_menu": {},
   "number_sections": true,
   "sideBar": true,
   "skip_h1_title": true,
   "title_cell": "Table of Contents",
   "title_sidebar": "Contents",
   "toc_cell": false,
   "toc_position": {},
   "toc_section_display": true,
   "toc_window_display": false
  }
 },
 "nbformat": 4,
 "nbformat_minor": 5
}
