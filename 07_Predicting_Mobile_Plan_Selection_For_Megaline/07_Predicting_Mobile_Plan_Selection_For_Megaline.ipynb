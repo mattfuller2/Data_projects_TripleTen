{
 "cells": [
  {
   "cell_type": "markdown",
   "id": "c820e028",
   "metadata": {},
   "source": [
    "# Sprint 7: Predicting Mobile Plan Selection for Megaline\n",
    "\n",
    "\n",
    "## Project Overview\n",
    "Megaline, a mobile carrier, has discovered that many subscribers are still using legacy plans. To increase adoption of their newer offerings — **Smart** and **Ultra** — the company aims to develop a machine learning model that can accurately recommend the most suitable plan for each user based on their historical behavior.\n",
    "\n",
    "This project involves building and evaluating classification models to predict whether a subscriber should be on the **Ultra** plan (`is_ultra = 1`) or the **Smart** plan (`is_ultra = 0`). The dataset contains monthly usage statistics for subscribers who have already switched to one of the new plans.  \n",
    "\n",
    "## Objective\n",
    "- **Goal:** Develop a model with the highest possible accuracy, with a minimum threshold of **0.75** accuracy on the test set.\n",
    "- **Approach:**\n",
    "  1. Explore and understand the dataset.\n",
    "  2. Split the data into training, validation, and test sets.\n",
    "  3. Experiment with various classification models and hyperparameters.\n",
    "  4. Evaluate models using accuracy as the primary metric.\n",
    "  5. Select the best-performing model and validate it on the test set.\n",
    "  6. Perform a sanity check to ensure model reliability.\n",
    "\n",
    "## Dataset Description\n",
    "The dataset (`users_behavior.csv`) contains the following features:\n",
    "- **calls** — Number of calls per month  \n",
    "- **minutes** — Total monthly call duration (in minutes)  \n",
    "- **messages** — Number of text messages per month  \n",
    "- **mb_used** — Internet traffic used in MB per month  \n",
    "- **is_ultra** — Target variable: 1 for Ultra plan, 0 for Smart plan  \n",
    "\n",
    "## Evaluation Criteria\n",
    "The final solution will be assessed based on:\n",
    "- Proper data inspection and preprocessing.\n",
    "- Correct data splitting and set size justification.\n",
    "- Comprehensive model experimentation with hyperparameter tuning.\n",
    "- Clear reporting of findings and accuracy results.\n",
    "- Code clarity, structure, and readability.\n",
    "\n",
    "By completing this project, we will not only produce a high-performing classification model but also demonstrate a structured approach to solving a real-world business problem using machine learning.\n"
   ]
  },
  {
   "cell_type": "markdown",
   "id": "892b23d2",
   "metadata": {},
   "source": [
    "# 2.1 Explore and understand the dataset."
   ]
  },
  {
   "cell_type": "code",
   "execution_count": 1,
   "id": "5f6f4a28",
   "metadata": {},
   "outputs": [
    {
     "data": {
      "text/html": [
       "<div>\n",
       "<style scoped>\n",
       "    .dataframe tbody tr th:only-of-type {\n",
       "        vertical-align: middle;\n",
       "    }\n",
       "\n",
       "    .dataframe tbody tr th {\n",
       "        vertical-align: top;\n",
       "    }\n",
       "\n",
       "    .dataframe thead th {\n",
       "        text-align: right;\n",
       "    }\n",
       "</style>\n",
       "<table border=\"1\" class=\"dataframe\">\n",
       "  <thead>\n",
       "    <tr style=\"text-align: right;\">\n",
       "      <th></th>\n",
       "      <th>calls</th>\n",
       "      <th>minutes</th>\n",
       "      <th>messages</th>\n",
       "      <th>mb_used</th>\n",
       "      <th>is_ultra</th>\n",
       "    </tr>\n",
       "  </thead>\n",
       "  <tbody>\n",
       "    <tr>\n",
       "      <th>0</th>\n",
       "      <td>40.0</td>\n",
       "      <td>311.90</td>\n",
       "      <td>83.0</td>\n",
       "      <td>19915.42</td>\n",
       "      <td>0</td>\n",
       "    </tr>\n",
       "    <tr>\n",
       "      <th>1</th>\n",
       "      <td>85.0</td>\n",
       "      <td>516.75</td>\n",
       "      <td>56.0</td>\n",
       "      <td>22696.96</td>\n",
       "      <td>0</td>\n",
       "    </tr>\n",
       "    <tr>\n",
       "      <th>2</th>\n",
       "      <td>77.0</td>\n",
       "      <td>467.66</td>\n",
       "      <td>86.0</td>\n",
       "      <td>21060.45</td>\n",
       "      <td>0</td>\n",
       "    </tr>\n",
       "    <tr>\n",
       "      <th>3</th>\n",
       "      <td>106.0</td>\n",
       "      <td>745.53</td>\n",
       "      <td>81.0</td>\n",
       "      <td>8437.39</td>\n",
       "      <td>1</td>\n",
       "    </tr>\n",
       "    <tr>\n",
       "      <th>4</th>\n",
       "      <td>66.0</td>\n",
       "      <td>418.74</td>\n",
       "      <td>1.0</td>\n",
       "      <td>14502.75</td>\n",
       "      <td>0</td>\n",
       "    </tr>\n",
       "  </tbody>\n",
       "</table>\n",
       "</div>"
      ],
      "text/plain": [
       "   calls  minutes  messages   mb_used  is_ultra\n",
       "0   40.0   311.90      83.0  19915.42         0\n",
       "1   85.0   516.75      56.0  22696.96         0\n",
       "2   77.0   467.66      86.0  21060.45         0\n",
       "3  106.0   745.53      81.0   8437.39         1\n",
       "4   66.0   418.74       1.0  14502.75         0"
      ]
     },
     "metadata": {},
     "output_type": "display_data"
    },
    {
     "name": "stdout",
     "output_type": "stream",
     "text": [
      "<class 'pandas.core.frame.DataFrame'>\n",
      "RangeIndex: 3214 entries, 0 to 3213\n",
      "Data columns (total 5 columns):\n",
      " #   Column    Non-Null Count  Dtype  \n",
      "---  ------    --------------  -----  \n",
      " 0   calls     3214 non-null   float64\n",
      " 1   minutes   3214 non-null   float64\n",
      " 2   messages  3214 non-null   float64\n",
      " 3   mb_used   3214 non-null   float64\n",
      " 4   is_ultra  3214 non-null   int64  \n",
      "dtypes: float64(4), int64(1)\n",
      "memory usage: 125.7 KB\n"
     ]
    },
    {
     "data": {
      "text/plain": [
       "None"
      ]
     },
     "metadata": {},
     "output_type": "display_data"
    },
    {
     "data": {
      "text/html": [
       "<div>\n",
       "<style scoped>\n",
       "    .dataframe tbody tr th:only-of-type {\n",
       "        vertical-align: middle;\n",
       "    }\n",
       "\n",
       "    .dataframe tbody tr th {\n",
       "        vertical-align: top;\n",
       "    }\n",
       "\n",
       "    .dataframe thead th {\n",
       "        text-align: right;\n",
       "    }\n",
       "</style>\n",
       "<table border=\"1\" class=\"dataframe\">\n",
       "  <thead>\n",
       "    <tr style=\"text-align: right;\">\n",
       "      <th></th>\n",
       "      <th>calls</th>\n",
       "      <th>minutes</th>\n",
       "      <th>messages</th>\n",
       "      <th>mb_used</th>\n",
       "      <th>is_ultra</th>\n",
       "    </tr>\n",
       "  </thead>\n",
       "  <tbody>\n",
       "    <tr>\n",
       "      <th>count</th>\n",
       "      <td>3214.000000</td>\n",
       "      <td>3214.000000</td>\n",
       "      <td>3214.000000</td>\n",
       "      <td>3214.000000</td>\n",
       "      <td>3214.000000</td>\n",
       "    </tr>\n",
       "    <tr>\n",
       "      <th>mean</th>\n",
       "      <td>63.038892</td>\n",
       "      <td>438.208787</td>\n",
       "      <td>38.281269</td>\n",
       "      <td>17207.673836</td>\n",
       "      <td>0.306472</td>\n",
       "    </tr>\n",
       "    <tr>\n",
       "      <th>std</th>\n",
       "      <td>33.236368</td>\n",
       "      <td>234.569872</td>\n",
       "      <td>36.148326</td>\n",
       "      <td>7570.968246</td>\n",
       "      <td>0.461100</td>\n",
       "    </tr>\n",
       "    <tr>\n",
       "      <th>min</th>\n",
       "      <td>0.000000</td>\n",
       "      <td>0.000000</td>\n",
       "      <td>0.000000</td>\n",
       "      <td>0.000000</td>\n",
       "      <td>0.000000</td>\n",
       "    </tr>\n",
       "    <tr>\n",
       "      <th>25%</th>\n",
       "      <td>40.000000</td>\n",
       "      <td>274.575000</td>\n",
       "      <td>9.000000</td>\n",
       "      <td>12491.902500</td>\n",
       "      <td>0.000000</td>\n",
       "    </tr>\n",
       "    <tr>\n",
       "      <th>50%</th>\n",
       "      <td>62.000000</td>\n",
       "      <td>430.600000</td>\n",
       "      <td>30.000000</td>\n",
       "      <td>16943.235000</td>\n",
       "      <td>0.000000</td>\n",
       "    </tr>\n",
       "    <tr>\n",
       "      <th>75%</th>\n",
       "      <td>82.000000</td>\n",
       "      <td>571.927500</td>\n",
       "      <td>57.000000</td>\n",
       "      <td>21424.700000</td>\n",
       "      <td>1.000000</td>\n",
       "    </tr>\n",
       "    <tr>\n",
       "      <th>max</th>\n",
       "      <td>244.000000</td>\n",
       "      <td>1632.060000</td>\n",
       "      <td>224.000000</td>\n",
       "      <td>49745.730000</td>\n",
       "      <td>1.000000</td>\n",
       "    </tr>\n",
       "  </tbody>\n",
       "</table>\n",
       "</div>"
      ],
      "text/plain": [
       "             calls      minutes     messages       mb_used     is_ultra\n",
       "count  3214.000000  3214.000000  3214.000000   3214.000000  3214.000000\n",
       "mean     63.038892   438.208787    38.281269  17207.673836     0.306472\n",
       "std      33.236368   234.569872    36.148326   7570.968246     0.461100\n",
       "min       0.000000     0.000000     0.000000      0.000000     0.000000\n",
       "25%      40.000000   274.575000     9.000000  12491.902500     0.000000\n",
       "50%      62.000000   430.600000    30.000000  16943.235000     0.000000\n",
       "75%      82.000000   571.927500    57.000000  21424.700000     1.000000\n",
       "max     244.000000  1632.060000   224.000000  49745.730000     1.000000"
      ]
     },
     "metadata": {},
     "output_type": "display_data"
    }
   ],
   "source": [
    "# Step 1: Import necessary libraries\n",
    "import pandas as pd\n",
    "import numpy as np\n",
    "from sklearn.model_selection import train_test_split\n",
    "from sklearn.tree import DecisionTreeClassifier\n",
    "from sklearn.ensemble import RandomForestClassifier\n",
    "from sklearn.linear_model import LogisticRegression\n",
    "from sklearn.metrics import accuracy_score\n",
    "\n",
    "# Step 2: Load the dataset\n",
    "df = pd.read_csv('/datasets/users_behavior.csv')\n",
    "\n",
    "# Step 3: Inspect the data\n",
    "display(df.head())\n",
    "display(df.info())\n",
    "display(df.describe())\n"
   ]
  },
  {
   "cell_type": "markdown",
   "id": "72d79b41",
   "metadata": {},
   "source": [
    "# 2.2 Split the data into training, validation, and test sets."
   ]
  },
  {
   "cell_type": "code",
   "execution_count": 2,
   "id": "4475d639",
   "metadata": {},
   "outputs": [
    {
     "name": "stdout",
     "output_type": "stream",
     "text": [
      "Train set size: (1928, 4)\n",
      "Validation set size: (643, 4)\n",
      "Test set size: (643, 4)\n"
     ]
    }
   ],
   "source": [
    "# Define features and target\n",
    "features = df.drop('is_ultra', axis=1)\n",
    "target = df['is_ultra']\n",
    "\n",
    "# Split into train, validation, and test sets\n",
    "# First split train+valid and test\n",
    "features_train_valid, features_test, target_train_valid, target_test = train_test_split(\n",
    "    features, target, test_size=0.2, random_state=12345\n",
    ")\n",
    "\n",
    "# Then split train and validation\n",
    "features_train, features_valid, target_train, target_valid = train_test_split(\n",
    "    features_train_valid, target_train_valid, test_size=0.25, random_state=12345\n",
    ")\n",
    "\n",
    "# Check shapes\n",
    "print(\"Train set size:\", features_train.shape)\n",
    "print(\"Validation set size:\", features_valid.shape)\n",
    "print(\"Test set size:\", features_test.shape)"
   ]
  },
  {
   "cell_type": "markdown",
   "id": "43ccfdaf",
   "metadata": {},
   "source": [
    "# 2.3 Experiment with various classification models and hyperparameters. "
   ]
  },
  {
   "cell_type": "code",
   "execution_count": 3,
   "id": "119d3563",
   "metadata": {},
   "outputs": [
    {
     "name": "stdout",
     "output_type": "stream",
     "text": [
      "Best Decision Tree: depth=7, accuracy=0.7745\n"
     ]
    }
   ],
   "source": [
    "# Decision Tree Model\n",
    "best_tree_score = 0\n",
    "best_tree_depth = None\n",
    "for depth in range(1, 11):\n",
    "    model_tree = DecisionTreeClassifier(random_state=12345, max_depth=depth)\n",
    "    model_tree.fit(features_train, target_train)\n",
    "    predictions_tree = model_tree.predict(features_valid)\n",
    "    score = accuracy_score(target_valid, predictions_tree)\n",
    "    if score > best_tree_score:\n",
    "        best_tree_score = score\n",
    "        best_tree_depth = depth\n",
    "        \n",
    "print(f\"Best Decision Tree: depth={best_tree_depth}, accuracy={best_tree_score:.4f}\")"
   ]
  },
  {
   "cell_type": "code",
   "execution_count": 4,
   "id": "2864a695",
   "metadata": {},
   "outputs": [
    {
     "name": "stdout",
     "output_type": "stream",
     "text": [
      "Best Random Forest: n_estimators:50, depth=10, accuracy=0.7978\n"
     ]
    }
   ],
   "source": [
    "# Random Forest Model\n",
    "best_forest_score = 0\n",
    "best_forest_params = (None, None)\n",
    "for est in range(10, 101, 10):\n",
    "    for depth in range(1, 11):\n",
    "        model_forest = RandomForestClassifier(random_state=12345, n_estimators=est, max_depth=depth)\n",
    "        model_forest.fit(features_train, target_train)\n",
    "        predictions_forest = model_forest.predict(features_valid)\n",
    "        score = accuracy_score(target_valid, predictions_forest)\n",
    "        if score > best_forest_score:\n",
    "            best_forest_score = score\n",
    "            best_forest_params = (est, depth)\n",
    "            \n",
    "print(f\"Best Random Forest: n_estimators:{best_forest_params[0]}, depth={best_forest_params[1]}, accuracy={best_forest_score:.4f}\")"
   ]
  },
  {
   "cell_type": "code",
   "execution_count": 5,
   "id": "8a029fe4",
   "metadata": {},
   "outputs": [
    {
     "name": "stdout",
     "output_type": "stream",
     "text": [
      "Logistic Regression accuracy=0.7294\n"
     ]
    }
   ],
   "source": [
    "# Logistic Regression Model\n",
    "model_logreg = LogisticRegression(random_state=12345, solver='liblinear')\n",
    "model_logreg.fit(features_train, target_train)\n",
    "predictions_logreg = model_logreg.predict(features_valid)\n",
    "logreg_score = accuracy_score(target_valid, predictions_logreg)\n",
    "\n",
    "print(f\"Logistic Regression accuracy={logreg_score:.4f}\")"
   ]
  },
  {
   "cell_type": "markdown",
   "id": "0e805576",
   "metadata": {},
   "source": [
    "# 2.4 Evaluate models using accuracy as the primary metric."
   ]
  },
  {
   "cell_type": "code",
   "execution_count": 6,
   "id": "b99bbdce",
   "metadata": {},
   "outputs": [
    {
     "name": "stdout",
     "output_type": "stream",
     "text": [
      "Best Decision Tree: depth=7, accuracy=0.7745\n",
      "\n",
      "Best Random Forest: n_estimators:50, depth=10, accuracy=0.7978\n",
      "\n",
      "Logistic Regression accuracy=0.7294\n"
     ]
    }
   ],
   "source": [
    "print(f\"Best Decision Tree: depth={best_tree_depth}, accuracy={best_tree_score:.4f}\")\n",
    "print()\n",
    "print(f\"Best Random Forest: n_estimators:{best_forest_params[0]}, depth={best_forest_params[1]}, accuracy={best_forest_score:.4f}\")\n",
    "print()\n",
    "print(f\"Logistic Regression accuracy={logreg_score:.4f}\")"
   ]
  },
  {
   "cell_type": "markdown",
   "id": "d4555f82",
   "metadata": {},
   "source": [
    "# 2.5 Select the best-performing model and validate it on the test set."
   ]
  },
  {
   "cell_type": "code",
   "execution_count": 7,
   "id": "85076556",
   "metadata": {},
   "outputs": [
    {
     "name": "stdout",
     "output_type": "stream",
     "text": [
      "Test set accuracy: 0.7947\n"
     ]
    }
   ],
   "source": [
    "# Train the model on train+validation and test it\n",
    "\n",
    "# Best model from testing\n",
    "best_model = RandomForestClassifier(\n",
    "    random_state=12345,\n",
    "    n_estimators=best_forest_params[0],\n",
    "    max_depth=best_forest_params[1]\n",
    ")\n",
    "\n",
    "best_model.fit(features_train_valid, target_train_valid)\n",
    "test_predictions = best_model.predict(features_test)\n",
    "test_accuracy = accuracy_score(target_test, test_predictions)\n",
    "\n",
    "print(f\"Test set accuracy: {test_accuracy:.4f}\")"
   ]
  },
  {
   "cell_type": "markdown",
   "id": "138cae8d",
   "metadata": {},
   "source": [
    "# 2.6 Perform a sanity check to ensure model reliability."
   ]
  },
  {
   "cell_type": "code",
   "execution_count": 8,
   "id": "ec7fde44",
   "metadata": {},
   "outputs": [
    {
     "name": "stdout",
     "output_type": "stream",
     "text": [
      "Random baseline accuracy: 0.5054\n",
      "Our model improvement: 0.2893\n"
     ]
    }
   ],
   "source": [
    "# Sanity check with random predictions\n",
    "random_preds = np.random.randint(0, 2, size=len(target_test))\n",
    "random_accuracy = accuracy_score(target_test, random_preds)\n",
    "\n",
    "print(f\"Random baseline accuracy: {random_accuracy:.4f}\")\n",
    "print(f\"Our model improvement: {test_accuracy - random_accuracy:.4f}\")"
   ]
  },
  {
   "cell_type": "markdown",
   "id": "e41581c1",
   "metadata": {},
   "source": [
    "# Conclusion & Recommendations\n",
    "\n",
    "### Key Findings\n",
    "- **Objective Achieved:**  \n",
    "  The machine learning model surpassed the required **0.75 accuracy threshold** on the test dataset, delivering a performance level that is reliable for production deployment.\n",
    "\n",
    "- **Best Model Identified:**  \n",
    "  The **Random Forest Classifier** emerged as the top performer after testing multiple algorithms and tuning hyperparameters.\n",
    "  - **Best Parameters:** `n_estimators = 50`, `max_depth = 10}`\n",
    "  - **Validation Accuracy:** `0.7947`\n",
    "  - **Test Accuracy:** `0.7978`\n",
    "\n",
    "- **Performance Benchmark:**  \n",
    "  The selected model significantly outperformed the random baseline accuracy of 0.5163, confirming that the predictions are meaningful and not due to chance.\n",
    "\n",
    "### Business Impact\n",
    "- This solution enables **personalized plan recommendations** for Megaline’s subscribers based on real usage data.\n",
    "- By automating the plan recommendation process:\n",
    "  - **Customer Satisfaction** is expected to increase through better plan fit.\n",
    "  - **Revenue Growth** is achievable by upselling subscribers who would benefit from the Ultra plan.\n",
    "  - **Operational Efficiency** improves by reducing the need for manual plan assessments.\n",
    "\n",
    "### Recommendations for Next Steps\n",
    "1. **Integration:** Deploy the Random Forest model into Megaline’s CRM system to provide real-time plan recommendations.\n",
    "2. **Monitoring:** Implement performance tracking to ensure model accuracy remains above the 0.75 threshold over time.\n",
    "3. **Enhancement:**  \n",
    "   - Gather more behavioral features (e.g., roaming data, time-of-day usage) to improve accuracy.\n",
    "   - Explore additional algorithms like Gradient Boosting for potential gains.\n",
    "4. **Customer Feedback Loop:** Use subscriber feedback to refine recommendations and further personalize plan offerings.\n",
    "\n",
    "---\n",
    "**Final Statement:**  \n",
    "The project successfully delivers a high-performing classification model that is both robust and practical for business use, positioning Megaline to optimize its customer plan allocation strategy with data-driven insights.\n"
   ]
  }
 ],
 "metadata": {
  "ExecuteTimeLog": [
   {
    "duration": 11,
    "start_time": "2025-08-11T12:43:08.367Z"
   },
   {
    "duration": 797,
    "start_time": "2025-08-11T12:48:27.936Z"
   },
   {
    "duration": 305,
    "start_time": "2025-08-11T13:05:22.828Z"
   },
   {
    "duration": 34,
    "start_time": "2025-08-11T13:05:46.221Z"
   },
   {
    "duration": 8,
    "start_time": "2025-08-11T13:05:49.190Z"
   },
   {
    "duration": 55,
    "start_time": "2025-08-11T13:10:47.159Z"
   },
   {
    "duration": 9766,
    "start_time": "2025-08-11T13:17:17.427Z"
   },
   {
    "duration": 15,
    "start_time": "2025-08-11T13:21:46.583Z"
   },
   {
    "duration": 13,
    "start_time": "2025-08-11T13:22:07.258Z"
   },
   {
    "duration": 9,
    "start_time": "2025-08-11T13:22:12.811Z"
   },
   {
    "duration": 3,
    "start_time": "2025-08-11T13:23:58.012Z"
   },
   {
    "duration": 3,
    "start_time": "2025-08-11T13:24:27.793Z"
   },
   {
    "duration": 3,
    "start_time": "2025-08-11T13:24:53.025Z"
   },
   {
    "duration": 159,
    "start_time": "2025-08-11T13:29:42.987Z"
   },
   {
    "duration": 5,
    "start_time": "2025-08-11T13:32:15.822Z"
   },
   {
    "duration": 796,
    "start_time": "2025-08-11T13:41:00.612Z"
   },
   {
    "duration": 8,
    "start_time": "2025-08-11T13:41:01.411Z"
   },
   {
    "duration": 70,
    "start_time": "2025-08-11T13:41:01.420Z"
   },
   {
    "duration": 9834,
    "start_time": "2025-08-11T13:41:01.491Z"
   },
   {
    "duration": 9,
    "start_time": "2025-08-11T13:41:11.328Z"
   },
   {
    "duration": 3,
    "start_time": "2025-08-11T13:41:11.338Z"
   },
   {
    "duration": 180,
    "start_time": "2025-08-11T13:41:11.343Z"
   },
   {
    "duration": 5,
    "start_time": "2025-08-11T13:41:11.524Z"
   }
  ],
  "kernelspec": {
   "display_name": "Python 3 (ipykernel)",
   "language": "python",
   "name": "python3"
  },
  "language_info": {
   "codemirror_mode": {
    "name": "ipython",
    "version": 3
   },
   "file_extension": ".py",
   "mimetype": "text/x-python",
   "name": "python",
   "nbconvert_exporter": "python",
   "pygments_lexer": "ipython3",
   "version": "3.9.19"
  },
  "toc": {
   "base_numbering": 1,
   "nav_menu": {},
   "number_sections": true,
   "sideBar": true,
   "skip_h1_title": true,
   "title_cell": "Table of Contents",
   "title_sidebar": "Contents",
   "toc_cell": false,
   "toc_position": {},
   "toc_section_display": true,
   "toc_window_display": false
  }
 },
 "nbformat": 4,
 "nbformat_minor": 5
}
