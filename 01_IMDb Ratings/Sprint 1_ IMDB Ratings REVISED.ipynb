{
 "cells": [
  {
   "cell_type": "markdown",
   "id": "fca4a6b4",
   "metadata": {},
   "source": [
    "# SPRINT 1: IMDB Ratings Project Revised\n"
   ]
  },
  {
   "cell_type": "markdown",
   "id": "25d054c8",
   "metadata": {},
   "source": [
    "# Introduction\n",
    "In this project, you will work with data from the entertainment industry. You will study a dataset with records on movies and shows. The research will focus on the \"Golden Age\" of television, which began in 1999 with the release of *The Sopranos* and is still ongoing.\n",
    "\n",
    "The aim of this project is to investigate how the number of votes a title receives impacts its ratings. The assumption is that highly-rated shows (we will focus on TV shows, ignoring movies) released during the \"Golden Age\" of television also have the most votes.\n",
    "\n",
    "# Stages \n",
    "Data on movies and shows is stored in the `/datasets/movies_and_shows.csv` file. There is no information about the quality of the data, so you will need to explore it before doing the analysis.\n",
    "\n",
    "First, you'll evaluate the quality of the data and see whether its issues are significant. Then, during data preprocessing, you will try to account for the most critical problems.\n",
    " \n",
    "Your project will consist of three stages:\n",
    " 1. Data overview\n",
    " 2. Data preprocessing\n",
    " 3. Data analysis"
   ]
  },
  {
   "cell_type": "markdown",
   "id": "6cac4bf3",
   "metadata": {},
   "source": [
    "## Data Overview"
   ]
  },
  {
   "cell_type": "code",
   "execution_count": 1,
   "id": "0c0717fa",
   "metadata": {},
   "outputs": [],
   "source": [
    "import pandas as pd"
   ]
  },
  {
   "cell_type": "code",
   "execution_count": 2,
   "id": "bae2da11",
   "metadata": {},
   "outputs": [
    {
     "name": "stdout",
     "output_type": "stream",
     "text": [
      "<class 'pandas.core.frame.DataFrame'>\n",
      "RangeIndex: 85579 entries, 0 to 85578\n",
      "Data columns (total 9 columns):\n",
      " #   Column        Non-Null Count  Dtype  \n",
      "---  ------        --------------  -----  \n",
      " 0      name       85579 non-null  object \n",
      " 1   Character     85579 non-null  object \n",
      " 2   r0le          85579 non-null  object \n",
      " 3   TITLE         85578 non-null  object \n",
      " 4     Type        85579 non-null  object \n",
      " 5   release Year  85579 non-null  int64  \n",
      " 6   genres        85579 non-null  object \n",
      " 7   imdb sc0re    80970 non-null  float64\n",
      " 8   imdb v0tes    80853 non-null  float64\n",
      "dtypes: float64(2), int64(1), object(6)\n",
      "memory usage: 5.9+ MB\n",
      "None\n",
      "\n",
      "              name                Character   r0le        TITLE   Type  \\\n",
      "0   Robert De Niro            Travis Bickle  ACTOR  Taxi Driver  MOVIE   \n",
      "1     Jodie Foster            Iris Steensma  ACTOR  Taxi Driver  MOVIE   \n",
      "2    Albert Brooks                      Tom  ACTOR  Taxi Driver  MOVIE   \n",
      "3    Harvey Keitel  Matthew 'Sport' Higgins  ACTOR  Taxi Driver  MOVIE   \n",
      "4  Cybill Shepherd                    Betsy  ACTOR  Taxi Driver  MOVIE   \n",
      "\n",
      "   release Year              genres  imdb sc0re  imdb v0tes  \n",
      "0          1976  ['drama', 'crime']         8.2    808582.0  \n",
      "1          1976  ['drama', 'crime']         8.2    808582.0  \n",
      "2          1976  ['drama', 'crime']         8.2    808582.0  \n",
      "3          1976  ['drama', 'crime']         8.2    808582.0  \n",
      "4          1976  ['drama', 'crime']         8.2    808582.0  \n"
     ]
    }
   ],
   "source": [
    "df = pd.read_csv('/datasets/movies_and_shows.csv')\n",
    "\n",
    "print(df.info())\n",
    "print()\n",
    "print(df.head())"
   ]
  },
  {
   "cell_type": "markdown",
   "id": "22fcf6e8",
   "metadata": {},
   "source": [
    "# Conclusion\n",
    "We can seet that there are TV shows that were released before 1999, so we will have to remove this data from the dataframe."
   ]
  },
  {
   "cell_type": "markdown",
   "id": "5e42a123",
   "metadata": {},
   "source": [
    "## Data Preprocessing"
   ]
  },
  {
   "cell_type": "markdown",
   "id": "76d0987b",
   "metadata": {},
   "source": [
    "### Format column headers"
   ]
  },
  {
   "cell_type": "code",
   "execution_count": 3,
   "id": "0ce46a1e",
   "metadata": {},
   "outputs": [
    {
     "data": {
      "text/plain": [
       "Index(['   name', 'Character', 'r0le', 'TITLE', '  Type', 'release Year',\n",
       "       'genres', 'imdb sc0re', 'imdb v0tes'],\n",
       "      dtype='object')"
      ]
     },
     "execution_count": 3,
     "metadata": {},
     "output_type": "execute_result"
    }
   ],
   "source": [
    "# List the names of the columns\n",
    "df.columns"
   ]
  },
  {
   "cell_type": "code",
   "execution_count": 4,
   "id": "dd353db0",
   "metadata": {},
   "outputs": [
    {
     "name": "stdout",
     "output_type": "stream",
     "text": [
      "<class 'pandas.core.frame.DataFrame'>\n",
      "RangeIndex: 85579 entries, 0 to 85578\n",
      "Data columns (total 9 columns):\n",
      " #   Column        Non-Null Count  Dtype  \n",
      "---  ------        --------------  -----  \n",
      " 0   name          85579 non-null  object \n",
      " 1   character     85579 non-null  object \n",
      " 2   role          85579 non-null  object \n",
      " 3   title         85578 non-null  object \n",
      " 4   type          85579 non-null  object \n",
      " 5   release_year  85579 non-null  int64  \n",
      " 6   genres        85579 non-null  object \n",
      " 7   imdb_score    80970 non-null  float64\n",
      " 8   imdb_votes    80853 non-null  float64\n",
      "dtypes: float64(2), int64(1), object(6)\n",
      "memory usage: 5.9+ MB\n"
     ]
    }
   ],
   "source": [
    "# Rename columns\n",
    "df = df.rename(columns = {\n",
    "    '   name': 'name',\n",
    "    'Character': 'character', \n",
    "    'r0le': 'role', \n",
    "    'TITLE': 'title', \n",
    "    '  Type': 'type', \n",
    "    'release Year': 'release_year',\n",
    "    'imdb sc0re': 'imdb_score', \n",
    "    'imdb v0tes': 'imdb_votes'\n",
    "})\n",
    "\n",
    "df.info()"
   ]
  },
  {
   "cell_type": "markdown",
   "id": "60b35ccd",
   "metadata": {},
   "source": [
    "### Missing values"
   ]
  },
  {
   "cell_type": "code",
   "execution_count": 5,
   "id": "b92b1ca0",
   "metadata": {},
   "outputs": [
    {
     "data": {
      "text/plain": [
       "name               0\n",
       "character          0\n",
       "role               0\n",
       "title              1\n",
       "type               0\n",
       "release_year       0\n",
       "genres             0\n",
       "imdb_score      4609\n",
       "imdb_votes      4726\n",
       "dtype: int64"
      ]
     },
     "execution_count": 5,
     "metadata": {},
     "output_type": "execute_result"
    }
   ],
   "source": [
    "# Calculating number of missing values\n",
    "df.isna().sum()"
   ]
  },
  {
   "cell_type": "code",
   "execution_count": 6,
   "id": "f3546bb0",
   "metadata": {},
   "outputs": [
    {
     "name": "stdout",
     "output_type": "stream",
     "text": [
      "name            0.0\n",
      "character       0.0\n",
      "role            0.0\n",
      "title           0.0\n",
      "type            0.0\n",
      "release_year    0.0\n",
      "genres          0.0\n",
      "imdb_score      5.0\n",
      "imdb_votes      6.0\n",
      "dtype: float64\n"
     ]
    }
   ],
   "source": [
    "# Checking the percentage of missing values\n",
    "number = df.isnull().sum()/len(df)*100\n",
    "rounded = round(number, 0)\n",
    "print(rounded)"
   ]
  },
  {
   "cell_type": "markdown",
   "id": "73f4bd48",
   "metadata": {},
   "source": [
    "# Conclusion\n",
    "Not all missing values affect the research: the single missing title is not critical. The missing values in column 'imdb_score' and 'imdb_votes' represent around 6% of all records (4,609 and 4,726, respectively, of the total 85,579). This could potential affect our results. To avoid this issue, we will drop all rows with missing values in 'imdb_score' and 'imdb_votes' columns."
   ]
  },
  {
   "cell_type": "code",
   "execution_count": 7,
   "id": "1da0a1c6",
   "metadata": {},
   "outputs": [
    {
     "name": "stdout",
     "output_type": "stream",
     "text": [
      "<class 'pandas.core.frame.DataFrame'>\n",
      "Int64Index: 80853 entries, 0 to 85578\n",
      "Data columns (total 9 columns):\n",
      " #   Column        Non-Null Count  Dtype  \n",
      "---  ------        --------------  -----  \n",
      " 0   name          80853 non-null  object \n",
      " 1   character     80853 non-null  object \n",
      " 2   role          80853 non-null  object \n",
      " 3   title         80853 non-null  object \n",
      " 4   type          80853 non-null  object \n",
      " 5   release_year  80853 non-null  int64  \n",
      " 6   genres        80853 non-null  object \n",
      " 7   imdb_score    80853 non-null  float64\n",
      " 8   imdb_votes    80853 non-null  float64\n",
      "dtypes: float64(2), int64(1), object(6)\n",
      "memory usage: 6.2+ MB\n"
     ]
    }
   ],
   "source": [
    "# Dropping all rows where columns with title, scores, and votes have missing values\n",
    "df = df.dropna(subset=['title', 'imdb_score', 'imdb_votes'])\n",
    "df.info()"
   ]
  },
  {
   "cell_type": "code",
   "execution_count": 8,
   "id": "d2396846",
   "metadata": {},
   "outputs": [
    {
     "data": {
      "text/plain": [
       "name            0\n",
       "character       0\n",
       "role            0\n",
       "title           0\n",
       "type            0\n",
       "release_year    0\n",
       "genres          0\n",
       "imdb_score      0\n",
       "imdb_votes      0\n",
       "dtype: int64"
      ]
     },
     "execution_count": 8,
     "metadata": {},
     "output_type": "execute_result"
    }
   ],
   "source": [
    "# Check for any missing values and count them\n",
    "df.isna().sum()"
   ]
  },
  {
   "cell_type": "markdown",
   "id": "f121f84c",
   "metadata": {},
   "source": [
    "### Duplicates"
   ]
  },
  {
   "cell_type": "code",
   "execution_count": 9,
   "id": "940b5e02",
   "metadata": {},
   "outputs": [
    {
     "data": {
      "text/plain": [
       "6994"
      ]
     },
     "execution_count": 9,
     "metadata": {},
     "output_type": "execute_result"
    }
   ],
   "source": [
    "# Count the number of duplicate rows\n",
    "df.duplicated().sum()"
   ]
  },
  {
   "cell_type": "markdown",
   "id": "6679371e",
   "metadata": {},
   "source": [
    "Review the duplicated rows to determine if removing them would distort our dataset"
   ]
  },
  {
   "cell_type": "code",
   "execution_count": 10,
   "id": "22a42617",
   "metadata": {},
   "outputs": [
    {
     "data": {
      "text/html": [
       "<div>\n",
       "<style scoped>\n",
       "    .dataframe tbody tr th:only-of-type {\n",
       "        vertical-align: middle;\n",
       "    }\n",
       "\n",
       "    .dataframe tbody tr th {\n",
       "        vertical-align: top;\n",
       "    }\n",
       "\n",
       "    .dataframe thead th {\n",
       "        text-align: right;\n",
       "    }\n",
       "</style>\n",
       "<table border=\"1\" class=\"dataframe\">\n",
       "  <thead>\n",
       "    <tr style=\"text-align: right;\">\n",
       "      <th></th>\n",
       "      <th>name</th>\n",
       "      <th>character</th>\n",
       "      <th>role</th>\n",
       "      <th>title</th>\n",
       "      <th>type</th>\n",
       "      <th>release_year</th>\n",
       "      <th>genres</th>\n",
       "      <th>imdb_score</th>\n",
       "      <th>imdb_votes</th>\n",
       "    </tr>\n",
       "  </thead>\n",
       "  <tbody>\n",
       "    <tr>\n",
       "      <th>85569</th>\n",
       "      <td>Jessica Cediel</td>\n",
       "      <td>Liliana Navarro</td>\n",
       "      <td>ACTOR</td>\n",
       "      <td>Lokillo</td>\n",
       "      <td>MOVIE</td>\n",
       "      <td>2021</td>\n",
       "      <td>['comedy']</td>\n",
       "      <td>3.8</td>\n",
       "      <td>68.0</td>\n",
       "    </tr>\n",
       "    <tr>\n",
       "      <th>85570</th>\n",
       "      <td>Javier Gardeaz?­bal</td>\n",
       "      <td>Agust??n \"Peluca\" Ort??z</td>\n",
       "      <td>ACTOR</td>\n",
       "      <td>Lokillo</td>\n",
       "      <td>MOVIE</td>\n",
       "      <td>2021</td>\n",
       "      <td>['comedy']</td>\n",
       "      <td>3.8</td>\n",
       "      <td>68.0</td>\n",
       "    </tr>\n",
       "    <tr>\n",
       "      <th>85571</th>\n",
       "      <td>Carla Giraldo</td>\n",
       "      <td>Valery Reinoso</td>\n",
       "      <td>ACTOR</td>\n",
       "      <td>Lokillo</td>\n",
       "      <td>MOVIE</td>\n",
       "      <td>2021</td>\n",
       "      <td>['comedy']</td>\n",
       "      <td>3.8</td>\n",
       "      <td>68.0</td>\n",
       "    </tr>\n",
       "    <tr>\n",
       "      <th>85572</th>\n",
       "      <td>Ana Mar??a S?­nchez</td>\n",
       "      <td>Lourdes</td>\n",
       "      <td>ACTOR</td>\n",
       "      <td>Lokillo</td>\n",
       "      <td>MOVIE</td>\n",
       "      <td>2021</td>\n",
       "      <td>['comedy']</td>\n",
       "      <td>3.8</td>\n",
       "      <td>68.0</td>\n",
       "    </tr>\n",
       "    <tr>\n",
       "      <th>85577</th>\n",
       "      <td>Isabel Gaona</td>\n",
       "      <td>Cacica</td>\n",
       "      <td>ACTOR</td>\n",
       "      <td>Lokillo</td>\n",
       "      <td>MOVIE</td>\n",
       "      <td>2021</td>\n",
       "      <td>['comedy']</td>\n",
       "      <td>3.8</td>\n",
       "      <td>68.0</td>\n",
       "    </tr>\n",
       "  </tbody>\n",
       "</table>\n",
       "</div>"
      ],
      "text/plain": [
       "                      name                 character   role    title   type  \\\n",
       "85569       Jessica Cediel           Liliana Navarro  ACTOR  Lokillo  MOVIE   \n",
       "85570  Javier Gardeaz?­bal  Agust??n \"Peluca\" Ort??z  ACTOR  Lokillo  MOVIE   \n",
       "85571        Carla Giraldo            Valery Reinoso  ACTOR  Lokillo  MOVIE   \n",
       "85572  Ana Mar??a S?­nchez                   Lourdes  ACTOR  Lokillo  MOVIE   \n",
       "85577         Isabel Gaona                    Cacica  ACTOR  Lokillo  MOVIE   \n",
       "\n",
       "       release_year      genres  imdb_score  imdb_votes  \n",
       "85569          2021  ['comedy']         3.8        68.0  \n",
       "85570          2021  ['comedy']         3.8        68.0  \n",
       "85571          2021  ['comedy']         3.8        68.0  \n",
       "85572          2021  ['comedy']         3.8        68.0  \n",
       "85577          2021  ['comedy']         3.8        68.0  "
      ]
     },
     "execution_count": 10,
     "metadata": {},
     "output_type": "execute_result"
    }
   ],
   "source": [
    "# Produce table with duplicates\n",
    "df_duplicates = df[df.duplicated()]\n",
    "df_duplicates.tail()"
   ]
  },
  {
   "cell_type": "code",
   "execution_count": 11,
   "id": "6293b550",
   "metadata": {},
   "outputs": [],
   "source": [
    "# Removing duplicated rows\n",
    "df = df.drop_duplicates()"
   ]
  },
  {
   "cell_type": "code",
   "execution_count": 12,
   "id": "a728450a",
   "metadata": {},
   "outputs": [
    {
     "data": {
      "text/plain": [
       "0"
      ]
     },
     "execution_count": 12,
     "metadata": {},
     "output_type": "execute_result"
    }
   ],
   "source": [
    "# Check for duplicates and count\n",
    "df.duplicated().sum()"
   ]
  },
  {
   "cell_type": "markdown",
   "id": "ba4665b5",
   "metadata": {},
   "source": [
    "Now get rid of implicit duplicates in the 'type' column. For example, the string 'SHOW' can be written in different ways. These kinds of errors will also affect the result.\n",
    "\n",
    "Print a list of unique 'type' names, sorted in alphabetical order: To do so:\n",
    "\n",
    "    - Retrieve the intended dataframe column\n",
    "    - Apply a sorting method to it\n",
    "    - For the sorted column, call the method that will return all unique column values"
   ]
  },
  {
   "cell_type": "code",
   "execution_count": 13,
   "id": "3bc3b116",
   "metadata": {},
   "outputs": [
    {
     "data": {
      "text/plain": [
       "array(['MOVIE', 'the movie', 'tv show', 'shows', 'movies', 'tv shows',\n",
       "       'tv series', 'tv', 'SHOW'], dtype=object)"
      ]
     },
     "execution_count": 13,
     "metadata": {},
     "output_type": "execute_result"
    }
   ],
   "source": [
    "# Viewing unique type names\n",
    "df['type'].unique()"
   ]
  },
  {
   "cell_type": "code",
   "execution_count": 14,
   "id": "5df54434",
   "metadata": {},
   "outputs": [],
   "source": [
    "# Function to correct the names in the 'type' columns\n",
    "def replace_wrong_show(wrong_show_list, correct_show):\n",
    "    df['type'] = df['type'].replace(wrong_show_list, correct_show)\n",
    "    return df"
   ]
  },
  {
   "cell_type": "markdown",
   "id": "e39c1c8d",
   "metadata": {},
   "source": [
    "Call replace_wrong_show() and pass it the arguments so that it clears implicit duplicates and replaces them with 'SHOW':"
   ]
  },
  {
   "cell_type": "code",
   "execution_count": 15,
   "id": "0d6e5453",
   "metadata": {},
   "outputs": [],
   "source": [
    "# Removing implicit duplicates\n",
    "df = replace_wrong_show(df['type'].unique(), 'SHOW')"
   ]
  },
  {
   "cell_type": "code",
   "execution_count": 16,
   "id": "9ef67d4e",
   "metadata": {},
   "outputs": [
    {
     "data": {
      "text/plain": [
       "array(['SHOW'], dtype=object)"
      ]
     },
     "execution_count": 16,
     "metadata": {},
     "output_type": "execute_result"
    }
   ],
   "source": [
    "# Check for implicit duplicates in the 'type' column\n",
    "df['type'].unique()"
   ]
  },
  {
   "cell_type": "markdown",
   "id": "4ebf6d13",
   "metadata": {},
   "source": [
    "# Conclusion\n",
    "We detected three issues with the data:\n",
    "\n",
    "    1. Incorrect header styles\n",
    "    2. Missing values\n",
    "    3. Duplicated rows and implicit duplicates\n",
    "    \n",
    "The headers have been cleaned up to make preprocessing the table simplier.\n",
    "\n",
    "All rows with missing values have been removed.\n",
    "\n",
    "The absence of duplicates will make the results more precis and easier to understand.\n",
    "\n",
    "Now, we can move on to our analysis of the prepared data."
   ]
  },
  {
   "cell_type": "markdown",
   "id": "9f4b3a03",
   "metadata": {},
   "source": [
    "## Data Analysis "
   ]
  },
  {
   "cell_type": "markdown",
   "id": "7c3a84b4",
   "metadata": {},
   "source": [
    "Based on the previous project stages, you can now define how the assumption will be checked. Calculate the average amount of votes for each score (this data is available in the `imdb_score` and `imdb_votes` columns), and then check how these averages relate to each other. If the averages for shows with the highest scores are bigger than those for shows with lower scores, the assumption appears to be true.\n",
    "\n",
    "Based on this, complete the following steps:\n",
    "\n",
    "- Filter the dataframe to only include shows released in 1999 or later.\n",
    "- Group scores into buckets by rounding the values of the appropriate column (a set of 1-10 integers will help us make the outcome of our calculations more evident without damaging the quality of our research).\n",
    "- Identify outliers among scores based on their number of votes, and exclude scores with few votes.\n",
    "- Calculate the average votes for each score and check whether the assumption matches the results."
   ]
  },
  {
   "cell_type": "markdown",
   "id": "3f4b25a1",
   "metadata": {},
   "source": [
    "To filter the dataframe and only include shows released in 1999 or later, you will take two steps. First, keep only titles published in 1999 or later in our dataframe. Then, filter the table to only contain shows (movies will be removed)."
   ]
  },
  {
   "cell_type": "code",
   "execution_count": 17,
   "id": "8b8365fb",
   "metadata": {},
   "outputs": [
    {
     "data": {
      "text/html": [
       "<div>\n",
       "<style scoped>\n",
       "    .dataframe tbody tr th:only-of-type {\n",
       "        vertical-align: middle;\n",
       "    }\n",
       "\n",
       "    .dataframe tbody tr th {\n",
       "        vertical-align: top;\n",
       "    }\n",
       "\n",
       "    .dataframe thead th {\n",
       "        text-align: right;\n",
       "    }\n",
       "</style>\n",
       "<table border=\"1\" class=\"dataframe\">\n",
       "  <thead>\n",
       "    <tr style=\"text-align: right;\">\n",
       "      <th></th>\n",
       "      <th>name</th>\n",
       "      <th>character</th>\n",
       "      <th>role</th>\n",
       "      <th>title</th>\n",
       "      <th>type</th>\n",
       "      <th>release_year</th>\n",
       "      <th>genres</th>\n",
       "      <th>imdb_score</th>\n",
       "      <th>imdb_votes</th>\n",
       "    </tr>\n",
       "  </thead>\n",
       "  <tbody>\n",
       "    <tr>\n",
       "      <th>1664</th>\n",
       "      <td>Jeff Probst</td>\n",
       "      <td>Himself - Host</td>\n",
       "      <td>ACTOR</td>\n",
       "      <td>Survivor</td>\n",
       "      <td>SHOW</td>\n",
       "      <td>2000</td>\n",
       "      <td>['reality']</td>\n",
       "      <td>7.4</td>\n",
       "      <td>24687.0</td>\n",
       "    </tr>\n",
       "    <tr>\n",
       "      <th>1955</th>\n",
       "      <td>Benicio del Toro</td>\n",
       "      <td>Franky Four Fingers</td>\n",
       "      <td>ACTOR</td>\n",
       "      <td>Snatch</td>\n",
       "      <td>SHOW</td>\n",
       "      <td>2000</td>\n",
       "      <td>['crime', 'comedy']</td>\n",
       "      <td>8.3</td>\n",
       "      <td>841435.0</td>\n",
       "    </tr>\n",
       "    <tr>\n",
       "      <th>1956</th>\n",
       "      <td>Dennis Farina</td>\n",
       "      <td>Cousin Avi</td>\n",
       "      <td>ACTOR</td>\n",
       "      <td>Snatch</td>\n",
       "      <td>SHOW</td>\n",
       "      <td>2000</td>\n",
       "      <td>['crime', 'comedy']</td>\n",
       "      <td>8.3</td>\n",
       "      <td>841435.0</td>\n",
       "    </tr>\n",
       "    <tr>\n",
       "      <th>1957</th>\n",
       "      <td>Vinnie Jones</td>\n",
       "      <td>Bullet Tooth Tony</td>\n",
       "      <td>ACTOR</td>\n",
       "      <td>Snatch</td>\n",
       "      <td>SHOW</td>\n",
       "      <td>2000</td>\n",
       "      <td>['crime', 'comedy']</td>\n",
       "      <td>8.3</td>\n",
       "      <td>841435.0</td>\n",
       "    </tr>\n",
       "    <tr>\n",
       "      <th>1958</th>\n",
       "      <td>Brad Pitt</td>\n",
       "      <td>Mickey O'Neil</td>\n",
       "      <td>ACTOR</td>\n",
       "      <td>Snatch</td>\n",
       "      <td>SHOW</td>\n",
       "      <td>2000</td>\n",
       "      <td>['crime', 'comedy']</td>\n",
       "      <td>8.3</td>\n",
       "      <td>841435.0</td>\n",
       "    </tr>\n",
       "  </tbody>\n",
       "</table>\n",
       "</div>"
      ],
      "text/plain": [
       "                  name            character   role     title  type  \\\n",
       "1664       Jeff Probst       Himself - Host  ACTOR  Survivor  SHOW   \n",
       "1955  Benicio del Toro  Franky Four Fingers  ACTOR    Snatch  SHOW   \n",
       "1956     Dennis Farina           Cousin Avi  ACTOR    Snatch  SHOW   \n",
       "1957      Vinnie Jones    Bullet Tooth Tony  ACTOR    Snatch  SHOW   \n",
       "1958         Brad Pitt        Mickey O'Neil  ACTOR    Snatch  SHOW   \n",
       "\n",
       "      release_year               genres  imdb_score  imdb_votes  \n",
       "1664          2000          ['reality']         7.4     24687.0  \n",
       "1955          2000  ['crime', 'comedy']         8.3    841435.0  \n",
       "1956          2000  ['crime', 'comedy']         8.3    841435.0  \n",
       "1957          2000  ['crime', 'comedy']         8.3    841435.0  \n",
       "1958          2000  ['crime', 'comedy']         8.3    841435.0  "
      ]
     },
     "execution_count": 17,
     "metadata": {},
     "output_type": "execute_result"
    }
   ],
   "source": [
    "# Filter the data so it contains shows released after 1998\n",
    "df_filtered = df[df['release_year'] > 1998]\n",
    "\n",
    "df_filtered.head()"
   ]
  },
  {
   "cell_type": "code",
   "execution_count": 18,
   "id": "b8ea707d",
   "metadata": {},
   "outputs": [
    {
     "data": {
      "text/html": [
       "<div>\n",
       "<style scoped>\n",
       "    .dataframe tbody tr th:only-of-type {\n",
       "        vertical-align: middle;\n",
       "    }\n",
       "\n",
       "    .dataframe tbody tr th {\n",
       "        vertical-align: top;\n",
       "    }\n",
       "\n",
       "    .dataframe thead th {\n",
       "        text-align: right;\n",
       "    }\n",
       "</style>\n",
       "<table border=\"1\" class=\"dataframe\">\n",
       "  <thead>\n",
       "    <tr style=\"text-align: right;\">\n",
       "      <th></th>\n",
       "      <th>name</th>\n",
       "      <th>character</th>\n",
       "      <th>role</th>\n",
       "      <th>title</th>\n",
       "      <th>type</th>\n",
       "      <th>release_year</th>\n",
       "      <th>genres</th>\n",
       "      <th>imdb_score</th>\n",
       "      <th>imdb_votes</th>\n",
       "    </tr>\n",
       "  </thead>\n",
       "  <tbody>\n",
       "    <tr>\n",
       "      <th>1664</th>\n",
       "      <td>Jeff Probst</td>\n",
       "      <td>Himself - Host</td>\n",
       "      <td>ACTOR</td>\n",
       "      <td>Survivor</td>\n",
       "      <td>SHOW</td>\n",
       "      <td>2000</td>\n",
       "      <td>['reality']</td>\n",
       "      <td>7.4</td>\n",
       "      <td>24687.0</td>\n",
       "    </tr>\n",
       "    <tr>\n",
       "      <th>1955</th>\n",
       "      <td>Benicio del Toro</td>\n",
       "      <td>Franky Four Fingers</td>\n",
       "      <td>ACTOR</td>\n",
       "      <td>Snatch</td>\n",
       "      <td>SHOW</td>\n",
       "      <td>2000</td>\n",
       "      <td>['crime', 'comedy']</td>\n",
       "      <td>8.3</td>\n",
       "      <td>841435.0</td>\n",
       "    </tr>\n",
       "    <tr>\n",
       "      <th>1956</th>\n",
       "      <td>Dennis Farina</td>\n",
       "      <td>Cousin Avi</td>\n",
       "      <td>ACTOR</td>\n",
       "      <td>Snatch</td>\n",
       "      <td>SHOW</td>\n",
       "      <td>2000</td>\n",
       "      <td>['crime', 'comedy']</td>\n",
       "      <td>8.3</td>\n",
       "      <td>841435.0</td>\n",
       "    </tr>\n",
       "    <tr>\n",
       "      <th>1957</th>\n",
       "      <td>Vinnie Jones</td>\n",
       "      <td>Bullet Tooth Tony</td>\n",
       "      <td>ACTOR</td>\n",
       "      <td>Snatch</td>\n",
       "      <td>SHOW</td>\n",
       "      <td>2000</td>\n",
       "      <td>['crime', 'comedy']</td>\n",
       "      <td>8.3</td>\n",
       "      <td>841435.0</td>\n",
       "    </tr>\n",
       "    <tr>\n",
       "      <th>1958</th>\n",
       "      <td>Brad Pitt</td>\n",
       "      <td>Mickey O'Neil</td>\n",
       "      <td>ACTOR</td>\n",
       "      <td>Snatch</td>\n",
       "      <td>SHOW</td>\n",
       "      <td>2000</td>\n",
       "      <td>['crime', 'comedy']</td>\n",
       "      <td>8.3</td>\n",
       "      <td>841435.0</td>\n",
       "    </tr>\n",
       "  </tbody>\n",
       "</table>\n",
       "</div>"
      ],
      "text/plain": [
       "                  name            character   role     title  type  \\\n",
       "1664       Jeff Probst       Himself - Host  ACTOR  Survivor  SHOW   \n",
       "1955  Benicio del Toro  Franky Four Fingers  ACTOR    Snatch  SHOW   \n",
       "1956     Dennis Farina           Cousin Avi  ACTOR    Snatch  SHOW   \n",
       "1957      Vinnie Jones    Bullet Tooth Tony  ACTOR    Snatch  SHOW   \n",
       "1958         Brad Pitt        Mickey O'Neil  ACTOR    Snatch  SHOW   \n",
       "\n",
       "      release_year               genres  imdb_score  imdb_votes  \n",
       "1664          2000          ['reality']         7.4     24687.0  \n",
       "1955          2000  ['crime', 'comedy']         8.3    841435.0  \n",
       "1956          2000  ['crime', 'comedy']         8.3    841435.0  \n",
       "1957          2000  ['crime', 'comedy']         8.3    841435.0  \n",
       "1958          2000  ['crime', 'comedy']         8.3    841435.0  "
      ]
     },
     "execution_count": 18,
     "metadata": {},
     "output_type": "execute_result"
    }
   ],
   "source": [
    "# Filter the data so only the SHOWS are in the database\n",
    "df_filtered = df_filtered[df_filtered['type']=='SHOW']\n",
    "\n",
    "df_filtered.head()"
   ]
  },
  {
   "cell_type": "code",
   "execution_count": 24,
   "id": "1ad658fb",
   "metadata": {},
   "outputs": [
    {
     "data": {
      "text/html": [
       "<div>\n",
       "<style scoped>\n",
       "    .dataframe tbody tr th:only-of-type {\n",
       "        vertical-align: middle;\n",
       "    }\n",
       "\n",
       "    .dataframe tbody tr th {\n",
       "        vertical-align: top;\n",
       "    }\n",
       "\n",
       "    .dataframe thead th {\n",
       "        text-align: right;\n",
       "    }\n",
       "</style>\n",
       "<table border=\"1\" class=\"dataframe\">\n",
       "  <thead>\n",
       "    <tr style=\"text-align: right;\">\n",
       "      <th></th>\n",
       "      <th>name</th>\n",
       "      <th>character</th>\n",
       "      <th>role</th>\n",
       "      <th>title</th>\n",
       "      <th>type</th>\n",
       "      <th>release_year</th>\n",
       "      <th>genres</th>\n",
       "      <th>imdb_score</th>\n",
       "      <th>imdb_votes</th>\n",
       "    </tr>\n",
       "  </thead>\n",
       "  <tbody>\n",
       "    <tr>\n",
       "      <th>1664</th>\n",
       "      <td>Jeff Probst</td>\n",
       "      <td>Himself - Host</td>\n",
       "      <td>ACTOR</td>\n",
       "      <td>Survivor</td>\n",
       "      <td>SHOW</td>\n",
       "      <td>2000</td>\n",
       "      <td>['reality']</td>\n",
       "      <td>7.0</td>\n",
       "      <td>24687.0</td>\n",
       "    </tr>\n",
       "    <tr>\n",
       "      <th>1955</th>\n",
       "      <td>Benicio del Toro</td>\n",
       "      <td>Franky Four Fingers</td>\n",
       "      <td>ACTOR</td>\n",
       "      <td>Snatch</td>\n",
       "      <td>SHOW</td>\n",
       "      <td>2000</td>\n",
       "      <td>['crime', 'comedy']</td>\n",
       "      <td>8.0</td>\n",
       "      <td>841435.0</td>\n",
       "    </tr>\n",
       "    <tr>\n",
       "      <th>1956</th>\n",
       "      <td>Dennis Farina</td>\n",
       "      <td>Cousin Avi</td>\n",
       "      <td>ACTOR</td>\n",
       "      <td>Snatch</td>\n",
       "      <td>SHOW</td>\n",
       "      <td>2000</td>\n",
       "      <td>['crime', 'comedy']</td>\n",
       "      <td>8.0</td>\n",
       "      <td>841435.0</td>\n",
       "    </tr>\n",
       "    <tr>\n",
       "      <th>1957</th>\n",
       "      <td>Vinnie Jones</td>\n",
       "      <td>Bullet Tooth Tony</td>\n",
       "      <td>ACTOR</td>\n",
       "      <td>Snatch</td>\n",
       "      <td>SHOW</td>\n",
       "      <td>2000</td>\n",
       "      <td>['crime', 'comedy']</td>\n",
       "      <td>8.0</td>\n",
       "      <td>841435.0</td>\n",
       "    </tr>\n",
       "    <tr>\n",
       "      <th>1958</th>\n",
       "      <td>Brad Pitt</td>\n",
       "      <td>Mickey O'Neil</td>\n",
       "      <td>ACTOR</td>\n",
       "      <td>Snatch</td>\n",
       "      <td>SHOW</td>\n",
       "      <td>2000</td>\n",
       "      <td>['crime', 'comedy']</td>\n",
       "      <td>8.0</td>\n",
       "      <td>841435.0</td>\n",
       "    </tr>\n",
       "  </tbody>\n",
       "</table>\n",
       "</div>"
      ],
      "text/plain": [
       "                  name            character   role     title  type  \\\n",
       "1664       Jeff Probst       Himself - Host  ACTOR  Survivor  SHOW   \n",
       "1955  Benicio del Toro  Franky Four Fingers  ACTOR    Snatch  SHOW   \n",
       "1956     Dennis Farina           Cousin Avi  ACTOR    Snatch  SHOW   \n",
       "1957      Vinnie Jones    Bullet Tooth Tony  ACTOR    Snatch  SHOW   \n",
       "1958         Brad Pitt        Mickey O'Neil  ACTOR    Snatch  SHOW   \n",
       "\n",
       "      release_year               genres  imdb_score  imdb_votes  \n",
       "1664          2000          ['reality']         7.0     24687.0  \n",
       "1955          2000  ['crime', 'comedy']         8.0    841435.0  \n",
       "1956          2000  ['crime', 'comedy']         8.0    841435.0  \n",
       "1957          2000  ['crime', 'comedy']         8.0    841435.0  \n",
       "1958          2000  ['crime', 'comedy']         8.0    841435.0  "
      ]
     },
     "execution_count": 24,
     "metadata": {},
     "output_type": "execute_result"
    }
   ],
   "source": [
    "# Round imdb score to nearest whole number\n",
    "df_filtered['imdb_score'] = df_filtered['imdb_score'].round()\n",
    "\n",
    "df_filtered.head()"
   ]
  },
  {
   "cell_type": "markdown",
   "id": "e38333ae",
   "metadata": {},
   "source": [
    "It's time to identify outliers based on the number of votes."
   ]
  },
  {
   "cell_type": "code",
   "execution_count": 21,
   "id": "10f91e9b",
   "metadata": {},
   "outputs": [
    {
     "name": "stdout",
     "output_type": "stream",
     "text": [
      "imdb_score\n",
      "2.0       207\n",
      "3.0       562\n",
      "4.0      3169\n",
      "5.0      8926\n",
      "6.0     23201\n",
      "7.0     21517\n",
      "8.0     11568\n",
      "9.0       723\n",
      "10.0        8\n",
      "dtype: int64\n"
     ]
    }
   ],
   "source": [
    "# Use groupby() for scores and count all unique values in each group, print the result\n",
    "unique_count = df_filtered.groupby('imdb_score').size()\n",
    "\n",
    "print(unique_count)"
   ]
  },
  {
   "cell_type": "markdown",
   "id": "a6b60e8f",
   "metadata": {},
   "source": [
    "Based on the aggregation performed, it is evident that scores 2 (207 voted shows), 3 (562 voted shows), 9 (723 voted shows), and 10 (only 8 voted shows) are outliers. There isn't enough data for these scores for the average number of votes to be meaningful."
   ]
  },
  {
   "cell_type": "markdown",
   "id": "1c206318",
   "metadata": {},
   "source": [
    "To obtain the mean numbers of votes for the selected scores (we identified a range of 4-8 as acceptable), use conditional filtering and grouping."
   ]
  },
  {
   "cell_type": "code",
   "execution_count": 26,
   "id": "aa74ed78",
   "metadata": {},
   "outputs": [],
   "source": [
    "# Filter dataframe using two conditions (scores to be in the range 4-8)\n",
    "df_filtered = df_filtered[(df_filtered['imdb_score'] > 3) & (df_filtered['imdb_score'] < 9)]"
   ]
  },
  {
   "cell_type": "code",
   "execution_count": 27,
   "id": "053412ef",
   "metadata": {},
   "outputs": [],
   "source": [
    "# Group scores and corresponding average number of votes, reset index and print the result\n",
    "result = df_filtered.groupby('imdb_score')['imdb_votes'].mean().reset_index()"
   ]
  },
  {
   "cell_type": "code",
   "execution_count": 31,
   "id": "dfe55f4a",
   "metadata": {
    "scrolled": true
   },
   "outputs": [
    {
     "data": {
      "text/html": [
       "<div>\n",
       "<style scoped>\n",
       "    .dataframe tbody tr th:only-of-type {\n",
       "        vertical-align: middle;\n",
       "    }\n",
       "\n",
       "    .dataframe tbody tr th {\n",
       "        vertical-align: top;\n",
       "    }\n",
       "\n",
       "    .dataframe thead th {\n",
       "        text-align: right;\n",
       "    }\n",
       "</style>\n",
       "<table border=\"1\" class=\"dataframe\">\n",
       "  <thead>\n",
       "    <tr style=\"text-align: right;\">\n",
       "      <th></th>\n",
       "      <th>name</th>\n",
       "      <th>character</th>\n",
       "      <th>role</th>\n",
       "      <th>title</th>\n",
       "      <th>type</th>\n",
       "      <th>release_year</th>\n",
       "      <th>genres</th>\n",
       "      <th>imdb_score</th>\n",
       "      <th>imdb_votes</th>\n",
       "    </tr>\n",
       "  </thead>\n",
       "  <tbody>\n",
       "    <tr>\n",
       "      <th>1664</th>\n",
       "      <td>Jeff Probst</td>\n",
       "      <td>Himself - Host</td>\n",
       "      <td>ACTOR</td>\n",
       "      <td>Survivor</td>\n",
       "      <td>SHOW</td>\n",
       "      <td>2000</td>\n",
       "      <td>['reality']</td>\n",
       "      <td>7.0</td>\n",
       "      <td>24687.0</td>\n",
       "    </tr>\n",
       "    <tr>\n",
       "      <th>1955</th>\n",
       "      <td>Benicio del Toro</td>\n",
       "      <td>Franky Four Fingers</td>\n",
       "      <td>ACTOR</td>\n",
       "      <td>Snatch</td>\n",
       "      <td>SHOW</td>\n",
       "      <td>2000</td>\n",
       "      <td>['crime', 'comedy']</td>\n",
       "      <td>8.0</td>\n",
       "      <td>841435.0</td>\n",
       "    </tr>\n",
       "    <tr>\n",
       "      <th>1956</th>\n",
       "      <td>Dennis Farina</td>\n",
       "      <td>Cousin Avi</td>\n",
       "      <td>ACTOR</td>\n",
       "      <td>Snatch</td>\n",
       "      <td>SHOW</td>\n",
       "      <td>2000</td>\n",
       "      <td>['crime', 'comedy']</td>\n",
       "      <td>8.0</td>\n",
       "      <td>841435.0</td>\n",
       "    </tr>\n",
       "    <tr>\n",
       "      <th>1957</th>\n",
       "      <td>Vinnie Jones</td>\n",
       "      <td>Bullet Tooth Tony</td>\n",
       "      <td>ACTOR</td>\n",
       "      <td>Snatch</td>\n",
       "      <td>SHOW</td>\n",
       "      <td>2000</td>\n",
       "      <td>['crime', 'comedy']</td>\n",
       "      <td>8.0</td>\n",
       "      <td>841435.0</td>\n",
       "    </tr>\n",
       "    <tr>\n",
       "      <th>1958</th>\n",
       "      <td>Brad Pitt</td>\n",
       "      <td>Mickey O'Neil</td>\n",
       "      <td>ACTOR</td>\n",
       "      <td>Snatch</td>\n",
       "      <td>SHOW</td>\n",
       "      <td>2000</td>\n",
       "      <td>['crime', 'comedy']</td>\n",
       "      <td>8.0</td>\n",
       "      <td>841435.0</td>\n",
       "    </tr>\n",
       "  </tbody>\n",
       "</table>\n",
       "</div>"
      ],
      "text/plain": [
       "                  name            character   role     title  type  \\\n",
       "1664       Jeff Probst       Himself - Host  ACTOR  Survivor  SHOW   \n",
       "1955  Benicio del Toro  Franky Four Fingers  ACTOR    Snatch  SHOW   \n",
       "1956     Dennis Farina           Cousin Avi  ACTOR    Snatch  SHOW   \n",
       "1957      Vinnie Jones    Bullet Tooth Tony  ACTOR    Snatch  SHOW   \n",
       "1958         Brad Pitt        Mickey O'Neil  ACTOR    Snatch  SHOW   \n",
       "\n",
       "      release_year               genres  imdb_score  imdb_votes  \n",
       "1664          2000          ['reality']         7.0     24687.0  \n",
       "1955          2000  ['crime', 'comedy']         8.0    841435.0  \n",
       "1956          2000  ['crime', 'comedy']         8.0    841435.0  \n",
       "1957          2000  ['crime', 'comedy']         8.0    841435.0  \n",
       "1958          2000  ['crime', 'comedy']         8.0    841435.0  "
      ]
     },
     "execution_count": 31,
     "metadata": {},
     "output_type": "execute_result"
    }
   ],
   "source": [
    "df_filtered.head()"
   ]
  },
  {
   "cell_type": "code",
   "execution_count": 32,
   "id": "93fcd075",
   "metadata": {},
   "outputs": [
    {
     "data": {
      "text/html": [
       "<div>\n",
       "<style scoped>\n",
       "    .dataframe tbody tr th:only-of-type {\n",
       "        vertical-align: middle;\n",
       "    }\n",
       "\n",
       "    .dataframe tbody tr th {\n",
       "        vertical-align: top;\n",
       "    }\n",
       "\n",
       "    .dataframe thead th {\n",
       "        text-align: right;\n",
       "    }\n",
       "</style>\n",
       "<table border=\"1\" class=\"dataframe\">\n",
       "  <thead>\n",
       "    <tr style=\"text-align: right;\">\n",
       "      <th></th>\n",
       "      <th>imdb_score</th>\n",
       "      <th>imdb_votes</th>\n",
       "    </tr>\n",
       "  </thead>\n",
       "  <tbody>\n",
       "    <tr>\n",
       "      <th>0</th>\n",
       "      <td>4.0</td>\n",
       "      <td>8699.529820</td>\n",
       "    </tr>\n",
       "    <tr>\n",
       "      <th>1</th>\n",
       "      <td>5.0</td>\n",
       "      <td>14236.204123</td>\n",
       "    </tr>\n",
       "    <tr>\n",
       "      <th>2</th>\n",
       "      <td>6.0</td>\n",
       "      <td>28807.336192</td>\n",
       "    </tr>\n",
       "    <tr>\n",
       "      <th>3</th>\n",
       "      <td>7.0</td>\n",
       "      <td>51308.138542</td>\n",
       "    </tr>\n",
       "    <tr>\n",
       "      <th>4</th>\n",
       "      <td>8.0</td>\n",
       "      <td>145532.023081</td>\n",
       "    </tr>\n",
       "  </tbody>\n",
       "</table>\n",
       "</div>"
      ],
      "text/plain": [
       "   imdb_score     imdb_votes\n",
       "0         4.0    8699.529820\n",
       "1         5.0   14236.204123\n",
       "2         6.0   28807.336192\n",
       "3         7.0   51308.138542\n",
       "4         8.0  145532.023081"
      ]
     },
     "execution_count": 32,
     "metadata": {},
     "output_type": "execute_result"
    }
   ],
   "source": [
    "result.head()"
   ]
  },
  {
   "cell_type": "markdown",
   "id": "290e5497",
   "metadata": {},
   "source": [
    "Now for the final step! Round the column with the averages, rename both columns, and print the dataframe in descending order."
   ]
  },
  {
   "cell_type": "code",
   "execution_count": 34,
   "id": "bd8f90f9",
   "metadata": {},
   "outputs": [
    {
     "name": "stdout",
     "output_type": "stream",
     "text": [
      "   imdb_score  AverageVotes\n",
      "4         8.0      145532.0\n",
      "3         7.0       51308.0\n",
      "2         6.0       28807.0\n",
      "1         5.0       14236.0\n",
      "0         4.0        8700.0\n"
     ]
    }
   ],
   "source": [
    "# Rename columns\n",
    "result.columns = ['imdb_score', 'AverageVotes']\n",
    "\n",
    "# Round to nearest whole number\n",
    "result['AverageVotes'] = result['AverageVotes'].round()\n",
    "\n",
    "# Print dataframe in descending order\n",
    "result = result.sort_values(by='AverageVotes', ascending=False)\n",
    "\n",
    "print(result)"
   ]
  },
  {
   "cell_type": "markdown",
   "id": "f7d44a3c",
   "metadata": {},
   "source": [
    "The assumption macthes the analysis: the shows with the top 3 scores have the most amounts of votes."
   ]
  },
  {
   "cell_type": "markdown",
   "id": "2e78b0f6",
   "metadata": {},
   "source": [
    "# Final Conclusion with Step-by-Step Overview\n",
    "\n",
    "\n",
    "### ✅ Final Conclusion\n",
    "\n",
    "This analysis set out to investigate a key question:  \n",
    "**Do the highest-rated TV shows from the \"Golden Age\" of television (1999–present) also receive the most votes on IMDb?**\n",
    "\n",
    "To answer this, we followed a structured data analysis process. Below is an overview of the steps and our findings:\n",
    "\n",
    "---\n",
    "\n",
    "### 🔍 Step-by-Step Overview\n",
    "\n",
    "1. **Data Overview**\n",
    "   - Loaded the dataset and examined structure and content.\n",
    "   - Identified missing values, duplicates, and formatting issues.\n",
    "\n",
    "2. **Data Preprocessing**\n",
    "   - Cleaned column headers and removed rows with missing or unreliable data.\n",
    "   - Eliminated duplicate and inconsistent entries, especially in the `type` column.\n",
    "   - Filtered the dataset to include only **TV shows** released from **1999 onward**.\n",
    "\n",
    "3. **Data Analysis**\n",
    "   - Grouped IMDb scores into whole numbers (e.g., 7.4 → 7) for clarity.\n",
    "   - Excluded outlier scores with insufficient vote data (scores 1, 2, 3, 9, and 10 had too little votes).\n",
    "   - Calculated the **average number of votes** per IMDb score.\n",
    "   - Sorted results to determine which scores had the highest engagement.\n",
    "\n",
    "---\n",
    "\n",
    "### 📈 Key Finding\n",
    "\n",
    "- TV shows with **higher IMDb scores (7 and 8)** have the **highest average number of votes**.\n",
    "- This pattern confirms the assumption that **highly-rated shows also receive more audience engagement**.\n",
    "\n",
    "---\n",
    "\n",
    "### 📌 Business Insight\n",
    "\n",
    "This insight can support content investment decisions by highlighting that:\n",
    "- Viewers are more likely to engage (via voting) with higher-quality content.\n",
    "- IMDb ratings and vote counts can serve as reliable proxies for show popularity and reach.\n",
    "\n",
    "As a result, studios, platforms, and marketers should prioritize promoting or acquiring **top-rated content**, especially those rated **7 and above**, to maximize audience interest and platform engagement.\n",
    "\"\"\")\n"
   ]
  }
 ],
 "metadata": {
  "ExecuteTimeLog": [
   {
    "duration": 298,
    "start_time": "2025-07-16T11:46:40.677Z"
   },
   {
    "duration": 147,
    "start_time": "2025-07-16T11:47:42.377Z"
   },
   {
    "duration": 130,
    "start_time": "2025-07-16T11:47:54.535Z"
   },
   {
    "duration": 6,
    "start_time": "2025-07-16T11:48:56.030Z"
   },
   {
    "duration": 141,
    "start_time": "2025-07-16T11:49:11.394Z"
   },
   {
    "duration": 135,
    "start_time": "2025-07-16T11:50:18.488Z"
   },
   {
    "duration": 133,
    "start_time": "2025-07-16T11:50:27.632Z"
   },
   {
    "duration": 131,
    "start_time": "2025-07-16T11:50:37.599Z"
   },
   {
    "duration": 20,
    "start_time": "2025-07-16T12:01:23.777Z"
   },
   {
    "duration": 15,
    "start_time": "2025-07-16T12:01:35.131Z"
   },
   {
    "duration": 546,
    "start_time": "2025-07-16T12:04:05.734Z"
   },
   {
    "duration": 16,
    "start_time": "2025-07-16T12:04:28.817Z"
   },
   {
    "duration": 46,
    "start_time": "2025-07-16T12:05:00.345Z"
   },
   {
    "duration": 17,
    "start_time": "2025-07-16T12:05:28.889Z"
   },
   {
    "duration": 57,
    "start_time": "2025-07-16T12:07:03.089Z"
   },
   {
    "duration": 43,
    "start_time": "2025-07-16T12:07:55.843Z"
   },
   {
    "duration": 109,
    "start_time": "2025-07-16T12:08:03.224Z"
   },
   {
    "duration": 16,
    "start_time": "2025-07-16T12:08:29.348Z"
   },
   {
    "duration": 3,
    "start_time": "2025-07-16T12:11:54.209Z"
   },
   {
    "duration": 8,
    "start_time": "2025-07-16T12:15:39.176Z"
   },
   {
    "duration": 26,
    "start_time": "2025-07-16T12:15:51.753Z"
   },
   {
    "duration": 20,
    "start_time": "2025-07-16T12:19:17.551Z"
   },
   {
    "duration": 20,
    "start_time": "2025-07-16T12:20:14.977Z"
   },
   {
    "duration": 22,
    "start_time": "2025-07-16T12:20:44.052Z"
   },
   {
    "duration": 20,
    "start_time": "2025-07-16T12:23:03.066Z"
   },
   {
    "duration": 20,
    "start_time": "2025-07-16T12:23:18.165Z"
   },
   {
    "duration": 201,
    "start_time": "2025-07-16T12:23:31.169Z"
   },
   {
    "duration": 21,
    "start_time": "2025-07-16T12:23:46.989Z"
   },
   {
    "duration": 20,
    "start_time": "2025-07-16T12:24:00.889Z"
   },
   {
    "duration": 14,
    "start_time": "2025-07-16T12:29:07.433Z"
   },
   {
    "duration": 31,
    "start_time": "2025-07-16T12:29:17.272Z"
   },
   {
    "duration": 26,
    "start_time": "2025-07-16T12:30:25.548Z"
   },
   {
    "duration": 19,
    "start_time": "2025-07-16T12:30:38.340Z"
   },
   {
    "duration": 19,
    "start_time": "2025-07-16T12:31:00.638Z"
   },
   {
    "duration": 40,
    "start_time": "2025-07-16T12:31:57.473Z"
   },
   {
    "duration": 46,
    "start_time": "2025-07-16T12:37:31.979Z"
   },
   {
    "duration": 46,
    "start_time": "2025-07-16T12:37:42.769Z"
   },
   {
    "duration": 45,
    "start_time": "2025-07-16T12:37:50.009Z"
   },
   {
    "duration": 47,
    "start_time": "2025-07-16T12:39:10.008Z"
   },
   {
    "duration": 44,
    "start_time": "2025-07-16T12:39:57.843Z"
   },
   {
    "duration": 40,
    "start_time": "2025-07-16T12:40:46.474Z"
   },
   {
    "duration": 6,
    "start_time": "2025-07-16T12:45:05.349Z"
   },
   {
    "duration": 3,
    "start_time": "2025-07-16T12:48:56.692Z"
   },
   {
    "duration": 20,
    "start_time": "2025-07-16T12:51:06.557Z"
   },
   {
    "duration": 6,
    "start_time": "2025-07-16T12:51:34.516Z"
   },
   {
    "duration": 7,
    "start_time": "2025-07-16T13:03:44.589Z"
   },
   {
    "duration": 14,
    "start_time": "2025-07-16T13:04:08.955Z"
   },
   {
    "duration": 18,
    "start_time": "2025-07-16T13:05:50.227Z"
   },
   {
    "duration": 288,
    "start_time": "2025-07-16T13:06:34.015Z"
   },
   {
    "duration": 143,
    "start_time": "2025-07-16T13:06:34.305Z"
   },
   {
    "duration": 5,
    "start_time": "2025-07-16T13:06:34.450Z"
   },
   {
    "duration": 26,
    "start_time": "2025-07-16T13:06:34.457Z"
   },
   {
    "duration": 36,
    "start_time": "2025-07-16T13:06:34.484Z"
   },
   {
    "duration": 19,
    "start_time": "2025-07-16T13:06:34.522Z"
   },
   {
    "duration": 30,
    "start_time": "2025-07-16T13:06:34.543Z"
   },
   {
    "duration": 17,
    "start_time": "2025-07-16T13:06:34.575Z"
   },
   {
    "duration": 61,
    "start_time": "2025-07-16T13:06:34.593Z"
   },
   {
    "duration": 45,
    "start_time": "2025-07-16T13:06:34.657Z"
   },
   {
    "duration": 55,
    "start_time": "2025-07-16T13:06:34.703Z"
   },
   {
    "duration": 36,
    "start_time": "2025-07-16T13:06:34.759Z"
   },
   {
    "duration": 6,
    "start_time": "2025-07-16T13:06:34.796Z"
   },
   {
    "duration": 18,
    "start_time": "2025-07-16T13:06:34.803Z"
   },
   {
    "duration": 20,
    "start_time": "2025-07-16T13:06:34.824Z"
   },
   {
    "duration": 6,
    "start_time": "2025-07-16T13:06:34.846Z"
   },
   {
    "duration": 13,
    "start_time": "2025-07-16T13:06:34.854Z"
   },
   {
    "duration": 15,
    "start_time": "2025-07-16T13:06:34.869Z"
   },
   {
    "duration": 10,
    "start_time": "2025-07-16T13:08:44.278Z"
   },
   {
    "duration": 4,
    "start_time": "2025-07-16T13:10:40.117Z"
   },
   {
    "duration": 5,
    "start_time": "2025-07-16T13:10:52.340Z"
   },
   {
    "duration": 13,
    "start_time": "2025-07-16T13:13:55.403Z"
   },
   {
    "duration": 12,
    "start_time": "2025-07-16T13:14:04.835Z"
   },
   {
    "duration": 10,
    "start_time": "2025-07-16T13:14:20.290Z"
   },
   {
    "duration": 4,
    "start_time": "2025-07-16T13:16:05.945Z"
   },
   {
    "duration": 9,
    "start_time": "2025-07-16T13:21:35.642Z"
   },
   {
    "duration": 5,
    "start_time": "2025-07-16T13:23:08.570Z"
   },
   {
    "duration": 9,
    "start_time": "2025-07-16T13:24:45.230Z"
   },
   {
    "duration": 222,
    "start_time": "2025-07-16T13:24:55.191Z"
   },
   {
    "duration": 10,
    "start_time": "2025-07-16T13:25:00.209Z"
   },
   {
    "duration": 9,
    "start_time": "2025-07-16T13:25:10.714Z"
   },
   {
    "duration": 6,
    "start_time": "2025-07-16T13:27:47.861Z"
   },
   {
    "duration": 5,
    "start_time": "2025-07-16T13:31:31.070Z"
   },
   {
    "duration": 7,
    "start_time": "2025-07-16T13:32:46.829Z"
   }
  ],
  "kernelspec": {
   "display_name": "Python 3 (ipykernel)",
   "language": "python",
   "name": "python3"
  },
  "language_info": {
   "codemirror_mode": {
    "name": "ipython",
    "version": 3
   },
   "file_extension": ".py",
   "mimetype": "text/x-python",
   "name": "python",
   "nbconvert_exporter": "python",
   "pygments_lexer": "ipython3",
   "version": "3.9.19"
  },
  "toc": {
   "base_numbering": 1,
   "nav_menu": {},
   "number_sections": true,
   "sideBar": true,
   "skip_h1_title": true,
   "title_cell": "Table of Contents",
   "title_sidebar": "Contents",
   "toc_cell": false,
   "toc_position": {},
   "toc_section_display": true,
   "toc_window_display": false
  }
 },
 "nbformat": 4,
 "nbformat_minor": 5
}
